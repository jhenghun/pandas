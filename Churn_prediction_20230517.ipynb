{
 "cells": [
  {
   "cell_type": "markdown",
   "metadata": {},
   "source": [
    "# 기계학습 활용 고객이탈예측 튜토리얼"
   ]
  },
  {
   "cell_type": "markdown",
   "metadata": {},
   "source": [
    "## 필수 라이브러리 준비"
   ]
  },
  {
   "cell_type": "code",
   "execution_count": 1,
   "metadata": {
    "ExecuteTime": {
     "end_time": "2022-11-10T01:52:50.472619Z",
     "start_time": "2022-11-10T01:52:49.855632Z"
    }
   },
   "outputs": [],
   "source": [
    "import os\n",
    "import numpy as np\n",
    "import pandas as pd"
   ]
  },
  {
   "cell_type": "markdown",
   "metadata": {},
   "source": [
    "# 1. 데이터 준비\n",
    "- 데이터 읽어오기\n",
    "- 데이터 병합\n",
    "- 데이터 인코딩\n",
    "- 결측치 제거\n",
    "- 데이터 밸런싱\n",
    "- 데이터 분리"
   ]
  },
  {
   "cell_type": "markdown",
   "metadata": {},
   "source": [
    "## 데이터 읽어오기\n",
    "- Customer data\n",
    "- Transaction data"
   ]
  },
  {
   "cell_type": "code",
   "execution_count": 2,
   "metadata": {
    "ExecuteTime": {
     "end_time": "2022-11-10T01:52:51.434384Z",
     "start_time": "2022-11-10T01:52:50.667905Z"
    }
   },
   "outputs": [
    {
     "data": {
      "text/html": [
       "<div>\n",
       "<style scoped>\n",
       "    .dataframe tbody tr th:only-of-type {\n",
       "        vertical-align: middle;\n",
       "    }\n",
       "\n",
       "    .dataframe tbody tr th {\n",
       "        vertical-align: top;\n",
       "    }\n",
       "\n",
       "    .dataframe thead th {\n",
       "        text-align: right;\n",
       "    }\n",
       "</style>\n",
       "<table border=\"1\" class=\"dataframe\">\n",
       "  <thead>\n",
       "    <tr style=\"text-align: right;\">\n",
       "      <th></th>\n",
       "      <th>고객ID</th>\n",
       "      <th>성별</th>\n",
       "      <th>연령</th>\n",
       "      <th>개시일</th>\n",
       "      <th>서비스기간</th>\n",
       "      <th>단선횟수</th>\n",
       "      <th>지불방법</th>\n",
       "      <th>요금제</th>\n",
       "      <th>핸드셋</th>\n",
       "    </tr>\n",
       "  </thead>\n",
       "  <tbody>\n",
       "    <tr>\n",
       "      <th>0</th>\n",
       "      <td>K100010</td>\n",
       "      <td>남</td>\n",
       "      <td>46</td>\n",
       "      <td>18/07/99</td>\n",
       "      <td>15.066667</td>\n",
       "      <td>1</td>\n",
       "      <td>선불</td>\n",
       "      <td>CAT50</td>\n",
       "      <td>SOP10</td>\n",
       "    </tr>\n",
       "    <tr>\n",
       "      <th>1</th>\n",
       "      <td>K100020</td>\n",
       "      <td>남</td>\n",
       "      <td>27</td>\n",
       "      <td>18/09/97</td>\n",
       "      <td>37.333333</td>\n",
       "      <td>0</td>\n",
       "      <td>선불</td>\n",
       "      <td>CAT50</td>\n",
       "      <td>SOP10</td>\n",
       "    </tr>\n",
       "    <tr>\n",
       "      <th>2</th>\n",
       "      <td>K100030</td>\n",
       "      <td>남</td>\n",
       "      <td>39</td>\n",
       "      <td>23/08/96</td>\n",
       "      <td>50.366667</td>\n",
       "      <td>2</td>\n",
       "      <td>선불</td>\n",
       "      <td>CAT50</td>\n",
       "      <td>SOP20</td>\n",
       "    </tr>\n",
       "    <tr>\n",
       "      <th>3</th>\n",
       "      <td>K100040</td>\n",
       "      <td>남</td>\n",
       "      <td>28</td>\n",
       "      <td>18/08/98</td>\n",
       "      <td>26.200000</td>\n",
       "      <td>2</td>\n",
       "      <td>선불</td>\n",
       "      <td>CAT50</td>\n",
       "      <td>SOP10</td>\n",
       "    </tr>\n",
       "    <tr>\n",
       "      <th>4</th>\n",
       "      <td>K100050</td>\n",
       "      <td>남</td>\n",
       "      <td>47</td>\n",
       "      <td>11/08/98</td>\n",
       "      <td>26.433333</td>\n",
       "      <td>0</td>\n",
       "      <td>선불</td>\n",
       "      <td>CAT50</td>\n",
       "      <td>SOP10</td>\n",
       "    </tr>\n",
       "  </tbody>\n",
       "</table>\n",
       "</div>"
      ],
      "text/plain": [
       "      고객ID 성별  연령       개시일      서비스기간  단선횟수 지불방법    요금제    핸드셋\n",
       "0  K100010  남  46  18/07/99  15.066667     1   선불  CAT50  SOP10\n",
       "1  K100020  남  27  18/09/97  37.333333     0   선불  CAT50  SOP10\n",
       "2  K100030  남  39  23/08/96  50.366667     2   선불  CAT50  SOP20\n",
       "3  K100040  남  28  18/08/98  26.200000     2   선불  CAT50  SOP10\n",
       "4  K100050  남  47  11/08/98  26.433333     0   선불  CAT50  SOP10"
      ]
     },
     "execution_count": 2,
     "metadata": {},
     "output_type": "execute_result"
    }
   ],
   "source": [
    "file_path1 = r\"C:\\Users\\Simon\\Dropbox\\10_강의\\[2022-2] 한양대_차경진_교수님_특강\\강의자료\\churning_customers.csv\"\n",
    "\n",
    "customer_df = pd.read_csv(file_path1, encoding='cp949')\n",
    "customer_df.head()"
   ]
  },
  {
   "cell_type": "code",
   "execution_count": 3,
   "metadata": {
    "ExecuteTime": {
     "end_time": "2022-11-10T01:53:02.910189Z",
     "start_time": "2022-11-10T01:53:02.899193Z"
    }
   },
   "outputs": [
    {
     "data": {
      "text/plain": [
       "(20000, 9)"
      ]
     },
     "execution_count": 3,
     "metadata": {},
     "output_type": "execute_result"
    }
   ],
   "source": [
    "customer_df.shape"
   ]
  },
  {
   "cell_type": "code",
   "execution_count": 4,
   "metadata": {
    "ExecuteTime": {
     "end_time": "2022-11-10T01:53:03.204398Z",
     "start_time": "2022-11-10T01:53:03.187248Z"
    }
   },
   "outputs": [],
   "source": [
    "customer_df.drop(['개시일', '지불방법', '핸드셋'], axis=1, inplace=True)"
   ]
  },
  {
   "cell_type": "code",
   "execution_count": 5,
   "metadata": {
    "ExecuteTime": {
     "end_time": "2022-11-10T01:53:03.468544Z",
     "start_time": "2022-11-10T01:53:03.451589Z"
    }
   },
   "outputs": [
    {
     "data": {
      "text/html": [
       "<div>\n",
       "<style scoped>\n",
       "    .dataframe tbody tr th:only-of-type {\n",
       "        vertical-align: middle;\n",
       "    }\n",
       "\n",
       "    .dataframe tbody tr th {\n",
       "        vertical-align: top;\n",
       "    }\n",
       "\n",
       "    .dataframe thead th {\n",
       "        text-align: right;\n",
       "    }\n",
       "</style>\n",
       "<table border=\"1\" class=\"dataframe\">\n",
       "  <thead>\n",
       "    <tr style=\"text-align: right;\">\n",
       "      <th></th>\n",
       "      <th>고객ID</th>\n",
       "      <th>성별</th>\n",
       "      <th>연령</th>\n",
       "      <th>서비스기간</th>\n",
       "      <th>단선횟수</th>\n",
       "      <th>요금제</th>\n",
       "    </tr>\n",
       "  </thead>\n",
       "  <tbody>\n",
       "    <tr>\n",
       "      <th>0</th>\n",
       "      <td>K100010</td>\n",
       "      <td>남</td>\n",
       "      <td>46</td>\n",
       "      <td>15.066667</td>\n",
       "      <td>1</td>\n",
       "      <td>CAT50</td>\n",
       "    </tr>\n",
       "    <tr>\n",
       "      <th>1</th>\n",
       "      <td>K100020</td>\n",
       "      <td>남</td>\n",
       "      <td>27</td>\n",
       "      <td>37.333333</td>\n",
       "      <td>0</td>\n",
       "      <td>CAT50</td>\n",
       "    </tr>\n",
       "    <tr>\n",
       "      <th>2</th>\n",
       "      <td>K100030</td>\n",
       "      <td>남</td>\n",
       "      <td>39</td>\n",
       "      <td>50.366667</td>\n",
       "      <td>2</td>\n",
       "      <td>CAT50</td>\n",
       "    </tr>\n",
       "    <tr>\n",
       "      <th>3</th>\n",
       "      <td>K100040</td>\n",
       "      <td>남</td>\n",
       "      <td>28</td>\n",
       "      <td>26.200000</td>\n",
       "      <td>2</td>\n",
       "      <td>CAT50</td>\n",
       "    </tr>\n",
       "    <tr>\n",
       "      <th>4</th>\n",
       "      <td>K100050</td>\n",
       "      <td>남</td>\n",
       "      <td>47</td>\n",
       "      <td>26.433333</td>\n",
       "      <td>0</td>\n",
       "      <td>CAT50</td>\n",
       "    </tr>\n",
       "  </tbody>\n",
       "</table>\n",
       "</div>"
      ],
      "text/plain": [
       "      고객ID 성별  연령      서비스기간  단선횟수    요금제\n",
       "0  K100010  남  46  15.066667     1  CAT50\n",
       "1  K100020  남  27  37.333333     0  CAT50\n",
       "2  K100030  남  39  50.366667     2  CAT50\n",
       "3  K100040  남  28  26.200000     2  CAT50\n",
       "4  K100050  남  47  26.433333     0  CAT50"
      ]
     },
     "execution_count": 5,
     "metadata": {},
     "output_type": "execute_result"
    }
   ],
   "source": [
    "customer_df.head()"
   ]
  },
  {
   "cell_type": "code",
   "execution_count": 6,
   "metadata": {
    "ExecuteTime": {
     "end_time": "2022-11-10T01:53:04.622270Z",
     "start_time": "2022-11-10T01:53:04.011552Z"
    }
   },
   "outputs": [
    {
     "data": {
      "text/html": [
       "<div>\n",
       "<style scoped>\n",
       "    .dataframe tbody tr th:only-of-type {\n",
       "        vertical-align: middle;\n",
       "    }\n",
       "\n",
       "    .dataframe tbody tr th {\n",
       "        vertical-align: top;\n",
       "    }\n",
       "\n",
       "    .dataframe thead th {\n",
       "        text-align: right;\n",
       "    }\n",
       "</style>\n",
       "<table border=\"1\" class=\"dataframe\">\n",
       "  <thead>\n",
       "    <tr style=\"text-align: right;\">\n",
       "      <th></th>\n",
       "      <th>고객ID</th>\n",
       "      <th>주간통화횟수</th>\n",
       "      <th>주간통화시간_분</th>\n",
       "      <th>야간통화횟수</th>\n",
       "      <th>야간통화시간_분</th>\n",
       "      <th>주말통화횟수</th>\n",
       "      <th>주말통화시간_분</th>\n",
       "      <th>국제통화시간_분</th>\n",
       "      <th>국내통화요금_분</th>\n",
       "      <th>평균주간통화시간</th>\n",
       "      <th>평균야간통화시간</th>\n",
       "      <th>평균주말통화시간</th>\n",
       "      <th>국내통화횟수</th>\n",
       "      <th>국내통화시간_분</th>\n",
       "      <th>평균국내통화시간</th>\n",
       "      <th>총통화시간_분</th>\n",
       "      <th>이탈여부</th>\n",
       "    </tr>\n",
       "  </thead>\n",
       "  <tbody>\n",
       "    <tr>\n",
       "      <th>0</th>\n",
       "      <td>K100010</td>\n",
       "      <td>14</td>\n",
       "      <td>36.131353</td>\n",
       "      <td>10</td>\n",
       "      <td>7.973121</td>\n",
       "      <td>24</td>\n",
       "      <td>14.533282</td>\n",
       "      <td>1.443889</td>\n",
       "      <td>0.0</td>\n",
       "      <td>2.580811</td>\n",
       "      <td>0.797312</td>\n",
       "      <td>0.605553</td>\n",
       "      <td>48</td>\n",
       "      <td>58.637756</td>\n",
       "      <td>1.221620</td>\n",
       "      <td>60.081645</td>\n",
       "      <td>이탈</td>\n",
       "    </tr>\n",
       "    <tr>\n",
       "      <th>1</th>\n",
       "      <td>K100020</td>\n",
       "      <td>54</td>\n",
       "      <td>39.437279</td>\n",
       "      <td>34</td>\n",
       "      <td>21.152722</td>\n",
       "      <td>0</td>\n",
       "      <td>0.000000</td>\n",
       "      <td>9.779366</td>\n",
       "      <td>0.0</td>\n",
       "      <td>0.730320</td>\n",
       "      <td>0.622139</td>\n",
       "      <td>0.000000</td>\n",
       "      <td>88</td>\n",
       "      <td>60.590001</td>\n",
       "      <td>0.688523</td>\n",
       "      <td>70.369367</td>\n",
       "      <td>이탈</td>\n",
       "    </tr>\n",
       "    <tr>\n",
       "      <th>2</th>\n",
       "      <td>K100030</td>\n",
       "      <td>44</td>\n",
       "      <td>72.600000</td>\n",
       "      <td>1</td>\n",
       "      <td>27.600000</td>\n",
       "      <td>22</td>\n",
       "      <td>37.200001</td>\n",
       "      <td>16.601092</td>\n",
       "      <td>0.0</td>\n",
       "      <td>1.650000</td>\n",
       "      <td>27.600000</td>\n",
       "      <td>1.690909</td>\n",
       "      <td>67</td>\n",
       "      <td>137.400001</td>\n",
       "      <td>2.050746</td>\n",
       "      <td>154.001093</td>\n",
       "      <td>이탈</td>\n",
       "    </tr>\n",
       "    <tr>\n",
       "      <th>3</th>\n",
       "      <td>K100040</td>\n",
       "      <td>44</td>\n",
       "      <td>72.600000</td>\n",
       "      <td>1</td>\n",
       "      <td>27.600000</td>\n",
       "      <td>22</td>\n",
       "      <td>37.200000</td>\n",
       "      <td>16.601076</td>\n",
       "      <td>0.0</td>\n",
       "      <td>1.650000</td>\n",
       "      <td>27.600000</td>\n",
       "      <td>1.690909</td>\n",
       "      <td>67</td>\n",
       "      <td>137.400000</td>\n",
       "      <td>2.050746</td>\n",
       "      <td>154.001076</td>\n",
       "      <td>이탈</td>\n",
       "    </tr>\n",
       "    <tr>\n",
       "      <th>4</th>\n",
       "      <td>K100050</td>\n",
       "      <td>32</td>\n",
       "      <td>40.608449</td>\n",
       "      <td>14</td>\n",
       "      <td>18.823708</td>\n",
       "      <td>1</td>\n",
       "      <td>1.233764</td>\n",
       "      <td>4.473546</td>\n",
       "      <td>0.0</td>\n",
       "      <td>1.269014</td>\n",
       "      <td>1.344551</td>\n",
       "      <td>1.233764</td>\n",
       "      <td>47</td>\n",
       "      <td>60.665921</td>\n",
       "      <td>1.290764</td>\n",
       "      <td>65.139467</td>\n",
       "      <td>이탈</td>\n",
       "    </tr>\n",
       "  </tbody>\n",
       "</table>\n",
       "</div>"
      ],
      "text/plain": [
       "      고객ID  주간통화횟수   주간통화시간_분  야간통화횟수   야간통화시간_분  주말통화횟수   주말통화시간_분  \\\n",
       "0  K100010      14  36.131353      10   7.973121      24  14.533282   \n",
       "1  K100020      54  39.437279      34  21.152722       0   0.000000   \n",
       "2  K100030      44  72.600000       1  27.600000      22  37.200001   \n",
       "3  K100040      44  72.600000       1  27.600000      22  37.200000   \n",
       "4  K100050      32  40.608449      14  18.823708       1   1.233764   \n",
       "\n",
       "    국제통화시간_분  국내통화요금_분  평균주간통화시간   평균야간통화시간  평균주말통화시간  국내통화횟수    국내통화시간_분  \\\n",
       "0   1.443889       0.0  2.580811   0.797312  0.605553      48   58.637756   \n",
       "1   9.779366       0.0  0.730320   0.622139  0.000000      88   60.590001   \n",
       "2  16.601092       0.0  1.650000  27.600000  1.690909      67  137.400001   \n",
       "3  16.601076       0.0  1.650000  27.600000  1.690909      67  137.400000   \n",
       "4   4.473546       0.0  1.269014   1.344551  1.233764      47   60.665921   \n",
       "\n",
       "   평균국내통화시간     총통화시간_분 이탈여부  \n",
       "0  1.221620   60.081645   이탈  \n",
       "1  0.688523   70.369367   이탈  \n",
       "2  2.050746  154.001093   이탈  \n",
       "3  2.050746  154.001076   이탈  \n",
       "4  1.290764   65.139467   이탈  "
      ]
     },
     "execution_count": 6,
     "metadata": {},
     "output_type": "execute_result"
    }
   ],
   "source": [
    "file_path2 = r\"C:\\Users\\Simon\\Dropbox\\10_강의\\[2022-2] 한양대_차경진_교수님_특강\\강의자료\\churning_transactions.csv\"\n",
    "\n",
    "transaction_df = pd.read_csv(file_path2, encoding='cp949')\n",
    "transaction_df.head()"
   ]
  },
  {
   "cell_type": "code",
   "execution_count": 7,
   "metadata": {
    "ExecuteTime": {
     "end_time": "2022-11-10T01:53:06.113093Z",
     "start_time": "2022-11-10T01:53:06.107110Z"
    }
   },
   "outputs": [
    {
     "data": {
      "text/plain": [
       "(20000, 17)"
      ]
     },
     "execution_count": 7,
     "metadata": {},
     "output_type": "execute_result"
    }
   ],
   "source": [
    "transaction_df.shape"
   ]
  },
  {
   "cell_type": "code",
   "execution_count": 8,
   "metadata": {
    "ExecuteTime": {
     "end_time": "2022-11-10T01:53:06.408359Z",
     "start_time": "2022-11-10T01:53:06.395404Z"
    }
   },
   "outputs": [],
   "source": [
    "transaction_df['이탈여부'] = transaction_df['이탈여부'].map({\"이탈\":1, \"유지\":0})"
   ]
  },
  {
   "cell_type": "code",
   "execution_count": 9,
   "metadata": {
    "ExecuteTime": {
     "end_time": "2022-11-10T01:53:06.625976Z",
     "start_time": "2022-11-10T01:53:06.603011Z"
    }
   },
   "outputs": [
    {
     "data": {
      "text/html": [
       "<div>\n",
       "<style scoped>\n",
       "    .dataframe tbody tr th:only-of-type {\n",
       "        vertical-align: middle;\n",
       "    }\n",
       "\n",
       "    .dataframe tbody tr th {\n",
       "        vertical-align: top;\n",
       "    }\n",
       "\n",
       "    .dataframe thead th {\n",
       "        text-align: right;\n",
       "    }\n",
       "</style>\n",
       "<table border=\"1\" class=\"dataframe\">\n",
       "  <thead>\n",
       "    <tr style=\"text-align: right;\">\n",
       "      <th></th>\n",
       "      <th>고객ID</th>\n",
       "      <th>주간통화횟수</th>\n",
       "      <th>주간통화시간_분</th>\n",
       "      <th>야간통화횟수</th>\n",
       "      <th>야간통화시간_분</th>\n",
       "      <th>주말통화횟수</th>\n",
       "      <th>주말통화시간_분</th>\n",
       "      <th>국제통화시간_분</th>\n",
       "      <th>국내통화요금_분</th>\n",
       "      <th>평균주간통화시간</th>\n",
       "      <th>평균야간통화시간</th>\n",
       "      <th>평균주말통화시간</th>\n",
       "      <th>국내통화횟수</th>\n",
       "      <th>국내통화시간_분</th>\n",
       "      <th>평균국내통화시간</th>\n",
       "      <th>총통화시간_분</th>\n",
       "      <th>이탈여부</th>\n",
       "    </tr>\n",
       "  </thead>\n",
       "  <tbody>\n",
       "    <tr>\n",
       "      <th>0</th>\n",
       "      <td>K100010</td>\n",
       "      <td>14</td>\n",
       "      <td>36.131353</td>\n",
       "      <td>10</td>\n",
       "      <td>7.973121</td>\n",
       "      <td>24</td>\n",
       "      <td>14.533282</td>\n",
       "      <td>1.443889</td>\n",
       "      <td>0.0</td>\n",
       "      <td>2.580811</td>\n",
       "      <td>0.797312</td>\n",
       "      <td>0.605553</td>\n",
       "      <td>48</td>\n",
       "      <td>58.637756</td>\n",
       "      <td>1.221620</td>\n",
       "      <td>60.081645</td>\n",
       "      <td>1</td>\n",
       "    </tr>\n",
       "    <tr>\n",
       "      <th>1</th>\n",
       "      <td>K100020</td>\n",
       "      <td>54</td>\n",
       "      <td>39.437279</td>\n",
       "      <td>34</td>\n",
       "      <td>21.152722</td>\n",
       "      <td>0</td>\n",
       "      <td>0.000000</td>\n",
       "      <td>9.779366</td>\n",
       "      <td>0.0</td>\n",
       "      <td>0.730320</td>\n",
       "      <td>0.622139</td>\n",
       "      <td>0.000000</td>\n",
       "      <td>88</td>\n",
       "      <td>60.590001</td>\n",
       "      <td>0.688523</td>\n",
       "      <td>70.369367</td>\n",
       "      <td>1</td>\n",
       "    </tr>\n",
       "    <tr>\n",
       "      <th>2</th>\n",
       "      <td>K100030</td>\n",
       "      <td>44</td>\n",
       "      <td>72.600000</td>\n",
       "      <td>1</td>\n",
       "      <td>27.600000</td>\n",
       "      <td>22</td>\n",
       "      <td>37.200001</td>\n",
       "      <td>16.601092</td>\n",
       "      <td>0.0</td>\n",
       "      <td>1.650000</td>\n",
       "      <td>27.600000</td>\n",
       "      <td>1.690909</td>\n",
       "      <td>67</td>\n",
       "      <td>137.400001</td>\n",
       "      <td>2.050746</td>\n",
       "      <td>154.001093</td>\n",
       "      <td>1</td>\n",
       "    </tr>\n",
       "    <tr>\n",
       "      <th>3</th>\n",
       "      <td>K100040</td>\n",
       "      <td>44</td>\n",
       "      <td>72.600000</td>\n",
       "      <td>1</td>\n",
       "      <td>27.600000</td>\n",
       "      <td>22</td>\n",
       "      <td>37.200000</td>\n",
       "      <td>16.601076</td>\n",
       "      <td>0.0</td>\n",
       "      <td>1.650000</td>\n",
       "      <td>27.600000</td>\n",
       "      <td>1.690909</td>\n",
       "      <td>67</td>\n",
       "      <td>137.400000</td>\n",
       "      <td>2.050746</td>\n",
       "      <td>154.001076</td>\n",
       "      <td>1</td>\n",
       "    </tr>\n",
       "    <tr>\n",
       "      <th>4</th>\n",
       "      <td>K100050</td>\n",
       "      <td>32</td>\n",
       "      <td>40.608449</td>\n",
       "      <td>14</td>\n",
       "      <td>18.823708</td>\n",
       "      <td>1</td>\n",
       "      <td>1.233764</td>\n",
       "      <td>4.473546</td>\n",
       "      <td>0.0</td>\n",
       "      <td>1.269014</td>\n",
       "      <td>1.344551</td>\n",
       "      <td>1.233764</td>\n",
       "      <td>47</td>\n",
       "      <td>60.665921</td>\n",
       "      <td>1.290764</td>\n",
       "      <td>65.139467</td>\n",
       "      <td>1</td>\n",
       "    </tr>\n",
       "  </tbody>\n",
       "</table>\n",
       "</div>"
      ],
      "text/plain": [
       "      고객ID  주간통화횟수   주간통화시간_분  야간통화횟수   야간통화시간_분  주말통화횟수   주말통화시간_분  \\\n",
       "0  K100010      14  36.131353      10   7.973121      24  14.533282   \n",
       "1  K100020      54  39.437279      34  21.152722       0   0.000000   \n",
       "2  K100030      44  72.600000       1  27.600000      22  37.200001   \n",
       "3  K100040      44  72.600000       1  27.600000      22  37.200000   \n",
       "4  K100050      32  40.608449      14  18.823708       1   1.233764   \n",
       "\n",
       "    국제통화시간_분  국내통화요금_분  평균주간통화시간   평균야간통화시간  평균주말통화시간  국내통화횟수    국내통화시간_분  \\\n",
       "0   1.443889       0.0  2.580811   0.797312  0.605553      48   58.637756   \n",
       "1   9.779366       0.0  0.730320   0.622139  0.000000      88   60.590001   \n",
       "2  16.601092       0.0  1.650000  27.600000  1.690909      67  137.400001   \n",
       "3  16.601076       0.0  1.650000  27.600000  1.690909      67  137.400000   \n",
       "4   4.473546       0.0  1.269014   1.344551  1.233764      47   60.665921   \n",
       "\n",
       "   평균국내통화시간     총통화시간_분  이탈여부  \n",
       "0  1.221620   60.081645     1  \n",
       "1  0.688523   70.369367     1  \n",
       "2  2.050746  154.001093     1  \n",
       "3  2.050746  154.001076     1  \n",
       "4  1.290764   65.139467     1  "
      ]
     },
     "execution_count": 9,
     "metadata": {},
     "output_type": "execute_result"
    }
   ],
   "source": [
    "transaction_df.head()"
   ]
  },
  {
   "cell_type": "markdown",
   "metadata": {},
   "source": [
    "## 데이터 병합\n",
    "- 데이터 베이스의 SQL 형식으로 2개의 데이터셋을 병합"
   ]
  },
  {
   "cell_type": "code",
   "execution_count": 10,
   "metadata": {
    "ExecuteTime": {
     "end_time": "2022-11-10T01:53:07.201771Z",
     "start_time": "2022-11-10T01:53:07.170616Z"
    }
   },
   "outputs": [],
   "source": [
    "churn_df = pd.merge(customer_df, transaction_df, how='inner', on='고객ID')"
   ]
  },
  {
   "cell_type": "code",
   "execution_count": 11,
   "metadata": {
    "ExecuteTime": {
     "end_time": "2022-11-10T01:53:07.404061Z",
     "start_time": "2022-11-10T01:53:07.387107Z"
    }
   },
   "outputs": [
    {
     "data": {
      "text/plain": [
       "(20000, 22)"
      ]
     },
     "execution_count": 11,
     "metadata": {},
     "output_type": "execute_result"
    }
   ],
   "source": [
    "churn_df.shape"
   ]
  },
  {
   "cell_type": "code",
   "execution_count": 12,
   "metadata": {
    "ExecuteTime": {
     "end_time": "2022-11-10T01:53:07.636583Z",
     "start_time": "2022-11-10T01:53:07.603191Z"
    }
   },
   "outputs": [
    {
     "data": {
      "text/html": [
       "<div>\n",
       "<style scoped>\n",
       "    .dataframe tbody tr th:only-of-type {\n",
       "        vertical-align: middle;\n",
       "    }\n",
       "\n",
       "    .dataframe tbody tr th {\n",
       "        vertical-align: top;\n",
       "    }\n",
       "\n",
       "    .dataframe thead th {\n",
       "        text-align: right;\n",
       "    }\n",
       "</style>\n",
       "<table border=\"1\" class=\"dataframe\">\n",
       "  <thead>\n",
       "    <tr style=\"text-align: right;\">\n",
       "      <th></th>\n",
       "      <th>고객ID</th>\n",
       "      <th>성별</th>\n",
       "      <th>연령</th>\n",
       "      <th>서비스기간</th>\n",
       "      <th>단선횟수</th>\n",
       "      <th>요금제</th>\n",
       "      <th>주간통화횟수</th>\n",
       "      <th>주간통화시간_분</th>\n",
       "      <th>야간통화횟수</th>\n",
       "      <th>야간통화시간_분</th>\n",
       "      <th>...</th>\n",
       "      <th>국제통화시간_분</th>\n",
       "      <th>국내통화요금_분</th>\n",
       "      <th>평균주간통화시간</th>\n",
       "      <th>평균야간통화시간</th>\n",
       "      <th>평균주말통화시간</th>\n",
       "      <th>국내통화횟수</th>\n",
       "      <th>국내통화시간_분</th>\n",
       "      <th>평균국내통화시간</th>\n",
       "      <th>총통화시간_분</th>\n",
       "      <th>이탈여부</th>\n",
       "    </tr>\n",
       "  </thead>\n",
       "  <tbody>\n",
       "    <tr>\n",
       "      <th>0</th>\n",
       "      <td>K100010</td>\n",
       "      <td>남</td>\n",
       "      <td>46</td>\n",
       "      <td>15.066667</td>\n",
       "      <td>1</td>\n",
       "      <td>CAT50</td>\n",
       "      <td>14</td>\n",
       "      <td>36.131353</td>\n",
       "      <td>10</td>\n",
       "      <td>7.973121</td>\n",
       "      <td>...</td>\n",
       "      <td>1.443889</td>\n",
       "      <td>0.0</td>\n",
       "      <td>2.580811</td>\n",
       "      <td>0.797312</td>\n",
       "      <td>0.605553</td>\n",
       "      <td>48</td>\n",
       "      <td>58.637756</td>\n",
       "      <td>1.221620</td>\n",
       "      <td>60.081645</td>\n",
       "      <td>1</td>\n",
       "    </tr>\n",
       "    <tr>\n",
       "      <th>1</th>\n",
       "      <td>K100020</td>\n",
       "      <td>남</td>\n",
       "      <td>27</td>\n",
       "      <td>37.333333</td>\n",
       "      <td>0</td>\n",
       "      <td>CAT50</td>\n",
       "      <td>54</td>\n",
       "      <td>39.437279</td>\n",
       "      <td>34</td>\n",
       "      <td>21.152722</td>\n",
       "      <td>...</td>\n",
       "      <td>9.779366</td>\n",
       "      <td>0.0</td>\n",
       "      <td>0.730320</td>\n",
       "      <td>0.622139</td>\n",
       "      <td>0.000000</td>\n",
       "      <td>88</td>\n",
       "      <td>60.590001</td>\n",
       "      <td>0.688523</td>\n",
       "      <td>70.369367</td>\n",
       "      <td>1</td>\n",
       "    </tr>\n",
       "    <tr>\n",
       "      <th>2</th>\n",
       "      <td>K100030</td>\n",
       "      <td>남</td>\n",
       "      <td>39</td>\n",
       "      <td>50.366667</td>\n",
       "      <td>2</td>\n",
       "      <td>CAT50</td>\n",
       "      <td>44</td>\n",
       "      <td>72.600000</td>\n",
       "      <td>1</td>\n",
       "      <td>27.600000</td>\n",
       "      <td>...</td>\n",
       "      <td>16.601092</td>\n",
       "      <td>0.0</td>\n",
       "      <td>1.650000</td>\n",
       "      <td>27.600000</td>\n",
       "      <td>1.690909</td>\n",
       "      <td>67</td>\n",
       "      <td>137.400001</td>\n",
       "      <td>2.050746</td>\n",
       "      <td>154.001093</td>\n",
       "      <td>1</td>\n",
       "    </tr>\n",
       "    <tr>\n",
       "      <th>3</th>\n",
       "      <td>K100040</td>\n",
       "      <td>남</td>\n",
       "      <td>28</td>\n",
       "      <td>26.200000</td>\n",
       "      <td>2</td>\n",
       "      <td>CAT50</td>\n",
       "      <td>44</td>\n",
       "      <td>72.600000</td>\n",
       "      <td>1</td>\n",
       "      <td>27.600000</td>\n",
       "      <td>...</td>\n",
       "      <td>16.601076</td>\n",
       "      <td>0.0</td>\n",
       "      <td>1.650000</td>\n",
       "      <td>27.600000</td>\n",
       "      <td>1.690909</td>\n",
       "      <td>67</td>\n",
       "      <td>137.400000</td>\n",
       "      <td>2.050746</td>\n",
       "      <td>154.001076</td>\n",
       "      <td>1</td>\n",
       "    </tr>\n",
       "    <tr>\n",
       "      <th>4</th>\n",
       "      <td>K100050</td>\n",
       "      <td>남</td>\n",
       "      <td>47</td>\n",
       "      <td>26.433333</td>\n",
       "      <td>0</td>\n",
       "      <td>CAT50</td>\n",
       "      <td>32</td>\n",
       "      <td>40.608449</td>\n",
       "      <td>14</td>\n",
       "      <td>18.823708</td>\n",
       "      <td>...</td>\n",
       "      <td>4.473546</td>\n",
       "      <td>0.0</td>\n",
       "      <td>1.269014</td>\n",
       "      <td>1.344551</td>\n",
       "      <td>1.233764</td>\n",
       "      <td>47</td>\n",
       "      <td>60.665921</td>\n",
       "      <td>1.290764</td>\n",
       "      <td>65.139467</td>\n",
       "      <td>1</td>\n",
       "    </tr>\n",
       "  </tbody>\n",
       "</table>\n",
       "<p>5 rows × 22 columns</p>\n",
       "</div>"
      ],
      "text/plain": [
       "      고객ID 성별  연령      서비스기간  단선횟수    요금제  주간통화횟수   주간통화시간_분  야간통화횟수  \\\n",
       "0  K100010  남  46  15.066667     1  CAT50      14  36.131353      10   \n",
       "1  K100020  남  27  37.333333     0  CAT50      54  39.437279      34   \n",
       "2  K100030  남  39  50.366667     2  CAT50      44  72.600000       1   \n",
       "3  K100040  남  28  26.200000     2  CAT50      44  72.600000       1   \n",
       "4  K100050  남  47  26.433333     0  CAT50      32  40.608449      14   \n",
       "\n",
       "    야간통화시간_분  ...   국제통화시간_분  국내통화요금_분  평균주간통화시간   평균야간통화시간  평균주말통화시간  국내통화횟수  \\\n",
       "0   7.973121  ...   1.443889       0.0  2.580811   0.797312  0.605553      48   \n",
       "1  21.152722  ...   9.779366       0.0  0.730320   0.622139  0.000000      88   \n",
       "2  27.600000  ...  16.601092       0.0  1.650000  27.600000  1.690909      67   \n",
       "3  27.600000  ...  16.601076       0.0  1.650000  27.600000  1.690909      67   \n",
       "4  18.823708  ...   4.473546       0.0  1.269014   1.344551  1.233764      47   \n",
       "\n",
       "     국내통화시간_분  평균국내통화시간     총통화시간_분  이탈여부  \n",
       "0   58.637756  1.221620   60.081645     1  \n",
       "1   60.590001  0.688523   70.369367     1  \n",
       "2  137.400001  2.050746  154.001093     1  \n",
       "3  137.400000  2.050746  154.001076     1  \n",
       "4   60.665921  1.290764   65.139467     1  \n",
       "\n",
       "[5 rows x 22 columns]"
      ]
     },
     "execution_count": 12,
     "metadata": {},
     "output_type": "execute_result"
    }
   ],
   "source": [
    "churn_df.head()"
   ]
  },
  {
   "cell_type": "code",
   "execution_count": 13,
   "metadata": {
    "ExecuteTime": {
     "end_time": "2022-11-10T01:53:07.995910Z",
     "start_time": "2022-11-10T01:53:07.978956Z"
    }
   },
   "outputs": [],
   "source": [
    "churn_df.drop(['고객ID'], axis=1, inplace=True)"
   ]
  },
  {
   "cell_type": "code",
   "execution_count": 14,
   "metadata": {
    "ExecuteTime": {
     "end_time": "2022-11-10T01:53:08.509506Z",
     "start_time": "2022-11-10T01:53:08.491555Z"
    }
   },
   "outputs": [
    {
     "data": {
      "text/html": [
       "<div>\n",
       "<style scoped>\n",
       "    .dataframe tbody tr th:only-of-type {\n",
       "        vertical-align: middle;\n",
       "    }\n",
       "\n",
       "    .dataframe tbody tr th {\n",
       "        vertical-align: top;\n",
       "    }\n",
       "\n",
       "    .dataframe thead th {\n",
       "        text-align: right;\n",
       "    }\n",
       "</style>\n",
       "<table border=\"1\" class=\"dataframe\">\n",
       "  <thead>\n",
       "    <tr style=\"text-align: right;\">\n",
       "      <th></th>\n",
       "      <th>성별</th>\n",
       "      <th>연령</th>\n",
       "      <th>서비스기간</th>\n",
       "      <th>단선횟수</th>\n",
       "      <th>요금제</th>\n",
       "      <th>주간통화횟수</th>\n",
       "      <th>주간통화시간_분</th>\n",
       "      <th>야간통화횟수</th>\n",
       "      <th>야간통화시간_분</th>\n",
       "      <th>주말통화횟수</th>\n",
       "      <th>...</th>\n",
       "      <th>국제통화시간_분</th>\n",
       "      <th>국내통화요금_분</th>\n",
       "      <th>평균주간통화시간</th>\n",
       "      <th>평균야간통화시간</th>\n",
       "      <th>평균주말통화시간</th>\n",
       "      <th>국내통화횟수</th>\n",
       "      <th>국내통화시간_분</th>\n",
       "      <th>평균국내통화시간</th>\n",
       "      <th>총통화시간_분</th>\n",
       "      <th>이탈여부</th>\n",
       "    </tr>\n",
       "  </thead>\n",
       "  <tbody>\n",
       "    <tr>\n",
       "      <th>0</th>\n",
       "      <td>남</td>\n",
       "      <td>46</td>\n",
       "      <td>15.066667</td>\n",
       "      <td>1</td>\n",
       "      <td>CAT50</td>\n",
       "      <td>14</td>\n",
       "      <td>36.131353</td>\n",
       "      <td>10</td>\n",
       "      <td>7.973121</td>\n",
       "      <td>24</td>\n",
       "      <td>...</td>\n",
       "      <td>1.443889</td>\n",
       "      <td>0.0</td>\n",
       "      <td>2.580811</td>\n",
       "      <td>0.797312</td>\n",
       "      <td>0.605553</td>\n",
       "      <td>48</td>\n",
       "      <td>58.637756</td>\n",
       "      <td>1.221620</td>\n",
       "      <td>60.081645</td>\n",
       "      <td>1</td>\n",
       "    </tr>\n",
       "    <tr>\n",
       "      <th>1</th>\n",
       "      <td>남</td>\n",
       "      <td>27</td>\n",
       "      <td>37.333333</td>\n",
       "      <td>0</td>\n",
       "      <td>CAT50</td>\n",
       "      <td>54</td>\n",
       "      <td>39.437279</td>\n",
       "      <td>34</td>\n",
       "      <td>21.152722</td>\n",
       "      <td>0</td>\n",
       "      <td>...</td>\n",
       "      <td>9.779366</td>\n",
       "      <td>0.0</td>\n",
       "      <td>0.730320</td>\n",
       "      <td>0.622139</td>\n",
       "      <td>0.000000</td>\n",
       "      <td>88</td>\n",
       "      <td>60.590001</td>\n",
       "      <td>0.688523</td>\n",
       "      <td>70.369367</td>\n",
       "      <td>1</td>\n",
       "    </tr>\n",
       "    <tr>\n",
       "      <th>2</th>\n",
       "      <td>남</td>\n",
       "      <td>39</td>\n",
       "      <td>50.366667</td>\n",
       "      <td>2</td>\n",
       "      <td>CAT50</td>\n",
       "      <td>44</td>\n",
       "      <td>72.600000</td>\n",
       "      <td>1</td>\n",
       "      <td>27.600000</td>\n",
       "      <td>22</td>\n",
       "      <td>...</td>\n",
       "      <td>16.601092</td>\n",
       "      <td>0.0</td>\n",
       "      <td>1.650000</td>\n",
       "      <td>27.600000</td>\n",
       "      <td>1.690909</td>\n",
       "      <td>67</td>\n",
       "      <td>137.400001</td>\n",
       "      <td>2.050746</td>\n",
       "      <td>154.001093</td>\n",
       "      <td>1</td>\n",
       "    </tr>\n",
       "    <tr>\n",
       "      <th>3</th>\n",
       "      <td>남</td>\n",
       "      <td>28</td>\n",
       "      <td>26.200000</td>\n",
       "      <td>2</td>\n",
       "      <td>CAT50</td>\n",
       "      <td>44</td>\n",
       "      <td>72.600000</td>\n",
       "      <td>1</td>\n",
       "      <td>27.600000</td>\n",
       "      <td>22</td>\n",
       "      <td>...</td>\n",
       "      <td>16.601076</td>\n",
       "      <td>0.0</td>\n",
       "      <td>1.650000</td>\n",
       "      <td>27.600000</td>\n",
       "      <td>1.690909</td>\n",
       "      <td>67</td>\n",
       "      <td>137.400000</td>\n",
       "      <td>2.050746</td>\n",
       "      <td>154.001076</td>\n",
       "      <td>1</td>\n",
       "    </tr>\n",
       "    <tr>\n",
       "      <th>4</th>\n",
       "      <td>남</td>\n",
       "      <td>47</td>\n",
       "      <td>26.433333</td>\n",
       "      <td>0</td>\n",
       "      <td>CAT50</td>\n",
       "      <td>32</td>\n",
       "      <td>40.608449</td>\n",
       "      <td>14</td>\n",
       "      <td>18.823708</td>\n",
       "      <td>1</td>\n",
       "      <td>...</td>\n",
       "      <td>4.473546</td>\n",
       "      <td>0.0</td>\n",
       "      <td>1.269014</td>\n",
       "      <td>1.344551</td>\n",
       "      <td>1.233764</td>\n",
       "      <td>47</td>\n",
       "      <td>60.665921</td>\n",
       "      <td>1.290764</td>\n",
       "      <td>65.139467</td>\n",
       "      <td>1</td>\n",
       "    </tr>\n",
       "  </tbody>\n",
       "</table>\n",
       "<p>5 rows × 21 columns</p>\n",
       "</div>"
      ],
      "text/plain": [
       "  성별  연령      서비스기간  단선횟수    요금제  주간통화횟수   주간통화시간_분  야간통화횟수   야간통화시간_분  \\\n",
       "0  남  46  15.066667     1  CAT50      14  36.131353      10   7.973121   \n",
       "1  남  27  37.333333     0  CAT50      54  39.437279      34  21.152722   \n",
       "2  남  39  50.366667     2  CAT50      44  72.600000       1  27.600000   \n",
       "3  남  28  26.200000     2  CAT50      44  72.600000       1  27.600000   \n",
       "4  남  47  26.433333     0  CAT50      32  40.608449      14  18.823708   \n",
       "\n",
       "   주말통화횟수  ...   국제통화시간_분  국내통화요금_분  평균주간통화시간   평균야간통화시간  평균주말통화시간  국내통화횟수  \\\n",
       "0      24  ...   1.443889       0.0  2.580811   0.797312  0.605553      48   \n",
       "1       0  ...   9.779366       0.0  0.730320   0.622139  0.000000      88   \n",
       "2      22  ...  16.601092       0.0  1.650000  27.600000  1.690909      67   \n",
       "3      22  ...  16.601076       0.0  1.650000  27.600000  1.690909      67   \n",
       "4       1  ...   4.473546       0.0  1.269014   1.344551  1.233764      47   \n",
       "\n",
       "     국내통화시간_분  평균국내통화시간     총통화시간_분  이탈여부  \n",
       "0   58.637756  1.221620   60.081645     1  \n",
       "1   60.590001  0.688523   70.369367     1  \n",
       "2  137.400001  2.050746  154.001093     1  \n",
       "3  137.400000  2.050746  154.001076     1  \n",
       "4   60.665921  1.290764   65.139467     1  \n",
       "\n",
       "[5 rows x 21 columns]"
      ]
     },
     "execution_count": 14,
     "metadata": {},
     "output_type": "execute_result"
    }
   ],
   "source": [
    "churn_df.head()"
   ]
  },
  {
   "cell_type": "markdown",
   "metadata": {},
   "source": [
    "## One-Hot encoding\n",
    "- 이산형 데이터 (categorical data)를 처리하는 방법\n",
    "- 이산형 데이터가 가지는 값의 개수만큼의 0과 1로 표현하는 배열 생성"
   ]
  },
  {
   "cell_type": "code",
   "execution_count": 15,
   "metadata": {
    "ExecuteTime": {
     "end_time": "2022-11-10T01:53:09.350126Z",
     "start_time": "2022-11-10T01:53:09.315213Z"
    }
   },
   "outputs": [
    {
     "data": {
      "text/html": [
       "<div>\n",
       "<style scoped>\n",
       "    .dataframe tbody tr th:only-of-type {\n",
       "        vertical-align: middle;\n",
       "    }\n",
       "\n",
       "    .dataframe tbody tr th {\n",
       "        vertical-align: top;\n",
       "    }\n",
       "\n",
       "    .dataframe thead th {\n",
       "        text-align: right;\n",
       "    }\n",
       "</style>\n",
       "<table border=\"1\" class=\"dataframe\">\n",
       "  <thead>\n",
       "    <tr style=\"text-align: right;\">\n",
       "      <th></th>\n",
       "      <th>연령</th>\n",
       "      <th>서비스기간</th>\n",
       "      <th>단선횟수</th>\n",
       "      <th>주간통화횟수</th>\n",
       "      <th>주간통화시간_분</th>\n",
       "      <th>야간통화횟수</th>\n",
       "      <th>야간통화시간_분</th>\n",
       "      <th>주말통화횟수</th>\n",
       "      <th>주말통화시간_분</th>\n",
       "      <th>국제통화시간_분</th>\n",
       "      <th>...</th>\n",
       "      <th>평균국내통화시간</th>\n",
       "      <th>총통화시간_분</th>\n",
       "      <th>이탈여부</th>\n",
       "      <th>성별_남</th>\n",
       "      <th>성별_여</th>\n",
       "      <th>요금제_CAT100</th>\n",
       "      <th>요금제_CAT200</th>\n",
       "      <th>요금제_CAT50</th>\n",
       "      <th>요금제_Play100</th>\n",
       "      <th>요금제_Play300</th>\n",
       "    </tr>\n",
       "  </thead>\n",
       "  <tbody>\n",
       "    <tr>\n",
       "      <th>0</th>\n",
       "      <td>46</td>\n",
       "      <td>15.066667</td>\n",
       "      <td>1</td>\n",
       "      <td>14</td>\n",
       "      <td>36.131353</td>\n",
       "      <td>10</td>\n",
       "      <td>7.973121</td>\n",
       "      <td>24</td>\n",
       "      <td>14.533282</td>\n",
       "      <td>1.443889</td>\n",
       "      <td>...</td>\n",
       "      <td>1.221620</td>\n",
       "      <td>60.081645</td>\n",
       "      <td>1</td>\n",
       "      <td>1</td>\n",
       "      <td>0</td>\n",
       "      <td>0</td>\n",
       "      <td>0</td>\n",
       "      <td>1</td>\n",
       "      <td>0</td>\n",
       "      <td>0</td>\n",
       "    </tr>\n",
       "    <tr>\n",
       "      <th>1</th>\n",
       "      <td>27</td>\n",
       "      <td>37.333333</td>\n",
       "      <td>0</td>\n",
       "      <td>54</td>\n",
       "      <td>39.437279</td>\n",
       "      <td>34</td>\n",
       "      <td>21.152722</td>\n",
       "      <td>0</td>\n",
       "      <td>0.000000</td>\n",
       "      <td>9.779366</td>\n",
       "      <td>...</td>\n",
       "      <td>0.688523</td>\n",
       "      <td>70.369367</td>\n",
       "      <td>1</td>\n",
       "      <td>1</td>\n",
       "      <td>0</td>\n",
       "      <td>0</td>\n",
       "      <td>0</td>\n",
       "      <td>1</td>\n",
       "      <td>0</td>\n",
       "      <td>0</td>\n",
       "    </tr>\n",
       "    <tr>\n",
       "      <th>2</th>\n",
       "      <td>39</td>\n",
       "      <td>50.366667</td>\n",
       "      <td>2</td>\n",
       "      <td>44</td>\n",
       "      <td>72.600000</td>\n",
       "      <td>1</td>\n",
       "      <td>27.600000</td>\n",
       "      <td>22</td>\n",
       "      <td>37.200001</td>\n",
       "      <td>16.601092</td>\n",
       "      <td>...</td>\n",
       "      <td>2.050746</td>\n",
       "      <td>154.001093</td>\n",
       "      <td>1</td>\n",
       "      <td>1</td>\n",
       "      <td>0</td>\n",
       "      <td>0</td>\n",
       "      <td>0</td>\n",
       "      <td>1</td>\n",
       "      <td>0</td>\n",
       "      <td>0</td>\n",
       "    </tr>\n",
       "    <tr>\n",
       "      <th>3</th>\n",
       "      <td>28</td>\n",
       "      <td>26.200000</td>\n",
       "      <td>2</td>\n",
       "      <td>44</td>\n",
       "      <td>72.600000</td>\n",
       "      <td>1</td>\n",
       "      <td>27.600000</td>\n",
       "      <td>22</td>\n",
       "      <td>37.200000</td>\n",
       "      <td>16.601076</td>\n",
       "      <td>...</td>\n",
       "      <td>2.050746</td>\n",
       "      <td>154.001076</td>\n",
       "      <td>1</td>\n",
       "      <td>1</td>\n",
       "      <td>0</td>\n",
       "      <td>0</td>\n",
       "      <td>0</td>\n",
       "      <td>1</td>\n",
       "      <td>0</td>\n",
       "      <td>0</td>\n",
       "    </tr>\n",
       "    <tr>\n",
       "      <th>4</th>\n",
       "      <td>47</td>\n",
       "      <td>26.433333</td>\n",
       "      <td>0</td>\n",
       "      <td>32</td>\n",
       "      <td>40.608449</td>\n",
       "      <td>14</td>\n",
       "      <td>18.823708</td>\n",
       "      <td>1</td>\n",
       "      <td>1.233764</td>\n",
       "      <td>4.473546</td>\n",
       "      <td>...</td>\n",
       "      <td>1.290764</td>\n",
       "      <td>65.139467</td>\n",
       "      <td>1</td>\n",
       "      <td>1</td>\n",
       "      <td>0</td>\n",
       "      <td>0</td>\n",
       "      <td>0</td>\n",
       "      <td>1</td>\n",
       "      <td>0</td>\n",
       "      <td>0</td>\n",
       "    </tr>\n",
       "  </tbody>\n",
       "</table>\n",
       "<p>5 rows × 26 columns</p>\n",
       "</div>"
      ],
      "text/plain": [
       "   연령      서비스기간  단선횟수  주간통화횟수   주간통화시간_분  야간통화횟수   야간통화시간_분  주말통화횟수  \\\n",
       "0  46  15.066667     1      14  36.131353      10   7.973121      24   \n",
       "1  27  37.333333     0      54  39.437279      34  21.152722       0   \n",
       "2  39  50.366667     2      44  72.600000       1  27.600000      22   \n",
       "3  28  26.200000     2      44  72.600000       1  27.600000      22   \n",
       "4  47  26.433333     0      32  40.608449      14  18.823708       1   \n",
       "\n",
       "    주말통화시간_분   국제통화시간_분  ...  평균국내통화시간     총통화시간_분  이탈여부  성별_남  성별_여  \\\n",
       "0  14.533282   1.443889  ...  1.221620   60.081645     1     1     0   \n",
       "1   0.000000   9.779366  ...  0.688523   70.369367     1     1     0   \n",
       "2  37.200001  16.601092  ...  2.050746  154.001093     1     1     0   \n",
       "3  37.200000  16.601076  ...  2.050746  154.001076     1     1     0   \n",
       "4   1.233764   4.473546  ...  1.290764   65.139467     1     1     0   \n",
       "\n",
       "   요금제_CAT100  요금제_CAT200  요금제_CAT50  요금제_Play100  요금제_Play300  \n",
       "0           0           0          1            0            0  \n",
       "1           0           0          1            0            0  \n",
       "2           0           0          1            0            0  \n",
       "3           0           0          1            0            0  \n",
       "4           0           0          1            0            0  \n",
       "\n",
       "[5 rows x 26 columns]"
      ]
     },
     "execution_count": 15,
     "metadata": {},
     "output_type": "execute_result"
    }
   ],
   "source": [
    "churn_df = pd.get_dummies(churn_df)\n",
    "churn_df.head()"
   ]
  },
  {
   "cell_type": "code",
   "execution_count": 16,
   "metadata": {
    "ExecuteTime": {
     "end_time": "2022-11-10T01:53:09.693919Z",
     "start_time": "2022-11-10T01:53:09.674944Z"
    },
    "scrolled": true
   },
   "outputs": [
    {
     "name": "stdout",
     "output_type": "stream",
     "text": [
      "['연령', '서비스기간', '단선횟수', '주간통화횟수', '주간통화시간_분', '야간통화횟수', '야간통화시간_분', '주말통화횟수', '주말통화시간_분', '국제통화시간_분', '국내통화요금_분', '평균주간통화시간', '평균야간통화시간', '평균주말통화시간', '국내통화횟수', '국내통화시간_분', '평균국내통화시간', '총통화시간_분', '성별_남', '성별_여', '요금제_CAT100', '요금제_CAT200', '요금제_CAT50', '요금제_Play100', '요금제_Play300', '이탈여부']\n"
     ]
    }
   ],
   "source": [
    "cols = list(churn_df.columns)\n",
    "cols.remove('이탈여부')\n",
    "cols.append('이탈여부')\n",
    "print(cols)"
   ]
  },
  {
   "cell_type": "code",
   "execution_count": 17,
   "metadata": {
    "ExecuteTime": {
     "end_time": "2022-11-10T01:53:10.227611Z",
     "start_time": "2022-11-10T01:53:10.218635Z"
    }
   },
   "outputs": [],
   "source": [
    "churn_df = churn_df[cols]"
   ]
  },
  {
   "cell_type": "markdown",
   "metadata": {},
   "source": [
    "## 결측치 탐색 및 제거\n",
    "- 결측치 데이터 제거 \n",
    "- 결측치를 평균, 중앙값 등의 다른 값으로 대체(imputation)"
   ]
  },
  {
   "cell_type": "code",
   "execution_count": 18,
   "metadata": {
    "ExecuteTime": {
     "end_time": "2022-11-10T01:53:11.302217Z",
     "start_time": "2022-11-10T01:53:11.259770Z"
    }
   },
   "outputs": [
    {
     "data": {
      "text/html": [
       "<div>\n",
       "<style scoped>\n",
       "    .dataframe tbody tr th:only-of-type {\n",
       "        vertical-align: middle;\n",
       "    }\n",
       "\n",
       "    .dataframe tbody tr th {\n",
       "        vertical-align: top;\n",
       "    }\n",
       "\n",
       "    .dataframe thead th {\n",
       "        text-align: right;\n",
       "    }\n",
       "</style>\n",
       "<table border=\"1\" class=\"dataframe\">\n",
       "  <thead>\n",
       "    <tr style=\"text-align: right;\">\n",
       "      <th></th>\n",
       "      <th>연령</th>\n",
       "      <th>서비스기간</th>\n",
       "      <th>단선횟수</th>\n",
       "      <th>주간통화횟수</th>\n",
       "      <th>주간통화시간_분</th>\n",
       "      <th>야간통화횟수</th>\n",
       "      <th>야간통화시간_분</th>\n",
       "      <th>주말통화횟수</th>\n",
       "      <th>주말통화시간_분</th>\n",
       "      <th>국제통화시간_분</th>\n",
       "      <th>...</th>\n",
       "      <th>평균국내통화시간</th>\n",
       "      <th>총통화시간_분</th>\n",
       "      <th>성별_남</th>\n",
       "      <th>성별_여</th>\n",
       "      <th>요금제_CAT100</th>\n",
       "      <th>요금제_CAT200</th>\n",
       "      <th>요금제_CAT50</th>\n",
       "      <th>요금제_Play100</th>\n",
       "      <th>요금제_Play300</th>\n",
       "      <th>이탈여부</th>\n",
       "    </tr>\n",
       "  </thead>\n",
       "  <tbody>\n",
       "    <tr>\n",
       "      <th>0</th>\n",
       "      <td>False</td>\n",
       "      <td>False</td>\n",
       "      <td>False</td>\n",
       "      <td>False</td>\n",
       "      <td>False</td>\n",
       "      <td>False</td>\n",
       "      <td>False</td>\n",
       "      <td>False</td>\n",
       "      <td>False</td>\n",
       "      <td>False</td>\n",
       "      <td>...</td>\n",
       "      <td>False</td>\n",
       "      <td>False</td>\n",
       "      <td>False</td>\n",
       "      <td>False</td>\n",
       "      <td>False</td>\n",
       "      <td>False</td>\n",
       "      <td>False</td>\n",
       "      <td>False</td>\n",
       "      <td>False</td>\n",
       "      <td>False</td>\n",
       "    </tr>\n",
       "    <tr>\n",
       "      <th>1</th>\n",
       "      <td>False</td>\n",
       "      <td>False</td>\n",
       "      <td>False</td>\n",
       "      <td>False</td>\n",
       "      <td>False</td>\n",
       "      <td>False</td>\n",
       "      <td>False</td>\n",
       "      <td>False</td>\n",
       "      <td>False</td>\n",
       "      <td>False</td>\n",
       "      <td>...</td>\n",
       "      <td>False</td>\n",
       "      <td>False</td>\n",
       "      <td>False</td>\n",
       "      <td>False</td>\n",
       "      <td>False</td>\n",
       "      <td>False</td>\n",
       "      <td>False</td>\n",
       "      <td>False</td>\n",
       "      <td>False</td>\n",
       "      <td>False</td>\n",
       "    </tr>\n",
       "    <tr>\n",
       "      <th>2</th>\n",
       "      <td>False</td>\n",
       "      <td>False</td>\n",
       "      <td>False</td>\n",
       "      <td>False</td>\n",
       "      <td>False</td>\n",
       "      <td>False</td>\n",
       "      <td>False</td>\n",
       "      <td>False</td>\n",
       "      <td>False</td>\n",
       "      <td>False</td>\n",
       "      <td>...</td>\n",
       "      <td>False</td>\n",
       "      <td>False</td>\n",
       "      <td>False</td>\n",
       "      <td>False</td>\n",
       "      <td>False</td>\n",
       "      <td>False</td>\n",
       "      <td>False</td>\n",
       "      <td>False</td>\n",
       "      <td>False</td>\n",
       "      <td>False</td>\n",
       "    </tr>\n",
       "    <tr>\n",
       "      <th>3</th>\n",
       "      <td>False</td>\n",
       "      <td>False</td>\n",
       "      <td>False</td>\n",
       "      <td>False</td>\n",
       "      <td>False</td>\n",
       "      <td>False</td>\n",
       "      <td>False</td>\n",
       "      <td>False</td>\n",
       "      <td>False</td>\n",
       "      <td>False</td>\n",
       "      <td>...</td>\n",
       "      <td>False</td>\n",
       "      <td>False</td>\n",
       "      <td>False</td>\n",
       "      <td>False</td>\n",
       "      <td>False</td>\n",
       "      <td>False</td>\n",
       "      <td>False</td>\n",
       "      <td>False</td>\n",
       "      <td>False</td>\n",
       "      <td>False</td>\n",
       "    </tr>\n",
       "    <tr>\n",
       "      <th>4</th>\n",
       "      <td>False</td>\n",
       "      <td>False</td>\n",
       "      <td>False</td>\n",
       "      <td>False</td>\n",
       "      <td>False</td>\n",
       "      <td>False</td>\n",
       "      <td>False</td>\n",
       "      <td>False</td>\n",
       "      <td>False</td>\n",
       "      <td>False</td>\n",
       "      <td>...</td>\n",
       "      <td>False</td>\n",
       "      <td>False</td>\n",
       "      <td>False</td>\n",
       "      <td>False</td>\n",
       "      <td>False</td>\n",
       "      <td>False</td>\n",
       "      <td>False</td>\n",
       "      <td>False</td>\n",
       "      <td>False</td>\n",
       "      <td>False</td>\n",
       "    </tr>\n",
       "    <tr>\n",
       "      <th>...</th>\n",
       "      <td>...</td>\n",
       "      <td>...</td>\n",
       "      <td>...</td>\n",
       "      <td>...</td>\n",
       "      <td>...</td>\n",
       "      <td>...</td>\n",
       "      <td>...</td>\n",
       "      <td>...</td>\n",
       "      <td>...</td>\n",
       "      <td>...</td>\n",
       "      <td>...</td>\n",
       "      <td>...</td>\n",
       "      <td>...</td>\n",
       "      <td>...</td>\n",
       "      <td>...</td>\n",
       "      <td>...</td>\n",
       "      <td>...</td>\n",
       "      <td>...</td>\n",
       "      <td>...</td>\n",
       "      <td>...</td>\n",
       "      <td>...</td>\n",
       "    </tr>\n",
       "    <tr>\n",
       "      <th>19995</th>\n",
       "      <td>False</td>\n",
       "      <td>False</td>\n",
       "      <td>False</td>\n",
       "      <td>False</td>\n",
       "      <td>False</td>\n",
       "      <td>False</td>\n",
       "      <td>False</td>\n",
       "      <td>False</td>\n",
       "      <td>False</td>\n",
       "      <td>False</td>\n",
       "      <td>...</td>\n",
       "      <td>False</td>\n",
       "      <td>False</td>\n",
       "      <td>False</td>\n",
       "      <td>False</td>\n",
       "      <td>False</td>\n",
       "      <td>False</td>\n",
       "      <td>False</td>\n",
       "      <td>False</td>\n",
       "      <td>False</td>\n",
       "      <td>False</td>\n",
       "    </tr>\n",
       "    <tr>\n",
       "      <th>19996</th>\n",
       "      <td>False</td>\n",
       "      <td>False</td>\n",
       "      <td>False</td>\n",
       "      <td>False</td>\n",
       "      <td>False</td>\n",
       "      <td>False</td>\n",
       "      <td>False</td>\n",
       "      <td>False</td>\n",
       "      <td>False</td>\n",
       "      <td>False</td>\n",
       "      <td>...</td>\n",
       "      <td>False</td>\n",
       "      <td>False</td>\n",
       "      <td>False</td>\n",
       "      <td>False</td>\n",
       "      <td>False</td>\n",
       "      <td>False</td>\n",
       "      <td>False</td>\n",
       "      <td>False</td>\n",
       "      <td>False</td>\n",
       "      <td>False</td>\n",
       "    </tr>\n",
       "    <tr>\n",
       "      <th>19997</th>\n",
       "      <td>False</td>\n",
       "      <td>False</td>\n",
       "      <td>False</td>\n",
       "      <td>False</td>\n",
       "      <td>False</td>\n",
       "      <td>False</td>\n",
       "      <td>False</td>\n",
       "      <td>False</td>\n",
       "      <td>False</td>\n",
       "      <td>False</td>\n",
       "      <td>...</td>\n",
       "      <td>False</td>\n",
       "      <td>False</td>\n",
       "      <td>False</td>\n",
       "      <td>False</td>\n",
       "      <td>False</td>\n",
       "      <td>False</td>\n",
       "      <td>False</td>\n",
       "      <td>False</td>\n",
       "      <td>False</td>\n",
       "      <td>False</td>\n",
       "    </tr>\n",
       "    <tr>\n",
       "      <th>19998</th>\n",
       "      <td>False</td>\n",
       "      <td>False</td>\n",
       "      <td>False</td>\n",
       "      <td>False</td>\n",
       "      <td>False</td>\n",
       "      <td>False</td>\n",
       "      <td>False</td>\n",
       "      <td>False</td>\n",
       "      <td>False</td>\n",
       "      <td>False</td>\n",
       "      <td>...</td>\n",
       "      <td>False</td>\n",
       "      <td>False</td>\n",
       "      <td>False</td>\n",
       "      <td>False</td>\n",
       "      <td>False</td>\n",
       "      <td>False</td>\n",
       "      <td>False</td>\n",
       "      <td>False</td>\n",
       "      <td>False</td>\n",
       "      <td>False</td>\n",
       "    </tr>\n",
       "    <tr>\n",
       "      <th>19999</th>\n",
       "      <td>False</td>\n",
       "      <td>False</td>\n",
       "      <td>False</td>\n",
       "      <td>False</td>\n",
       "      <td>False</td>\n",
       "      <td>False</td>\n",
       "      <td>False</td>\n",
       "      <td>False</td>\n",
       "      <td>False</td>\n",
       "      <td>False</td>\n",
       "      <td>...</td>\n",
       "      <td>False</td>\n",
       "      <td>False</td>\n",
       "      <td>False</td>\n",
       "      <td>False</td>\n",
       "      <td>False</td>\n",
       "      <td>False</td>\n",
       "      <td>False</td>\n",
       "      <td>False</td>\n",
       "      <td>False</td>\n",
       "      <td>False</td>\n",
       "    </tr>\n",
       "  </tbody>\n",
       "</table>\n",
       "<p>20000 rows × 26 columns</p>\n",
       "</div>"
      ],
      "text/plain": [
       "          연령  서비스기간   단선횟수  주간통화횟수  주간통화시간_분  야간통화횟수  야간통화시간_분  주말통화횟수  \\\n",
       "0      False  False  False   False     False   False     False   False   \n",
       "1      False  False  False   False     False   False     False   False   \n",
       "2      False  False  False   False     False   False     False   False   \n",
       "3      False  False  False   False     False   False     False   False   \n",
       "4      False  False  False   False     False   False     False   False   \n",
       "...      ...    ...    ...     ...       ...     ...       ...     ...   \n",
       "19995  False  False  False   False     False   False     False   False   \n",
       "19996  False  False  False   False     False   False     False   False   \n",
       "19997  False  False  False   False     False   False     False   False   \n",
       "19998  False  False  False   False     False   False     False   False   \n",
       "19999  False  False  False   False     False   False     False   False   \n",
       "\n",
       "       주말통화시간_분  국제통화시간_분  ...  평균국내통화시간  총통화시간_분   성별_남   성별_여  요금제_CAT100  \\\n",
       "0         False     False  ...     False    False  False  False       False   \n",
       "1         False     False  ...     False    False  False  False       False   \n",
       "2         False     False  ...     False    False  False  False       False   \n",
       "3         False     False  ...     False    False  False  False       False   \n",
       "4         False     False  ...     False    False  False  False       False   \n",
       "...         ...       ...  ...       ...      ...    ...    ...         ...   \n",
       "19995     False     False  ...     False    False  False  False       False   \n",
       "19996     False     False  ...     False    False  False  False       False   \n",
       "19997     False     False  ...     False    False  False  False       False   \n",
       "19998     False     False  ...     False    False  False  False       False   \n",
       "19999     False     False  ...     False    False  False  False       False   \n",
       "\n",
       "       요금제_CAT200  요금제_CAT50  요금제_Play100  요금제_Play300   이탈여부  \n",
       "0           False      False        False        False  False  \n",
       "1           False      False        False        False  False  \n",
       "2           False      False        False        False  False  \n",
       "3           False      False        False        False  False  \n",
       "4           False      False        False        False  False  \n",
       "...           ...        ...          ...          ...    ...  \n",
       "19995       False      False        False        False  False  \n",
       "19996       False      False        False        False  False  \n",
       "19997       False      False        False        False  False  \n",
       "19998       False      False        False        False  False  \n",
       "19999       False      False        False        False  False  \n",
       "\n",
       "[20000 rows x 26 columns]"
      ]
     },
     "execution_count": 18,
     "metadata": {},
     "output_type": "execute_result"
    }
   ],
   "source": [
    "churn_df.isnull()"
   ]
  },
  {
   "cell_type": "code",
   "execution_count": 19,
   "metadata": {
    "ExecuteTime": {
     "end_time": "2022-11-10T01:53:11.784229Z",
     "start_time": "2022-11-10T01:53:11.778217Z"
    }
   },
   "outputs": [
    {
     "data": {
      "text/plain": [
       "연령             0\n",
       "서비스기간          0\n",
       "단선횟수           0\n",
       "주간통화횟수         0\n",
       "주간통화시간_분       0\n",
       "야간통화횟수         0\n",
       "야간통화시간_분       0\n",
       "주말통화횟수         0\n",
       "주말통화시간_분       0\n",
       "국제통화시간_분       0\n",
       "국내통화요금_분       0\n",
       "평균주간통화시간       0\n",
       "평균야간통화시간       0\n",
       "평균주말통화시간       0\n",
       "국내통화횟수         0\n",
       "국내통화시간_분       0\n",
       "평균국내통화시간       0\n",
       "총통화시간_분        0\n",
       "성별_남           0\n",
       "성별_여           0\n",
       "요금제_CAT100     0\n",
       "요금제_CAT200     0\n",
       "요금제_CAT50      0\n",
       "요금제_Play100    0\n",
       "요금제_Play300    0\n",
       "이탈여부           0\n",
       "dtype: int64"
      ]
     },
     "execution_count": 19,
     "metadata": {},
     "output_type": "execute_result"
    }
   ],
   "source": [
    "churn_df.isnull().sum()"
   ]
  },
  {
   "cell_type": "markdown",
   "metadata": {},
   "source": [
    "## Data Balancing\n",
    "- Data imbalance는 현실의 많은 분류 문제에서 존재하는 이슈\n",
    "- 가장 기본적인 Undersampling 방법 이용"
   ]
  },
  {
   "cell_type": "code",
   "execution_count": 20,
   "metadata": {
    "ExecuteTime": {
     "end_time": "2022-11-10T01:53:16.953184Z",
     "start_time": "2022-11-10T01:53:16.938224Z"
    }
   },
   "outputs": [
    {
     "data": {
      "text/plain": [
       "0    10069\n",
       "1     9931\n",
       "Name: 이탈여부, dtype: int64"
      ]
     },
     "execution_count": 20,
     "metadata": {},
     "output_type": "execute_result"
    }
   ],
   "source": [
    "churn_df['이탈여부'].value_counts()"
   ]
  },
  {
   "cell_type": "code",
   "execution_count": 21,
   "metadata": {
    "ExecuteTime": {
     "end_time": "2022-11-10T01:53:17.264091Z",
     "start_time": "2022-11-10T01:53:17.259105Z"
    }
   },
   "outputs": [],
   "source": [
    "major_class, minor_class = churn_df['이탈여부'].value_counts()"
   ]
  },
  {
   "cell_type": "code",
   "execution_count": 22,
   "metadata": {
    "ExecuteTime": {
     "end_time": "2022-11-10T01:53:17.729149Z",
     "start_time": "2022-11-10T01:53:17.697876Z"
    }
   },
   "outputs": [
    {
     "name": "stdout",
     "output_type": "stream",
     "text": [
      "major_data: (10069, 26)\n",
      "under_major_data: (9931, 26)\n",
      "minor_data: (9931, 26)\n"
     ]
    }
   ],
   "source": [
    "major_data = churn_df[churn_df['이탈여부'] == 0.0]\n",
    "minor_data = churn_df[churn_df['이탈여부'] == 1.0]\n",
    "\n",
    "under_major_data = major_data.sample(n= minor_class, random_state=123)\n",
    "\n",
    "print(\"major_data:\", major_data.shape)\n",
    "print(\"under_major_data:\", under_major_data.shape)\n",
    "print(\"minor_data:\", minor_data.shape)"
   ]
  },
  {
   "cell_type": "code",
   "execution_count": 23,
   "metadata": {
    "ExecuteTime": {
     "end_time": "2022-11-10T01:53:21.115607Z",
     "start_time": "2022-11-10T01:53:21.106631Z"
    }
   },
   "outputs": [],
   "source": [
    "balanced_data = pd.concat([under_major_data, minor_data], axis=0)"
   ]
  },
  {
   "cell_type": "code",
   "execution_count": 24,
   "metadata": {
    "ExecuteTime": {
     "end_time": "2022-11-10T01:53:21.537134Z",
     "start_time": "2022-11-10T01:53:21.522174Z"
    }
   },
   "outputs": [
    {
     "data": {
      "text/plain": [
       "1    9931\n",
       "0    9931\n",
       "Name: 이탈여부, dtype: int64"
      ]
     },
     "execution_count": 24,
     "metadata": {},
     "output_type": "execute_result"
    }
   ],
   "source": [
    "balanced_data['이탈여부'].value_counts()"
   ]
  },
  {
   "cell_type": "markdown",
   "metadata": {},
   "source": [
    "## Data split\n",
    "- Train data: 모델 학습을 위한 데이터\n",
    "- Validation data: 학습된 모델의 성능을 확인하고자 이용되는 데이터 (파라미터 튜닝 등 각종 모델의 실험에 사용)\n",
    "- Test data: 최종적으로 학습이 완료된 모델의 성능을 보고하고자 이용되는 데이터 (개념적으로는 현재 갖지 않는 미래 데이터)"
   ]
  },
  {
   "cell_type": "code",
   "execution_count": 25,
   "metadata": {},
   "outputs": [],
   "source": [
    "train_data = balanced_data.sample(frac=0.8, random_state=123)\n",
    "test_data = balanced_data.drop(train_data.index)\n",
    "\n",
    "val_data = train_data.sample(frac=0.2, random_state=123)\n",
    "train_data = train_data.drop(val_data.index)"
   ]
  },
  {
   "cell_type": "code",
   "execution_count": 26,
   "metadata": {},
   "outputs": [
    {
     "name": "stdout",
     "output_type": "stream",
     "text": [
      "Train_data shape: (12712, 26)\n",
      "Val_data shape: (3178, 26)\n",
      "Test_data shape: (3972, 26)\n"
     ]
    }
   ],
   "source": [
    "print(\"Train_data shape:\", train_data.shape)\n",
    "print(\"Val_data shape:\", val_data.shape)\n",
    "print(\"Test_data shape:\", test_data.shape)"
   ]
  },
  {
   "cell_type": "markdown",
   "metadata": {},
   "source": [
    "# 2. 기계학습 모델 학습 및 평가"
   ]
  },
  {
   "cell_type": "markdown",
   "metadata": {},
   "source": [
    "## 모델 평가 도구\n",
    "- 분류 문제에서 일반적으로 사용되는 성능 평가 기준들\n",
    "- 기본적으로 **'얼마나 맞췄는가?'**"
   ]
  },
  {
   "cell_type": "code",
   "execution_count": 27,
   "metadata": {},
   "outputs": [],
   "source": [
    "from sklearn.metrics import accuracy_score\n",
    "from sklearn.metrics import f1_score"
   ]
  },
  {
   "cell_type": "markdown",
   "metadata": {},
   "source": [
    "## pd.DataFrame >> np.array\n",
    "- sklearn의 함수들이 numpy의 array형태로 데이터를 받기 때문에 데이터 형 변환\n",
    "- 인풋 데이터 (X)와 아웃풋 데이터 (y)를 따로 준비"
   ]
  },
  {
   "cell_type": "code",
   "execution_count": 28,
   "metadata": {},
   "outputs": [],
   "source": [
    "train_X = np.array(train_data.iloc[:, :-1])\n",
    "train_y = np.array(train_data.iloc[:, -1])\n",
    "\n",
    "val_X = np.array(val_data.iloc[:, :-1])\n",
    "val_y = np.array(val_data.iloc[:, -1])\n",
    "\n",
    "test_X = np.array(test_data.iloc[:, :-1])\n",
    "test_y = np.array(test_data.iloc[:, -1])"
   ]
  },
  {
   "cell_type": "markdown",
   "metadata": {},
   "source": [
    "## Random Forest (RF)\n",
    "- 대표적인 앙상블(Ensemble) 방법으로 분류 및 회귀 문제 모두에서 사용 가능\n",
    "- Bootstrap (Sampling with replacement) 과 Random Subspace 방식을 이용하여 많은 수의 다른 의사결정나무 생성"
   ]
  },
  {
   "cell_type": "code",
   "execution_count": 29,
   "metadata": {},
   "outputs": [],
   "source": [
    "from sklearn.ensemble import RandomForestClassifier"
   ]
  },
  {
   "cell_type": "code",
   "execution_count": 30,
   "metadata": {},
   "outputs": [
    {
     "data": {
      "text/plain": [
       "RandomForestClassifier(n_jobs=4, random_state=123)"
      ]
     },
     "execution_count": 30,
     "metadata": {},
     "output_type": "execute_result"
    }
   ],
   "source": [
    "rf = RandomForestClassifier(n_jobs=4, random_state=123)\n",
    "rf.fit(train_X, train_y)"
   ]
  },
  {
   "cell_type": "code",
   "execution_count": 31,
   "metadata": {},
   "outputs": [
    {
     "name": "stdout",
     "output_type": "stream",
     "text": [
      "The first 10 prediction values for train_X: [0 0 1 1 1 1 0 1 0 0]\n",
      "The first 10 prediction values for val_X: [1 1 1 1 1 0 0 1 0 0]\n",
      "The first 10 prediction values for test_X: [0 0 0 0 0 0 0 0 0 0]\n"
     ]
    }
   ],
   "source": [
    "train_pred = rf.predict(train_X)\n",
    "val_pred = rf.predict(val_X)\n",
    "test_pred = rf.predict(test_X)\n",
    "\n",
    "print(\"The first 10 prediction values for train_X:\", train_pred[:10])\n",
    "print(\"The first 10 prediction values for val_X:\", val_pred[:10])\n",
    "print(\"The first 10 prediction values for test_X:\", test_pred[:10])"
   ]
  },
  {
   "cell_type": "code",
   "execution_count": 32,
   "metadata": {},
   "outputs": [
    {
     "name": "stdout",
     "output_type": "stream",
     "text": [
      "train_acc: 0.9984266834487099\n",
      "train_f1: 0.998422712933754\n"
     ]
    }
   ],
   "source": [
    "train_acc = accuracy_score(train_y, train_pred)\n",
    "train_f1 = f1_score(train_y, train_pred)\n",
    "\n",
    "print(\"train_acc:\", train_acc)\n",
    "print(\"train_f1:\", train_f1)"
   ]
  },
  {
   "cell_type": "code",
   "execution_count": 33,
   "metadata": {},
   "outputs": [
    {
     "name": "stdout",
     "output_type": "stream",
     "text": [
      "val_acc: 0.7869729389553178\n",
      "val_f1: 0.7788304475661548\n"
     ]
    }
   ],
   "source": [
    "val_acc = accuracy_score(val_y, val_pred)\n",
    "val_f1 = f1_score(val_y, val_pred)\n",
    "\n",
    "print(\"val_acc:\", val_acc)\n",
    "print(\"val_f1:\", val_f1)"
   ]
  },
  {
   "cell_type": "code",
   "execution_count": 34,
   "metadata": {},
   "outputs": [
    {
     "name": "stdout",
     "output_type": "stream",
     "text": [
      "test_acc: 0.7849949647532729\n",
      "test_f1: 0.7790998448008278\n"
     ]
    }
   ],
   "source": [
    "test_acc = accuracy_score(test_y, test_pred)\n",
    "test_f1 = f1_score(test_y, test_pred)\n",
    "\n",
    "print(\"test_acc:\", test_acc)\n",
    "print(\"test_f1:\", test_f1)"
   ]
  },
  {
   "cell_type": "markdown",
   "metadata": {},
   "source": [
    "# 3. 실험을 위한 코드 작성\n",
    "- 반복 실험 및 재사용을 위한 함수별 코드 작성\n",
    "- 파라미터 튜닝을 통한 모델 성능 향상\n",
    "- 실험 결과표 작성\n",
    "- 그래프 작성"
   ]
  },
  {
   "cell_type": "code",
   "execution_count": 36,
   "metadata": {},
   "outputs": [],
   "source": [
    "import time\n",
    "\n",
    "from sklearn.ensemble import RandomForestClassifier\n",
    "from sklearn.svm import SVC\n",
    "from sklearn.neural_network import MLPClassifier\n",
    "\n",
    "from sklearn.metrics import accuracy_score, f1_score"
   ]
  },
  {
   "cell_type": "markdown",
   "metadata": {},
   "source": [
    "### timer 함수\n",
    "- 목적: 시간측정\n",
    "- 입력: 시작 시간, 종료 시간\n",
    "- 출력: 계산된 분, 초"
   ]
  },
  {
   "cell_type": "code",
   "execution_count": 37,
   "metadata": {},
   "outputs": [],
   "source": [
    "def timer(start_time, end_time):\n",
    "    elapsed_time = end_time - start_time\n",
    "    elapsed_mins = int(elapsed_time / 60)\n",
    "    elapsed_secs = int(elapsed_time - (elapsed_mins * 60))\n",
    "    return elapsed_mins, elapsed_secs"
   ]
  },
  {
   "cell_type": "markdown",
   "metadata": {},
   "source": [
    "### training 함수\n",
    "- 목적: 파라미터 튜닝을 통한 최적 모델 학습 \n",
    "- 입력: 알고리즘 이름, 파라미터들, Train 데이터, Val 데이터\n",
    "- 출력: 학습된 최적 모델"
   ]
  },
  {
   "cell_type": "code",
   "execution_count": 38,
   "metadata": {},
   "outputs": [],
   "source": [
    "def training(model, params, train_X, train_y, val_X, val_y):\n",
    "    print(\"Model:\", model)\n",
    "    best_acc = None\n",
    "    for i, para in enumerate(params):\n",
    "        start_time = time.time()\n",
    "        \n",
    "        if model == \"rf\":\n",
    "            clf = RandomForestClassifier(n_estimators=para, n_jobs=4, random_state=123)\n",
    "        elif model == \"svm\":\n",
    "            clf = SVC(C=para, random_state=123)\n",
    "        elif model == 'ann':\n",
    "            clf = MLPClassifier(hidden_layer_sizes=(para), random_state=123)\n",
    "            \n",
    "        clf.fit(train_X, train_y)\n",
    "\n",
    "        train_pred = clf.predict(train_X)\n",
    "        val_pred = clf.predict(val_X)\n",
    "        \n",
    "        train_acc = accuracy_score(train_y, train_pred)\n",
    "        val_acc = accuracy_score(val_y, val_pred)\n",
    "\n",
    "        m, s = timer(start_time, time.time())\n",
    "\n",
    "        print(\"Took: {}m {}s | {} | Train acc: {:.3f} | Val acc: {:.3f}\".format(m, s, para, train_acc, val_acc))\n",
    "\n",
    "        if best_acc:\n",
    "            if val_acc > best_acc:\n",
    "                best_clf = clf\n",
    "                best_para = para\n",
    "                best_acc = val_acc\n",
    "        else:                               # 초기화\n",
    "            best_acc = val_acc\n",
    "            best_clf = clf\n",
    "            best_para = para\n",
    "\n",
    "    print(\"Best para: {} when Val acc: {:.3f}\".format(best_para, best_acc))\n",
    "    return best_clf"
   ]
  },
  {
   "cell_type": "markdown",
   "metadata": {},
   "source": [
    "### evaluation 함수\n",
    "- 목적: 모델 성능 측정\n",
    "- 입력: 실제값, 예측값\n",
    "- 출력: acc와 f1이 담겨있는 np.array"
   ]
  },
  {
   "cell_type": "code",
   "execution_count": 39,
   "metadata": {},
   "outputs": [],
   "source": [
    "def evaluation(true, pred):\n",
    "    acc = accuracy_score(true, pred)\n",
    "    f1 = f1_score(true, pred)\n",
    "\n",
    "    results = np.array([acc, f1])    \n",
    "    return results"
   ]
  },
  {
   "cell_type": "markdown",
   "metadata": {},
   "source": [
    "### experiment 함수\n",
    "- 목적: 여러 모델에 대한 실험 수행\n",
    "- 입력: 모델이름의 리스트, 각 모델에 필요한 파라미터들의 리스트, train 데이터, val 데이터, test 데이터\n",
    "- 출력: 각 모델별로 실험 결과가 담겨진 dict"
   ]
  },
  {
   "cell_type": "code",
   "execution_count": 40,
   "metadata": {},
   "outputs": [],
   "source": [
    "def experiment(model_list, params_list, train_X, train_y, val_X, val_y, test_X, test_y):\n",
    "\n",
    "    result_dict = {}\n",
    "    for model, params in zip(model_list, params_list):\n",
    "        \n",
    "        clf = training(model, params, train_X, train_y, val_X, val_y)\n",
    "        \n",
    "        val_pred = clf.predict(val_X)\n",
    "        test_pred = clf.predict(test_X)\n",
    "        \n",
    "        val_result = evaluation(val_y, val_pred)\n",
    "        test_result = evaluation(test_y, test_pred)\n",
    "        \n",
    "        results = np.hstack([val_result, test_result]) # 총 4 차원의 벡터\n",
    "        \n",
    "        result_dict[model] = results\n",
    "    \n",
    "    return result_dict"
   ]
  },
  {
   "cell_type": "markdown",
   "metadata": {},
   "source": [
    "### table 함수\n",
    "- 목적: 실험 결과를 표의 형태로 정리\n",
    "- 입력: 모델 리스트, 실험 결과 dict\n",
    "- 출력: 실혐 결과인 pd.DataFrame"
   ]
  },
  {
   "cell_type": "code",
   "execution_count": 41,
   "metadata": {},
   "outputs": [],
   "source": [
    "def table(model_list, result_dict):\n",
    "    result_mat = np.zeros(shape = (len(model_list), 4))\n",
    "    \n",
    "    for i, model in enumerate(model_list):\n",
    "        result = result_dict[model] # 4 차원 벡터\n",
    "        result_mat[i] = result\n",
    "        \n",
    "    cols = ['val_acc', 'val_f1', 'test_acc', 'test_f1']\n",
    "    result_df = pd.DataFrame(result_mat, columns= cols)\n",
    "    result_df.insert(loc=0, column='model', value= model_list)\n",
    "    \n",
    "    return result_df"
   ]
  },
  {
   "cell_type": "markdown",
   "metadata": {},
   "source": [
    "## 최종 실험"
   ]
  },
  {
   "cell_type": "code",
   "execution_count": 42,
   "metadata": {},
   "outputs": [],
   "source": [
    "model_list = ['rf', 'svm', 'ann']\n",
    "params_list = [[10, 100, 300],\n",
    "               [0.1, 1.0, 10],\n",
    "               [10, 50, 100]]"
   ]
  },
  {
   "cell_type": "code",
   "execution_count": 43,
   "metadata": {
    "scrolled": true
   },
   "outputs": [
    {
     "name": "stdout",
     "output_type": "stream",
     "text": [
      "Model: rf\n",
      "Took: 0m 0s | 10 | Train acc: 0.980 | Val acc: 0.750\n",
      "Took: 0m 0s | 100 | Train acc: 0.998 | Val acc: 0.787\n",
      "Took: 0m 2s | 300 | Train acc: 0.998 | Val acc: 0.786\n",
      "Best para: 100 when Val acc: 0.787\n",
      "Model: svm\n",
      "Took: 0m 9s | 0.1 | Train acc: 0.600 | Val acc: 0.589\n",
      "Took: 0m 9s | 1.0 | Train acc: 0.619 | Val acc: 0.605\n",
      "Took: 0m 9s | 10 | Train acc: 0.679 | Val acc: 0.666\n",
      "Best para: 10 when Val acc: 0.666\n",
      "Model: ann\n",
      "Took: 0m 0s | 10 | Train acc: 0.577 | Val acc: 0.577\n",
      "Took: 0m 1s | 50 | Train acc: 0.563 | Val acc: 0.557\n",
      "Took: 0m 1s | 100 | Train acc: 0.612 | Val acc: 0.604\n",
      "Best para: 100 when Val acc: 0.604\n"
     ]
    }
   ],
   "source": [
    "exp_results = experiment(model_list, params_list, train_X, train_y, val_X, val_y, test_X, test_y)"
   ]
  },
  {
   "cell_type": "code",
   "execution_count": 44,
   "metadata": {},
   "outputs": [
    {
     "data": {
      "text/html": [
       "<div>\n",
       "<style scoped>\n",
       "    .dataframe tbody tr th:only-of-type {\n",
       "        vertical-align: middle;\n",
       "    }\n",
       "\n",
       "    .dataframe tbody tr th {\n",
       "        vertical-align: top;\n",
       "    }\n",
       "\n",
       "    .dataframe thead th {\n",
       "        text-align: right;\n",
       "    }\n",
       "</style>\n",
       "<table border=\"1\" class=\"dataframe\">\n",
       "  <thead>\n",
       "    <tr style=\"text-align: right;\">\n",
       "      <th></th>\n",
       "      <th>model</th>\n",
       "      <th>val_acc</th>\n",
       "      <th>val_f1</th>\n",
       "      <th>test_acc</th>\n",
       "      <th>test_f1</th>\n",
       "    </tr>\n",
       "  </thead>\n",
       "  <tbody>\n",
       "    <tr>\n",
       "      <th>0</th>\n",
       "      <td>rf</td>\n",
       "      <td>0.786973</td>\n",
       "      <td>0.778830</td>\n",
       "      <td>0.784995</td>\n",
       "      <td>0.779100</td>\n",
       "    </tr>\n",
       "    <tr>\n",
       "      <th>1</th>\n",
       "      <td>svm</td>\n",
       "      <td>0.665513</td>\n",
       "      <td>0.647430</td>\n",
       "      <td>0.668933</td>\n",
       "      <td>0.654402</td>\n",
       "    </tr>\n",
       "    <tr>\n",
       "      <th>2</th>\n",
       "      <td>ann</td>\n",
       "      <td>0.603839</td>\n",
       "      <td>0.390905</td>\n",
       "      <td>0.607251</td>\n",
       "      <td>0.426049</td>\n",
       "    </tr>\n",
       "  </tbody>\n",
       "</table>\n",
       "</div>"
      ],
      "text/plain": [
       "  model   val_acc    val_f1  test_acc   test_f1\n",
       "0    rf  0.786973  0.778830  0.784995  0.779100\n",
       "1   svm  0.665513  0.647430  0.668933  0.654402\n",
       "2   ann  0.603839  0.390905  0.607251  0.426049"
      ]
     },
     "execution_count": 44,
     "metadata": {},
     "output_type": "execute_result"
    }
   ],
   "source": [
    "result_df = table(model_list, exp_results)\n",
    "result_df"
   ]
  },
  {
   "cell_type": "code",
   "execution_count": 45,
   "metadata": {},
   "outputs": [
    {
     "data": {
      "text/plain": [
       "<matplotlib.axes._subplots.AxesSubplot at 0x26b7ddce790>"
      ]
     },
     "execution_count": 45,
     "metadata": {},
     "output_type": "execute_result"
    },
    {
     "data": {
      "image/png": "[encoded data removed]",
      "text/plain": [
       "<Figure size 432x288 with 1 Axes>"
      ]
     },
     "metadata": {
      "needs_background": "light"
     },
     "output_type": "display_data"
    }
   ],
   "source": [
    "result_df.plot.bar(x=\"model\", y=[\"val_acc\",\"test_acc\"], rot=0)"
   ]
  }
 ],
 "metadata": {
  "hide_input": false,
  "kernelspec": {
   "display_name": "Python 3",
   "language": "python",
   "name": "python3"
  },
  "language_info": {
   "codemirror_mode": {
    "name": "ipython",
    "version": 3
   },
   "file_extension": ".py",
   "mimetype": "text/x-python",
   "name": "python",
   "nbconvert_exporter": "python",
   "pygments_lexer": "ipython3",
   "version": "3.7.9"
  },
  "toc": {
   "base_numbering": 1,
   "nav_menu": {},
   "number_sections": true,
   "sideBar": true,
   "skip_h1_title": false,
   "title_cell": "Table of Contents",
   "title_sidebar": "Contents",
   "toc_cell": false,
   "toc_position": {},
   "toc_section_display": true,
   "toc_window_display": false
  }
 },
 "nbformat": 4,
 "nbformat_minor": 4
}
