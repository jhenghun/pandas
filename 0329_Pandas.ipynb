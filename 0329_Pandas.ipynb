{
 "cells": [
  {
   "cell_type": "markdown",
   "id": "e4d55764",
   "metadata": {},
   "source": [
    "## Pandas"
   ]
  },
  {
   "cell_type": "code",
   "execution_count": 1,
   "id": "bf10b562",
   "metadata": {},
   "outputs": [],
   "source": [
    "import pandas as pd"
   ]
  },
  {
   "cell_type": "code",
   "execution_count": 2,
   "id": "fcdd04c2",
   "metadata": {},
   "outputs": [
    {
     "data": {
      "text/plain": [
       "DatetimeIndex(['2023-01-01', '2023-01-02', '2023-01-03', '2023-01-04',\n",
       "               '2023-01-05', '2023-01-06', '2023-01-07', '2023-01-08',\n",
       "               '2023-01-09', '2023-01-10'],\n",
       "              dtype='datetime64[ns]', freq='D')"
      ]
     },
     "execution_count": 2,
     "metadata": {},
     "output_type": "execute_result"
    }
   ],
   "source": [
    "dates=pd.date_range('2023-01-01','2023-01-10')\n",
    "dates"
   ]
  },
  {
   "cell_type": "code",
   "execution_count": 3,
   "id": "fe8e4009",
   "metadata": {},
   "outputs": [
    {
     "data": {
      "text/plain": [
       "2023-01-01     67\n",
       "2023-01-02     98\n",
       "2023-01-03    100\n",
       "2023-01-04     88\n",
       "2023-01-05     77\n",
       "2023-01-06     79\n",
       "2023-01-07     83\n",
       "2023-01-08     96\n",
       "2023-01-09     92\n",
       "2023-01-10     80\n",
       "Freq: D, dtype: int64"
      ]
     },
     "execution_count": 3,
     "metadata": {},
     "output_type": "execute_result"
    }
   ],
   "source": [
    "tmp1 = pd.Series([67, 98, 100, 88, 77 ,79, 83, 96, 92, 80], index=dates)\n",
    "tmp1"
   ]
  },
  {
   "cell_type": "code",
   "execution_count": 4,
   "id": "0c1eea5f",
   "metadata": {},
   "outputs": [],
   "source": [
    "import numpy as np"
   ]
  },
  {
   "cell_type": "code",
   "execution_count": 5,
   "id": "67b4c247",
   "metadata": {},
   "outputs": [
    {
     "data": {
      "text/plain": [
       "2023-01-01    85\n",
       "2023-01-02    83\n",
       "2023-01-03    97\n",
       "2023-01-04    78\n",
       "2023-01-05    95\n",
       "2023-01-06    88\n",
       "2023-01-07    83\n",
       "2023-01-08    91\n",
       "2023-01-09    83\n",
       "2023-01-10    61\n",
       "Freq: D, dtype: int64"
      ]
     },
     "execution_count": 5,
     "metadata": {},
     "output_type": "execute_result"
    }
   ],
   "source": [
    "tmp2=pd.Series(np.random.randint(60,100,size=10), index=dates)\n",
    "tmp2"
   ]
  },
  {
   "cell_type": "code",
   "execution_count": 6,
   "id": "cd499fcb",
   "metadata": {},
   "outputs": [
    {
     "data": {
      "text/html": [
       "<div>\n",
       "<style scoped>\n",
       "    .dataframe tbody tr th:only-of-type {\n",
       "        vertical-align: middle;\n",
       "    }\n",
       "\n",
       "    .dataframe tbody tr th {\n",
       "        vertical-align: top;\n",
       "    }\n",
       "\n",
       "    .dataframe thead th {\n",
       "        text-align: right;\n",
       "    }\n",
       "</style>\n",
       "<table border=\"1\" class=\"dataframe\">\n",
       "  <thead>\n",
       "    <tr style=\"text-align: right;\">\n",
       "      <th></th>\n",
       "      <th>Math</th>\n",
       "      <th>English</th>\n",
       "    </tr>\n",
       "  </thead>\n",
       "  <tbody>\n",
       "    <tr>\n",
       "      <th>2023-01-01</th>\n",
       "      <td>67</td>\n",
       "      <td>85</td>\n",
       "    </tr>\n",
       "    <tr>\n",
       "      <th>2023-01-02</th>\n",
       "      <td>98</td>\n",
       "      <td>83</td>\n",
       "    </tr>\n",
       "    <tr>\n",
       "      <th>2023-01-03</th>\n",
       "      <td>100</td>\n",
       "      <td>97</td>\n",
       "    </tr>\n",
       "    <tr>\n",
       "      <th>2023-01-04</th>\n",
       "      <td>88</td>\n",
       "      <td>78</td>\n",
       "    </tr>\n",
       "    <tr>\n",
       "      <th>2023-01-05</th>\n",
       "      <td>77</td>\n",
       "      <td>95</td>\n",
       "    </tr>\n",
       "    <tr>\n",
       "      <th>2023-01-06</th>\n",
       "      <td>79</td>\n",
       "      <td>88</td>\n",
       "    </tr>\n",
       "    <tr>\n",
       "      <th>2023-01-07</th>\n",
       "      <td>83</td>\n",
       "      <td>83</td>\n",
       "    </tr>\n",
       "    <tr>\n",
       "      <th>2023-01-08</th>\n",
       "      <td>96</td>\n",
       "      <td>91</td>\n",
       "    </tr>\n",
       "    <tr>\n",
       "      <th>2023-01-09</th>\n",
       "      <td>92</td>\n",
       "      <td>83</td>\n",
       "    </tr>\n",
       "    <tr>\n",
       "      <th>2023-01-10</th>\n",
       "      <td>80</td>\n",
       "      <td>61</td>\n",
       "    </tr>\n",
       "  </tbody>\n",
       "</table>\n",
       "</div>"
      ],
      "text/plain": [
       "            Math  English\n",
       "2023-01-01    67       85\n",
       "2023-01-02    98       83\n",
       "2023-01-03   100       97\n",
       "2023-01-04    88       78\n",
       "2023-01-05    77       95\n",
       "2023-01-06    79       88\n",
       "2023-01-07    83       83\n",
       "2023-01-08    96       91\n",
       "2023-01-09    92       83\n",
       "2023-01-10    80       61"
      ]
     },
     "execution_count": 6,
     "metadata": {},
     "output_type": "execute_result"
    }
   ],
   "source": [
    "exam=pd.DataFrame({'Math':tmp1,\n",
    "                  'English':tmp2})\n",
    "exam"
   ]
  },
  {
   "cell_type": "code",
   "execution_count": 7,
   "id": "cadbfe11",
   "metadata": {},
   "outputs": [
    {
     "data": {
      "text/plain": [
       "2023-01-01     67\n",
       "2023-01-02     98\n",
       "2023-01-03    100\n",
       "2023-01-04     88\n",
       "2023-01-05     77\n",
       "2023-01-06     79\n",
       "2023-01-07     83\n",
       "2023-01-08     96\n",
       "2023-01-09     92\n",
       "2023-01-10     80\n",
       "Freq: D, Name: Math, dtype: int64"
      ]
     },
     "execution_count": 7,
     "metadata": {},
     "output_type": "execute_result"
    }
   ],
   "source": [
    "exam.Math"
   ]
  },
  {
   "cell_type": "code",
   "execution_count": 8,
   "id": "e17c8c8e",
   "metadata": {},
   "outputs": [
    {
     "data": {
      "text/plain": [
       "2023-01-01     67\n",
       "2023-01-02     98\n",
       "2023-01-03    100\n",
       "2023-01-04     88\n",
       "2023-01-05     77\n",
       "2023-01-06     79\n",
       "2023-01-07     83\n",
       "2023-01-08     96\n",
       "2023-01-09     92\n",
       "2023-01-10     80\n",
       "Freq: D, Name: Math, dtype: int64"
      ]
     },
     "execution_count": 8,
     "metadata": {},
     "output_type": "execute_result"
    }
   ],
   "source": [
    "exam['Math']"
   ]
  },
  {
   "cell_type": "code",
   "execution_count": 9,
   "id": "72a7d539",
   "metadata": {},
   "outputs": [
    {
     "data": {
      "text/plain": [
       "78"
      ]
     },
     "execution_count": 9,
     "metadata": {},
     "output_type": "execute_result"
    }
   ],
   "source": [
    "exam.loc['2023-01-04', 'English']\n",
    "#파라미터 2개, 행열"
   ]
  },
  {
   "cell_type": "code",
   "execution_count": 10,
   "id": "3bbad0e1",
   "metadata": {},
   "outputs": [
    {
     "data": {
      "text/plain": [
       "80"
      ]
     },
     "execution_count": 10,
     "metadata": {},
     "output_type": "execute_result"
    }
   ],
   "source": [
    "exam.iloc[-1, 0]\n",
    "#iloc은 파라미터에 숫자만 올 수 있음"
   ]
  },
  {
   "cell_type": "code",
   "execution_count": 11,
   "id": "43a38b39",
   "metadata": {},
   "outputs": [],
   "source": [
    "exam['Average']=(exam.Math+exam.English)/2"
   ]
  },
  {
   "cell_type": "code",
   "execution_count": 12,
   "id": "b58c244a",
   "metadata": {},
   "outputs": [],
   "source": [
    "exam.drop('Average', axis=1, inplace=True)\n",
    "#세로는 1, 가로는 0\n",
    "#inplace: 영원히 지울건지"
   ]
  },
  {
   "cell_type": "code",
   "execution_count": 13,
   "id": "0d3bf7f8",
   "metadata": {},
   "outputs": [
    {
     "data": {
      "text/html": [
       "<div>\n",
       "<style scoped>\n",
       "    .dataframe tbody tr th:only-of-type {\n",
       "        vertical-align: middle;\n",
       "    }\n",
       "\n",
       "    .dataframe tbody tr th {\n",
       "        vertical-align: top;\n",
       "    }\n",
       "\n",
       "    .dataframe thead th {\n",
       "        text-align: right;\n",
       "    }\n",
       "</style>\n",
       "<table border=\"1\" class=\"dataframe\">\n",
       "  <thead>\n",
       "    <tr style=\"text-align: right;\">\n",
       "      <th></th>\n",
       "      <th>Math</th>\n",
       "      <th>English</th>\n",
       "      <th>Average</th>\n",
       "    </tr>\n",
       "  </thead>\n",
       "  <tbody>\n",
       "    <tr>\n",
       "      <th>2023-01-01</th>\n",
       "      <td>67</td>\n",
       "      <td>85</td>\n",
       "      <td>76.0</td>\n",
       "    </tr>\n",
       "    <tr>\n",
       "      <th>2023-01-02</th>\n",
       "      <td>98</td>\n",
       "      <td>83</td>\n",
       "      <td>90.5</td>\n",
       "    </tr>\n",
       "    <tr>\n",
       "      <th>2023-01-03</th>\n",
       "      <td>100</td>\n",
       "      <td>97</td>\n",
       "      <td>98.5</td>\n",
       "    </tr>\n",
       "    <tr>\n",
       "      <th>2023-01-04</th>\n",
       "      <td>88</td>\n",
       "      <td>78</td>\n",
       "      <td>83.0</td>\n",
       "    </tr>\n",
       "    <tr>\n",
       "      <th>2023-01-05</th>\n",
       "      <td>77</td>\n",
       "      <td>95</td>\n",
       "      <td>86.0</td>\n",
       "    </tr>\n",
       "    <tr>\n",
       "      <th>2023-01-06</th>\n",
       "      <td>79</td>\n",
       "      <td>88</td>\n",
       "      <td>83.5</td>\n",
       "    </tr>\n",
       "    <tr>\n",
       "      <th>2023-01-07</th>\n",
       "      <td>83</td>\n",
       "      <td>83</td>\n",
       "      <td>83.0</td>\n",
       "    </tr>\n",
       "    <tr>\n",
       "      <th>2023-01-08</th>\n",
       "      <td>96</td>\n",
       "      <td>91</td>\n",
       "      <td>93.5</td>\n",
       "    </tr>\n",
       "    <tr>\n",
       "      <th>2023-01-09</th>\n",
       "      <td>92</td>\n",
       "      <td>83</td>\n",
       "      <td>87.5</td>\n",
       "    </tr>\n",
       "    <tr>\n",
       "      <th>2023-01-10</th>\n",
       "      <td>80</td>\n",
       "      <td>61</td>\n",
       "      <td>70.5</td>\n",
       "    </tr>\n",
       "  </tbody>\n",
       "</table>\n",
       "</div>"
      ],
      "text/plain": [
       "            Math  English  Average\n",
       "2023-01-01    67       85     76.0\n",
       "2023-01-02    98       83     90.5\n",
       "2023-01-03   100       97     98.5\n",
       "2023-01-04    88       78     83.0\n",
       "2023-01-05    77       95     86.0\n",
       "2023-01-06    79       88     83.5\n",
       "2023-01-07    83       83     83.0\n",
       "2023-01-08    96       91     93.5\n",
       "2023-01-09    92       83     87.5\n",
       "2023-01-10    80       61     70.5"
      ]
     },
     "execution_count": 13,
     "metadata": {},
     "output_type": "execute_result"
    }
   ],
   "source": [
    "exam[\"Average\"]=np.mean(exam, axis=1)\n",
    "exam"
   ]
  },
  {
   "cell_type": "markdown",
   "id": "563dad42",
   "metadata": {},
   "source": [
    "> **Q. 2023-01-02 이전과 2023-01-09 이후의 시험성적만 보여주세요**"
   ]
  },
  {
   "cell_type": "code",
   "execution_count": 14,
   "id": "3ddf8287",
   "metadata": {},
   "outputs": [
    {
     "data": {
      "text/html": [
       "<div>\n",
       "<style scoped>\n",
       "    .dataframe tbody tr th:only-of-type {\n",
       "        vertical-align: middle;\n",
       "    }\n",
       "\n",
       "    .dataframe tbody tr th {\n",
       "        vertical-align: top;\n",
       "    }\n",
       "\n",
       "    .dataframe thead th {\n",
       "        text-align: right;\n",
       "    }\n",
       "</style>\n",
       "<table border=\"1\" class=\"dataframe\">\n",
       "  <thead>\n",
       "    <tr style=\"text-align: right;\">\n",
       "      <th></th>\n",
       "      <th>Math</th>\n",
       "      <th>English</th>\n",
       "      <th>Average</th>\n",
       "    </tr>\n",
       "  </thead>\n",
       "  <tbody>\n",
       "    <tr>\n",
       "      <th>2023-01-01</th>\n",
       "      <td>67</td>\n",
       "      <td>85</td>\n",
       "      <td>76.0</td>\n",
       "    </tr>\n",
       "    <tr>\n",
       "      <th>2023-01-02</th>\n",
       "      <td>98</td>\n",
       "      <td>83</td>\n",
       "      <td>90.5</td>\n",
       "    </tr>\n",
       "    <tr>\n",
       "      <th>2023-01-09</th>\n",
       "      <td>92</td>\n",
       "      <td>83</td>\n",
       "      <td>87.5</td>\n",
       "    </tr>\n",
       "    <tr>\n",
       "      <th>2023-01-10</th>\n",
       "      <td>80</td>\n",
       "      <td>61</td>\n",
       "      <td>70.5</td>\n",
       "    </tr>\n",
       "  </tbody>\n",
       "</table>\n",
       "</div>"
      ],
      "text/plain": [
       "            Math  English  Average\n",
       "2023-01-01    67       85     76.0\n",
       "2023-01-02    98       83     90.5\n",
       "2023-01-09    92       83     87.5\n",
       "2023-01-10    80       61     70.5"
      ]
     },
     "execution_count": 14,
     "metadata": {},
     "output_type": "execute_result"
    }
   ],
   "source": [
    "exam.loc[(exam.index<='2023-01-02')|(exam.index>='2023-01-09')]"
   ]
  },
  {
   "cell_type": "markdown",
   "id": "fd1a9a1c",
   "metadata": {},
   "source": [
    "> **Q. 평균점수가 85점 이상인 날짜의 영어점수 데이터만 보여주세요**"
   ]
  },
  {
   "cell_type": "code",
   "execution_count": 15,
   "id": "6a63a1c5",
   "metadata": {},
   "outputs": [
    {
     "data": {
      "text/plain": [
       "2023-01-02    83\n",
       "2023-01-03    97\n",
       "2023-01-05    95\n",
       "2023-01-08    91\n",
       "2023-01-09    83\n",
       "Name: English, dtype: int64"
      ]
     },
     "execution_count": 15,
     "metadata": {},
     "output_type": "execute_result"
    }
   ],
   "source": [
    "exam.loc[exam.Average>=85, 'English']"
   ]
  },
  {
   "cell_type": "code",
   "execution_count": 16,
   "id": "ec472e43",
   "metadata": {},
   "outputs": [
    {
     "data": {
      "text/plain": [
       "2023-01-02    83\n",
       "2023-01-03    97\n",
       "2023-01-05    95\n",
       "2023-01-08    91\n",
       "2023-01-09    83\n",
       "Name: English, dtype: int64"
      ]
     },
     "execution_count": 16,
     "metadata": {},
     "output_type": "execute_result"
    }
   ],
   "source": [
    "exam[exam.Average>=85].English\n",
    "#명령어. 은 특정 행만 보여줌"
   ]
  },
  {
   "cell_type": "markdown",
   "id": "492c20e0",
   "metadata": {},
   "source": [
    "> **Q. 2023-01-05 이후 수학점수가 80점 이상인 데이터만 보여주세요**"
   ]
  },
  {
   "cell_type": "code",
   "execution_count": 17,
   "id": "944301de",
   "metadata": {},
   "outputs": [
    {
     "data": {
      "text/plain": [
       "<AxesSubplot:title={'center':'Exam Score'}>"
      ]
     },
     "execution_count": 17,
     "metadata": {},
     "output_type": "execute_result"
    },
    {
     "data": {
      "image/png": "[encoded data removed]",
      "text/plain": [
       "<Figure size 1500x800 with 1 Axes>"
      ]
     },
     "metadata": {},
     "output_type": "display_data"
    }
   ],
   "source": [
    "exam.loc[(exam.index>'2023-01-05')&(exam.Math>=80)].plot(kind='bar',figsize=(15,8), title='Exam Score')\n",
    "#exam.loc['2023-01-05:'][exam.Math>=80]"
   ]
  },
  {
   "cell_type": "markdown",
   "id": "1935a4d8",
   "metadata": {},
   "source": [
    "## 영화 리뷰 데이터 분석"
   ]
  },
  {
   "cell_type": "code",
   "execution_count": 18,
   "id": "46dc556d",
   "metadata": {},
   "outputs": [
    {
     "name": "stdout",
     "output_type": "stream",
     "text": [
      "(979, 6)\n"
     ]
    },
    {
     "data": {
      "text/html": [
       "<div>\n",
       "<style scoped>\n",
       "    .dataframe tbody tr th:only-of-type {\n",
       "        vertical-align: middle;\n",
       "    }\n",
       "\n",
       "    .dataframe tbody tr th {\n",
       "        vertical-align: top;\n",
       "    }\n",
       "\n",
       "    .dataframe thead th {\n",
       "        text-align: right;\n",
       "    }\n",
       "</style>\n",
       "<table border=\"1\" class=\"dataframe\">\n",
       "  <thead>\n",
       "    <tr style=\"text-align: right;\">\n",
       "      <th></th>\n",
       "      <th>star_rating</th>\n",
       "      <th>title</th>\n",
       "      <th>content_rating</th>\n",
       "      <th>genre</th>\n",
       "      <th>duration</th>\n",
       "      <th>actors_list</th>\n",
       "    </tr>\n",
       "  </thead>\n",
       "  <tbody>\n",
       "    <tr>\n",
       "      <th>969</th>\n",
       "      <td>7.4</td>\n",
       "      <td>Law Abiding Citizen</td>\n",
       "      <td>R</td>\n",
       "      <td>Crime</td>\n",
       "      <td>109</td>\n",
       "      <td>[u'Gerard Butler', u'Jamie Foxx', u'Leslie Bibb']</td>\n",
       "    </tr>\n",
       "    <tr>\n",
       "      <th>970</th>\n",
       "      <td>7.4</td>\n",
       "      <td>Wonder Boys</td>\n",
       "      <td>R</td>\n",
       "      <td>Drama</td>\n",
       "      <td>107</td>\n",
       "      <td>[u'Michael Douglas', u'Tobey Maguire', u'Franc...</td>\n",
       "    </tr>\n",
       "    <tr>\n",
       "      <th>971</th>\n",
       "      <td>7.4</td>\n",
       "      <td>Death at a Funeral</td>\n",
       "      <td>R</td>\n",
       "      <td>Comedy</td>\n",
       "      <td>90</td>\n",
       "      <td>[u'Matthew Macfadyen', u'Peter Dinklage', u'Ew...</td>\n",
       "    </tr>\n",
       "    <tr>\n",
       "      <th>972</th>\n",
       "      <td>7.4</td>\n",
       "      <td>Blue Valentine</td>\n",
       "      <td>NC-17</td>\n",
       "      <td>Drama</td>\n",
       "      <td>112</td>\n",
       "      <td>[u'Ryan Gosling', u'Michelle Williams', u'John...</td>\n",
       "    </tr>\n",
       "    <tr>\n",
       "      <th>973</th>\n",
       "      <td>7.4</td>\n",
       "      <td>The Cider House Rules</td>\n",
       "      <td>PG-13</td>\n",
       "      <td>Drama</td>\n",
       "      <td>126</td>\n",
       "      <td>[u'Tobey Maguire', u'Charlize Theron', u'Micha...</td>\n",
       "    </tr>\n",
       "    <tr>\n",
       "      <th>974</th>\n",
       "      <td>7.4</td>\n",
       "      <td>Tootsie</td>\n",
       "      <td>PG</td>\n",
       "      <td>Comedy</td>\n",
       "      <td>116</td>\n",
       "      <td>[u'Dustin Hoffman', u'Jessica Lange', u'Teri G...</td>\n",
       "    </tr>\n",
       "    <tr>\n",
       "      <th>975</th>\n",
       "      <td>7.4</td>\n",
       "      <td>Back to the Future Part III</td>\n",
       "      <td>PG</td>\n",
       "      <td>Adventure</td>\n",
       "      <td>118</td>\n",
       "      <td>[u'Michael J. Fox', u'Christopher Lloyd', u'Ma...</td>\n",
       "    </tr>\n",
       "    <tr>\n",
       "      <th>976</th>\n",
       "      <td>7.4</td>\n",
       "      <td>Master and Commander: The Far Side of the World</td>\n",
       "      <td>PG-13</td>\n",
       "      <td>Action</td>\n",
       "      <td>138</td>\n",
       "      <td>[u'Russell Crowe', u'Paul Bettany', u'Billy Bo...</td>\n",
       "    </tr>\n",
       "    <tr>\n",
       "      <th>977</th>\n",
       "      <td>7.4</td>\n",
       "      <td>Poltergeist</td>\n",
       "      <td>PG</td>\n",
       "      <td>Horror</td>\n",
       "      <td>114</td>\n",
       "      <td>[u'JoBeth Williams', u\"Heather O'Rourke\", u'Cr...</td>\n",
       "    </tr>\n",
       "    <tr>\n",
       "      <th>978</th>\n",
       "      <td>7.4</td>\n",
       "      <td>Wall Street</td>\n",
       "      <td>R</td>\n",
       "      <td>Crime</td>\n",
       "      <td>126</td>\n",
       "      <td>[u'Charlie Sheen', u'Michael Douglas', u'Tamar...</td>\n",
       "    </tr>\n",
       "  </tbody>\n",
       "</table>\n",
       "</div>"
      ],
      "text/plain": [
       "     star_rating                                            title  \\\n",
       "969          7.4                              Law Abiding Citizen   \n",
       "970          7.4                                      Wonder Boys   \n",
       "971          7.4                               Death at a Funeral   \n",
       "972          7.4                                   Blue Valentine   \n",
       "973          7.4                            The Cider House Rules   \n",
       "974          7.4                                          Tootsie   \n",
       "975          7.4                      Back to the Future Part III   \n",
       "976          7.4  Master and Commander: The Far Side of the World   \n",
       "977          7.4                                      Poltergeist   \n",
       "978          7.4                                      Wall Street   \n",
       "\n",
       "    content_rating      genre  duration  \\\n",
       "969              R      Crime       109   \n",
       "970              R      Drama       107   \n",
       "971              R     Comedy        90   \n",
       "972          NC-17      Drama       112   \n",
       "973          PG-13      Drama       126   \n",
       "974             PG     Comedy       116   \n",
       "975             PG  Adventure       118   \n",
       "976          PG-13     Action       138   \n",
       "977             PG     Horror       114   \n",
       "978              R      Crime       126   \n",
       "\n",
       "                                           actors_list  \n",
       "969  [u'Gerard Butler', u'Jamie Foxx', u'Leslie Bibb']  \n",
       "970  [u'Michael Douglas', u'Tobey Maguire', u'Franc...  \n",
       "971  [u'Matthew Macfadyen', u'Peter Dinklage', u'Ew...  \n",
       "972  [u'Ryan Gosling', u'Michelle Williams', u'John...  \n",
       "973  [u'Tobey Maguire', u'Charlize Theron', u'Micha...  \n",
       "974  [u'Dustin Hoffman', u'Jessica Lange', u'Teri G...  \n",
       "975  [u'Michael J. Fox', u'Christopher Lloyd', u'Ma...  \n",
       "976  [u'Russell Crowe', u'Paul Bettany', u'Billy Bo...  \n",
       "977  [u'JoBeth Williams', u\"Heather O'Rourke\", u'Cr...  \n",
       "978  [u'Charlie Sheen', u'Michael Douglas', u'Tamar...  "
      ]
     },
     "execution_count": 18,
     "metadata": {},
     "output_type": "execute_result"
    }
   ],
   "source": [
    "movies=pd.read_csv('http://bit.ly/imdbratings')\n",
    "print(movies.shape)\n",
    "movies.tail(10)\n",
    "#데이터 용량이 클 때, 규모 파악하고 잘 불러왔는지 파악"
   ]
  },
  {
   "cell_type": "code",
   "execution_count": 19,
   "id": "93a33524",
   "metadata": {},
   "outputs": [
    {
     "data": {
      "text/plain": [
       "Index(['star_rating', 'title', 'content_rating', 'genre', 'duration',\n",
       "       'actors_list'],\n",
       "      dtype='object')"
      ]
     },
     "execution_count": 19,
     "metadata": {},
     "output_type": "execute_result"
    }
   ],
   "source": [
    "movies.columns"
   ]
  },
  {
   "cell_type": "code",
   "execution_count": 20,
   "id": "5ae3074d",
   "metadata": {},
   "outputs": [
    {
     "name": "stdout",
     "output_type": "stream",
     "text": [
      "<class 'pandas.core.frame.DataFrame'>\n",
      "RangeIndex: 979 entries, 0 to 978\n",
      "Data columns (total 6 columns):\n",
      " #   Column          Non-Null Count  Dtype  \n",
      "---  ------          --------------  -----  \n",
      " 0   star_rating     979 non-null    float64\n",
      " 1   title           979 non-null    object \n",
      " 2   content_rating  976 non-null    object \n",
      " 3   genre           979 non-null    object \n",
      " 4   duration        979 non-null    int64  \n",
      " 5   actors_list     979 non-null    object \n",
      "dtypes: float64(1), int64(1), object(4)\n",
      "memory usage: 46.0+ KB\n"
     ]
    }
   ],
   "source": [
    "movies.info()"
   ]
  },
  {
   "cell_type": "markdown",
   "id": "1269a11b",
   "metadata": {},
   "source": [
    "> **Q. 영화 상영시간이 200분 이상인 영화들이 장르별로 몇 개씩 있는지 알려주세요**"
   ]
  },
  {
   "cell_type": "code",
   "execution_count": 21,
   "id": "4d73e745",
   "metadata": {},
   "outputs": [
    {
     "data": {
      "text/plain": [
       "Adventure    5\n",
       "Drama        3\n",
       "Crime        2\n",
       "Biography    1\n",
       "Action       1\n",
       "Name: genre, dtype: int64"
      ]
     },
     "execution_count": 21,
     "metadata": {},
     "output_type": "execute_result"
    }
   ],
   "source": [
    "movies[movies.duration>=200].genre.value_counts()"
   ]
  },
  {
   "cell_type": "code",
   "execution_count": 33,
   "id": "d56d09ff",
   "metadata": {},
   "outputs": [
    {
     "data": {
      "text/plain": [
       "8.32"
      ]
     },
     "execution_count": 33,
     "metadata": {},
     "output_type": "execute_result"
    }
   ],
   "source": [
    "movies[(movies.duration>=200)&(movies.genre=='Adventure')].star_rating.mean()"
   ]
  },
  {
   "cell_type": "markdown",
   "id": "e30673af",
   "metadata": {},
   "source": [
    "> **Q. 영화 장르가 Adventure, Drama, Crime인 영화를 찾고 총 몇개씩인지 알려주세요**"
   ]
  },
  {
   "cell_type": "code",
   "execution_count": 27,
   "id": "064d1d5c",
   "metadata": {},
   "outputs": [
    {
     "data": {
      "text/plain": [
       "Drama        278\n",
       "Crime        124\n",
       "Adventure     75\n",
       "Name: genre, dtype: int64"
      ]
     },
     "execution_count": 27,
     "metadata": {},
     "output_type": "execute_result"
    }
   ],
   "source": [
    "movies.loc[(movies.genre=='Adventure')|(movies.genre=='Drama')|(movies.genre=='Crime')].genre.value_counts()\n",
    "#movies[movies.genre.isin(['Crime','Adventure','Drama'])].genre.value_count()"
   ]
  },
  {
   "cell_type": "markdown",
   "id": "861645ec",
   "metadata": {},
   "source": [
    "> **Q. 영화의 각 장르별 평균 평점을 구해주세요**"
   ]
  },
  {
   "cell_type": "code",
   "execution_count": 39,
   "id": "43a11552",
   "metadata": {},
   "outputs": [
    {
     "data": {
      "text/plain": [
       "genre\n",
       "Western      8.255556\n",
       "Film-Noir    8.033333\n",
       "History      8.000000\n",
       "Mystery      7.975000\n",
       "Adventure    7.933333\n",
       "Sci-Fi       7.920000\n",
       "Crime        7.916935\n",
       "Animation    7.914516\n",
       "Drama        7.902518\n",
       "Action       7.884559\n",
       "Biography    7.862338\n",
       "Family       7.850000\n",
       "Comedy       7.822436\n",
       "Horror       7.806897\n",
       "Fantasy      7.700000\n",
       "Thriller     7.680000\n",
       "Name: star_rating, dtype: float64"
      ]
     },
     "execution_count": 39,
     "metadata": {},
     "output_type": "execute_result"
    }
   ],
   "source": [
    "movies.groupby('genre').star_rating.mean().sort_values(ascending=False)"
   ]
  },
  {
   "cell_type": "markdown",
   "id": "38c0120f",
   "metadata": {},
   "source": [
    "## 주식 데이터 분석"
   ]
  },
  {
   "cell_type": "code",
   "execution_count": 40,
   "id": "78e0d8bc",
   "metadata": {},
   "outputs": [
    {
     "name": "stdout",
     "output_type": "stream",
     "text": [
      "Collecting pandas-datareader\n",
      "  Downloading pandas_datareader-0.10.0-py3-none-any.whl (109 kB)\n",
      "\u001b[2K     \u001b[90m━━━━━━━━━━━━━━━━━━━━━━━━━━━━━━━━━━━━━━━\u001b[0m \u001b[32m109.5/109.5 kB\u001b[0m \u001b[31m5.8 MB/s\u001b[0m eta \u001b[36m0:00:00\u001b[0m\n",
      "\u001b[?25hRequirement already satisfied: requests>=2.19.0 in /Users/jeonghunp/opt/anaconda3/lib/python3.9/site-packages (from pandas-datareader) (2.28.1)\n",
      "Requirement already satisfied: lxml in /Users/jeonghunp/opt/anaconda3/lib/python3.9/site-packages (from pandas-datareader) (4.9.1)\n",
      "Requirement already satisfied: pandas>=0.23 in /Users/jeonghunp/opt/anaconda3/lib/python3.9/site-packages (from pandas-datareader) (1.4.4)\n",
      "Requirement already satisfied: python-dateutil>=2.8.1 in /Users/jeonghunp/opt/anaconda3/lib/python3.9/site-packages (from pandas>=0.23->pandas-datareader) (2.8.2)\n",
      "Requirement already satisfied: pytz>=2020.1 in /Users/jeonghunp/opt/anaconda3/lib/python3.9/site-packages (from pandas>=0.23->pandas-datareader) (2022.1)\n",
      "Requirement already satisfied: numpy>=1.18.5 in /Users/jeonghunp/opt/anaconda3/lib/python3.9/site-packages (from pandas>=0.23->pandas-datareader) (1.21.5)\n",
      "Requirement already satisfied: urllib3<1.27,>=1.21.1 in /Users/jeonghunp/opt/anaconda3/lib/python3.9/site-packages (from requests>=2.19.0->pandas-datareader) (1.26.11)\n",
      "Requirement already satisfied: certifi>=2017.4.17 in /Users/jeonghunp/opt/anaconda3/lib/python3.9/site-packages (from requests>=2.19.0->pandas-datareader) (2022.9.24)\n",
      "Requirement already satisfied: charset-normalizer<3,>=2 in /Users/jeonghunp/opt/anaconda3/lib/python3.9/site-packages (from requests>=2.19.0->pandas-datareader) (2.0.4)\n",
      "Requirement already satisfied: idna<4,>=2.5 in /Users/jeonghunp/opt/anaconda3/lib/python3.9/site-packages (from requests>=2.19.0->pandas-datareader) (3.3)\n",
      "Requirement already satisfied: six>=1.5 in /Users/jeonghunp/opt/anaconda3/lib/python3.9/site-packages (from python-dateutil>=2.8.1->pandas>=0.23->pandas-datareader) (1.16.0)\n",
      "Installing collected packages: pandas-datareader\n",
      "Successfully installed pandas-datareader-0.10.0\n"
     ]
    }
   ],
   "source": [
    "!pip install pandas-datareader"
   ]
  },
  {
   "cell_type": "code",
   "execution_count": 42,
   "id": "cfa9e26b",
   "metadata": {},
   "outputs": [
    {
     "name": "stdout",
     "output_type": "stream",
     "text": [
      "Collecting yfinance\n",
      "  Downloading yfinance-0.2.14-py2.py3-none-any.whl (59 kB)\n",
      "\u001b[2K     \u001b[90m━━━━━━━━━━━━━━━━━━━━━━━━━━━━━━━━━━━━━━━━\u001b[0m \u001b[32m59.7/59.7 kB\u001b[0m \u001b[31m3.9 MB/s\u001b[0m eta \u001b[36m0:00:00\u001b[0m\n",
      "\u001b[?25hCollecting html5lib>=1.1\n",
      "  Downloading html5lib-1.1-py2.py3-none-any.whl (112 kB)\n",
      "\u001b[2K     \u001b[90m━━━━━━━━━━━━━━━━━━━━━━━━━━━━━━━━━━━━━━━\u001b[0m \u001b[32m112.2/112.2 kB\u001b[0m \u001b[31m7.8 MB/s\u001b[0m eta \u001b[36m0:00:00\u001b[0m\n",
      "\u001b[?25hRequirement already satisfied: pandas>=1.3.0 in /Users/jeonghunp/opt/anaconda3/lib/python3.9/site-packages (from yfinance) (1.4.4)\n",
      "Requirement already satisfied: appdirs>=1.4.4 in /Users/jeonghunp/opt/anaconda3/lib/python3.9/site-packages (from yfinance) (1.4.4)\n",
      "Collecting pytz>=2022.5\n",
      "  Downloading pytz-2023.3-py2.py3-none-any.whl (502 kB)\n",
      "\u001b[2K     \u001b[90m━━━━━━━━━━━━━━━━━━━━━━━━━━━━━━━━━━━━━━\u001b[0m \u001b[32m502.3/502.3 kB\u001b[0m \u001b[31m10.6 MB/s\u001b[0m eta \u001b[36m0:00:00\u001b[0m00:01\u001b[0m\n",
      "\u001b[?25hCollecting frozendict>=2.3.4\n",
      "  Downloading frozendict-2.3.6-cp39-cp39-macosx_10_9_x86_64.whl (35 kB)\n",
      "Requirement already satisfied: cryptography>=3.3.2 in /Users/jeonghunp/opt/anaconda3/lib/python3.9/site-packages (from yfinance) (37.0.1)\n",
      "Requirement already satisfied: beautifulsoup4>=4.11.1 in /Users/jeonghunp/opt/anaconda3/lib/python3.9/site-packages (from yfinance) (4.11.1)\n",
      "Requirement already satisfied: numpy>=1.16.5 in /Users/jeonghunp/opt/anaconda3/lib/python3.9/site-packages (from yfinance) (1.21.5)\n",
      "Requirement already satisfied: requests>=2.26 in /Users/jeonghunp/opt/anaconda3/lib/python3.9/site-packages (from yfinance) (2.28.1)\n",
      "Requirement already satisfied: lxml>=4.9.1 in /Users/jeonghunp/opt/anaconda3/lib/python3.9/site-packages (from yfinance) (4.9.1)\n",
      "Collecting multitasking>=0.0.7\n",
      "  Downloading multitasking-0.0.11-py3-none-any.whl (8.5 kB)\n",
      "Requirement already satisfied: soupsieve>1.2 in /Users/jeonghunp/opt/anaconda3/lib/python3.9/site-packages (from beautifulsoup4>=4.11.1->yfinance) (2.3.1)\n",
      "Requirement already satisfied: cffi>=1.12 in /Users/jeonghunp/opt/anaconda3/lib/python3.9/site-packages (from cryptography>=3.3.2->yfinance) (1.15.1)\n",
      "Requirement already satisfied: webencodings in /Users/jeonghunp/opt/anaconda3/lib/python3.9/site-packages (from html5lib>=1.1->yfinance) (0.5.1)\n",
      "Requirement already satisfied: six>=1.9 in /Users/jeonghunp/opt/anaconda3/lib/python3.9/site-packages (from html5lib>=1.1->yfinance) (1.16.0)\n",
      "Requirement already satisfied: python-dateutil>=2.8.1 in /Users/jeonghunp/opt/anaconda3/lib/python3.9/site-packages (from pandas>=1.3.0->yfinance) (2.8.2)\n",
      "Requirement already satisfied: urllib3<1.27,>=1.21.1 in /Users/jeonghunp/opt/anaconda3/lib/python3.9/site-packages (from requests>=2.26->yfinance) (1.26.11)\n",
      "Requirement already satisfied: idna<4,>=2.5 in /Users/jeonghunp/opt/anaconda3/lib/python3.9/site-packages (from requests>=2.26->yfinance) (3.3)\n",
      "Requirement already satisfied: charset-normalizer<3,>=2 in /Users/jeonghunp/opt/anaconda3/lib/python3.9/site-packages (from requests>=2.26->yfinance) (2.0.4)\n",
      "Requirement already satisfied: certifi>=2017.4.17 in /Users/jeonghunp/opt/anaconda3/lib/python3.9/site-packages (from requests>=2.26->yfinance) (2022.9.24)\n",
      "Requirement already satisfied: pycparser in /Users/jeonghunp/opt/anaconda3/lib/python3.9/site-packages (from cffi>=1.12->cryptography>=3.3.2->yfinance) (2.21)\n",
      "Installing collected packages: pytz, multitasking, html5lib, frozendict, yfinance\n",
      "  Attempting uninstall: pytz\n",
      "    Found existing installation: pytz 2022.1\n",
      "    Uninstalling pytz-2022.1:\n",
      "      Successfully uninstalled pytz-2022.1\n",
      "\u001b[31mERROR: pip's dependency resolver does not currently take into account all the packages that are installed. This behaviour is the source of the following dependency conflicts.\n",
      "conda-repo-cli 1.0.20 requires clyent==1.2.1, but you have clyent 1.2.2 which is incompatible.\n",
      "conda-repo-cli 1.0.20 requires nbformat==5.4.0, but you have nbformat 5.5.0 which is incompatible.\u001b[0m\u001b[31m\n",
      "\u001b[0mSuccessfully installed frozendict-2.3.6 html5lib-1.1 multitasking-0.0.11 pytz-2023.3 yfinance-0.2.14\n"
     ]
    }
   ],
   "source": [
    "!pip install yfinance"
   ]
  },
  {
   "cell_type": "code",
   "execution_count": 43,
   "id": "23c7fa24",
   "metadata": {},
   "outputs": [
    {
     "name": "stdout",
     "output_type": "stream",
     "text": [
      "Collecting jupyterthemes\n",
      "  Downloading jupyterthemes-0.20.0-py2.py3-none-any.whl (7.0 MB)\n",
      "\u001b[2K     \u001b[90m━━━━━━━━━━━━━━━━━━━━━━━━━━━━━━━━━━━━━━━━\u001b[0m \u001b[32m7.0/7.0 MB\u001b[0m \u001b[31m5.9 MB/s\u001b[0m eta \u001b[36m0:00:00\u001b[0m00:01\u001b[0m00:01\u001b[0mm\n",
      "\u001b[?25hCollecting lesscpy>=0.11.2\n",
      "  Downloading lesscpy-0.15.1-py2.py3-none-any.whl (46 kB)\n",
      "\u001b[2K     \u001b[90m━━━━━━━━━━━━━━━━━━━━━━━━━━━━━━━━━━━━━━━━\u001b[0m \u001b[32m46.7/46.7 kB\u001b[0m \u001b[31m2.6 MB/s\u001b[0m eta \u001b[36m0:00:00\u001b[0m\n",
      "\u001b[?25hRequirement already satisfied: notebook>=5.6.0 in /Users/jeonghunp/opt/anaconda3/lib/python3.9/site-packages (from jupyterthemes) (6.4.12)\n",
      "Requirement already satisfied: matplotlib>=1.4.3 in /Users/jeonghunp/opt/anaconda3/lib/python3.9/site-packages (from jupyterthemes) (3.5.2)\n",
      "Requirement already satisfied: jupyter-core in /Users/jeonghunp/opt/anaconda3/lib/python3.9/site-packages (from jupyterthemes) (4.11.1)\n",
      "Requirement already satisfied: ipython>=5.4.1 in /Users/jeonghunp/opt/anaconda3/lib/python3.9/site-packages (from jupyterthemes) (7.31.1)\n",
      "Requirement already satisfied: backcall in /Users/jeonghunp/opt/anaconda3/lib/python3.9/site-packages (from ipython>=5.4.1->jupyterthemes) (0.2.0)\n",
      "Requirement already satisfied: decorator in /Users/jeonghunp/opt/anaconda3/lib/python3.9/site-packages (from ipython>=5.4.1->jupyterthemes) (5.1.1)\n",
      "Requirement already satisfied: pickleshare in /Users/jeonghunp/opt/anaconda3/lib/python3.9/site-packages (from ipython>=5.4.1->jupyterthemes) (0.7.5)\n",
      "Requirement already satisfied: traitlets>=4.2 in /Users/jeonghunp/opt/anaconda3/lib/python3.9/site-packages (from ipython>=5.4.1->jupyterthemes) (5.1.1)\n",
      "Requirement already satisfied: setuptools>=18.5 in /Users/jeonghunp/opt/anaconda3/lib/python3.9/site-packages (from ipython>=5.4.1->jupyterthemes) (63.4.1)\n",
      "Requirement already satisfied: pexpect>4.3 in /Users/jeonghunp/opt/anaconda3/lib/python3.9/site-packages (from ipython>=5.4.1->jupyterthemes) (4.8.0)\n",
      "Requirement already satisfied: pygments in /Users/jeonghunp/opt/anaconda3/lib/python3.9/site-packages (from ipython>=5.4.1->jupyterthemes) (2.11.2)\n",
      "Requirement already satisfied: jedi>=0.16 in /Users/jeonghunp/opt/anaconda3/lib/python3.9/site-packages (from ipython>=5.4.1->jupyterthemes) (0.18.1)\n",
      "Requirement already satisfied: appnope in /Users/jeonghunp/opt/anaconda3/lib/python3.9/site-packages (from ipython>=5.4.1->jupyterthemes) (0.1.2)\n",
      "Requirement already satisfied: matplotlib-inline in /Users/jeonghunp/opt/anaconda3/lib/python3.9/site-packages (from ipython>=5.4.1->jupyterthemes) (0.1.6)\n",
      "Requirement already satisfied: prompt-toolkit!=3.0.0,!=3.0.1,<3.1.0,>=2.0.0 in /Users/jeonghunp/opt/anaconda3/lib/python3.9/site-packages (from ipython>=5.4.1->jupyterthemes) (3.0.20)\n",
      "Requirement already satisfied: ply in /Users/jeonghunp/opt/anaconda3/lib/python3.9/site-packages (from lesscpy>=0.11.2->jupyterthemes) (3.11)\n",
      "Requirement already satisfied: kiwisolver>=1.0.1 in /Users/jeonghunp/opt/anaconda3/lib/python3.9/site-packages (from matplotlib>=1.4.3->jupyterthemes) (1.4.2)\n",
      "Requirement already satisfied: cycler>=0.10 in /Users/jeonghunp/opt/anaconda3/lib/python3.9/site-packages (from matplotlib>=1.4.3->jupyterthemes) (0.11.0)\n",
      "Requirement already satisfied: fonttools>=4.22.0 in /Users/jeonghunp/opt/anaconda3/lib/python3.9/site-packages (from matplotlib>=1.4.3->jupyterthemes) (4.25.0)\n",
      "Requirement already satisfied: numpy>=1.17 in /Users/jeonghunp/opt/anaconda3/lib/python3.9/site-packages (from matplotlib>=1.4.3->jupyterthemes) (1.21.5)\n",
      "Requirement already satisfied: python-dateutil>=2.7 in /Users/jeonghunp/opt/anaconda3/lib/python3.9/site-packages (from matplotlib>=1.4.3->jupyterthemes) (2.8.2)\n",
      "Requirement already satisfied: pillow>=6.2.0 in /Users/jeonghunp/opt/anaconda3/lib/python3.9/site-packages (from matplotlib>=1.4.3->jupyterthemes) (9.2.0)\n",
      "Requirement already satisfied: packaging>=20.0 in /Users/jeonghunp/opt/anaconda3/lib/python3.9/site-packages (from matplotlib>=1.4.3->jupyterthemes) (21.3)\n",
      "Requirement already satisfied: pyparsing>=2.2.1 in /Users/jeonghunp/opt/anaconda3/lib/python3.9/site-packages (from matplotlib>=1.4.3->jupyterthemes) (3.0.9)\n",
      "Requirement already satisfied: pyzmq>=17 in /Users/jeonghunp/opt/anaconda3/lib/python3.9/site-packages (from notebook>=5.6.0->jupyterthemes) (23.2.0)\n",
      "Requirement already satisfied: Send2Trash>=1.8.0 in /Users/jeonghunp/opt/anaconda3/lib/python3.9/site-packages (from notebook>=5.6.0->jupyterthemes) (1.8.0)\n",
      "Requirement already satisfied: argon2-cffi in /Users/jeonghunp/opt/anaconda3/lib/python3.9/site-packages (from notebook>=5.6.0->jupyterthemes) (21.3.0)\n",
      "Requirement already satisfied: jinja2 in /Users/jeonghunp/opt/anaconda3/lib/python3.9/site-packages (from notebook>=5.6.0->jupyterthemes) (2.11.3)\n",
      "Requirement already satisfied: prometheus-client in /Users/jeonghunp/opt/anaconda3/lib/python3.9/site-packages (from notebook>=5.6.0->jupyterthemes) (0.14.1)\n",
      "Requirement already satisfied: ipykernel in /Users/jeonghunp/opt/anaconda3/lib/python3.9/site-packages (from notebook>=5.6.0->jupyterthemes) (6.15.2)\n",
      "Requirement already satisfied: nest-asyncio>=1.5 in /Users/jeonghunp/opt/anaconda3/lib/python3.9/site-packages (from notebook>=5.6.0->jupyterthemes) (1.5.5)\n",
      "Requirement already satisfied: nbconvert>=5 in /Users/jeonghunp/opt/anaconda3/lib/python3.9/site-packages (from notebook>=5.6.0->jupyterthemes) (6.4.4)\n",
      "Requirement already satisfied: ipython-genutils in /Users/jeonghunp/opt/anaconda3/lib/python3.9/site-packages (from notebook>=5.6.0->jupyterthemes) (0.2.0)\n",
      "Requirement already satisfied: tornado>=6.1 in /Users/jeonghunp/opt/anaconda3/lib/python3.9/site-packages (from notebook>=5.6.0->jupyterthemes) (6.1)\n",
      "Requirement already satisfied: jupyter-client>=5.3.4 in /Users/jeonghunp/opt/anaconda3/lib/python3.9/site-packages (from notebook>=5.6.0->jupyterthemes) (7.3.4)\n",
      "Requirement already satisfied: nbformat in /Users/jeonghunp/opt/anaconda3/lib/python3.9/site-packages (from notebook>=5.6.0->jupyterthemes) (5.5.0)\n",
      "Requirement already satisfied: terminado>=0.8.3 in /Users/jeonghunp/opt/anaconda3/lib/python3.9/site-packages (from notebook>=5.6.0->jupyterthemes) (0.13.1)\n",
      "Requirement already satisfied: parso<0.9.0,>=0.8.0 in /Users/jeonghunp/opt/anaconda3/lib/python3.9/site-packages (from jedi>=0.16->ipython>=5.4.1->jupyterthemes) (0.8.3)\n",
      "Requirement already satisfied: entrypoints in /Users/jeonghunp/opt/anaconda3/lib/python3.9/site-packages (from jupyter-client>=5.3.4->notebook>=5.6.0->jupyterthemes) (0.4)\n",
      "Requirement already satisfied: pandocfilters>=1.4.1 in /Users/jeonghunp/opt/anaconda3/lib/python3.9/site-packages (from nbconvert>=5->notebook>=5.6.0->jupyterthemes) (1.5.0)\n",
      "Requirement already satisfied: beautifulsoup4 in /Users/jeonghunp/opt/anaconda3/lib/python3.9/site-packages (from nbconvert>=5->notebook>=5.6.0->jupyterthemes) (4.11.1)\n",
      "Requirement already satisfied: jupyterlab-pygments in /Users/jeonghunp/opt/anaconda3/lib/python3.9/site-packages (from nbconvert>=5->notebook>=5.6.0->jupyterthemes) (0.1.2)\n",
      "Requirement already satisfied: bleach in /Users/jeonghunp/opt/anaconda3/lib/python3.9/site-packages (from nbconvert>=5->notebook>=5.6.0->jupyterthemes) (4.1.0)\n",
      "Requirement already satisfied: nbclient<0.6.0,>=0.5.0 in /Users/jeonghunp/opt/anaconda3/lib/python3.9/site-packages (from nbconvert>=5->notebook>=5.6.0->jupyterthemes) (0.5.13)\n",
      "Requirement already satisfied: defusedxml in /Users/jeonghunp/opt/anaconda3/lib/python3.9/site-packages (from nbconvert>=5->notebook>=5.6.0->jupyterthemes) (0.7.1)\n",
      "Requirement already satisfied: mistune<2,>=0.8.1 in /Users/jeonghunp/opt/anaconda3/lib/python3.9/site-packages (from nbconvert>=5->notebook>=5.6.0->jupyterthemes) (0.8.4)\n",
      "Requirement already satisfied: testpath in /Users/jeonghunp/opt/anaconda3/lib/python3.9/site-packages (from nbconvert>=5->notebook>=5.6.0->jupyterthemes) (0.6.0)\n",
      "Requirement already satisfied: MarkupSafe>=0.23 in /Users/jeonghunp/opt/anaconda3/lib/python3.9/site-packages (from jinja2->notebook>=5.6.0->jupyterthemes) (2.0.1)\n",
      "Requirement already satisfied: jsonschema>=2.6 in /Users/jeonghunp/opt/anaconda3/lib/python3.9/site-packages (from nbformat->notebook>=5.6.0->jupyterthemes) (4.16.0)\n",
      "Requirement already satisfied: fastjsonschema in /Users/jeonghunp/opt/anaconda3/lib/python3.9/site-packages (from nbformat->notebook>=5.6.0->jupyterthemes) (2.16.2)\n",
      "Requirement already satisfied: ptyprocess>=0.5 in /Users/jeonghunp/opt/anaconda3/lib/python3.9/site-packages (from pexpect>4.3->ipython>=5.4.1->jupyterthemes) (0.7.0)\n",
      "Requirement already satisfied: wcwidth in /Users/jeonghunp/opt/anaconda3/lib/python3.9/site-packages (from prompt-toolkit!=3.0.0,!=3.0.1,<3.1.0,>=2.0.0->ipython>=5.4.1->jupyterthemes) (0.2.5)\n",
      "Requirement already satisfied: six>=1.5 in /Users/jeonghunp/opt/anaconda3/lib/python3.9/site-packages (from python-dateutil>=2.7->matplotlib>=1.4.3->jupyterthemes) (1.16.0)\n"
     ]
    },
    {
     "name": "stdout",
     "output_type": "stream",
     "text": [
      "Requirement already satisfied: argon2-cffi-bindings in /Users/jeonghunp/opt/anaconda3/lib/python3.9/site-packages (from argon2-cffi->notebook>=5.6.0->jupyterthemes) (21.2.0)\n",
      "Requirement already satisfied: psutil in /Users/jeonghunp/opt/anaconda3/lib/python3.9/site-packages (from ipykernel->notebook>=5.6.0->jupyterthemes) (5.9.0)\n",
      "Requirement already satisfied: debugpy>=1.0 in /Users/jeonghunp/opt/anaconda3/lib/python3.9/site-packages (from ipykernel->notebook>=5.6.0->jupyterthemes) (1.5.1)\n",
      "Requirement already satisfied: pyrsistent!=0.17.0,!=0.17.1,!=0.17.2,>=0.14.0 in /Users/jeonghunp/opt/anaconda3/lib/python3.9/site-packages (from jsonschema>=2.6->nbformat->notebook>=5.6.0->jupyterthemes) (0.18.0)\n",
      "Requirement already satisfied: attrs>=17.4.0 in /Users/jeonghunp/opt/anaconda3/lib/python3.9/site-packages (from jsonschema>=2.6->nbformat->notebook>=5.6.0->jupyterthemes) (21.4.0)\n",
      "Requirement already satisfied: cffi>=1.0.1 in /Users/jeonghunp/opt/anaconda3/lib/python3.9/site-packages (from argon2-cffi-bindings->argon2-cffi->notebook>=5.6.0->jupyterthemes) (1.15.1)\n",
      "Requirement already satisfied: soupsieve>1.2 in /Users/jeonghunp/opt/anaconda3/lib/python3.9/site-packages (from beautifulsoup4->nbconvert>=5->notebook>=5.6.0->jupyterthemes) (2.3.1)\n",
      "Requirement already satisfied: webencodings in /Users/jeonghunp/opt/anaconda3/lib/python3.9/site-packages (from bleach->nbconvert>=5->notebook>=5.6.0->jupyterthemes) (0.5.1)\n",
      "Requirement already satisfied: pycparser in /Users/jeonghunp/opt/anaconda3/lib/python3.9/site-packages (from cffi>=1.0.1->argon2-cffi-bindings->argon2-cffi->notebook>=5.6.0->jupyterthemes) (2.21)\n",
      "Installing collected packages: lesscpy, jupyterthemes\n",
      "Successfully installed jupyterthemes-0.20.0 lesscpy-0.15.1\n",
      "Note: you may need to restart the kernel to use updated packages.\n"
     ]
    }
   ],
   "source": [
    "pip install jupyterthemes"
   ]
  },
  {
   "cell_type": "code",
   "execution_count": 1,
   "id": "785cbb18",
   "metadata": {},
   "outputs": [],
   "source": [
    "from pandas_datareader import data"
   ]
  },
  {
   "cell_type": "code",
   "execution_count": 3,
   "id": "b8fc1677",
   "metadata": {},
   "outputs": [],
   "source": [
    "import yfinance"
   ]
  },
  {
   "cell_type": "code",
   "execution_count": 5,
   "id": "0e58ea25",
   "metadata": {},
   "outputs": [],
   "source": [
    "yfinance.pdr_override()"
   ]
  },
  {
   "cell_type": "code",
   "execution_count": 7,
   "id": "e6f56bd2",
   "metadata": {},
   "outputs": [
    {
     "name": "stdout",
     "output_type": "stream",
     "text": [
      "[*********************100%***********************]  1 of 1 completed\n"
     ]
    }
   ],
   "source": [
    "samsung=data.get_data_yahoo('005930.KS', start='2021-01-01')"
   ]
  },
  {
   "cell_type": "code",
   "execution_count": 9,
   "id": "fe05cf63",
   "metadata": {},
   "outputs": [
    {
     "data": {
      "text/html": [
       "<div>\n",
       "<style scoped>\n",
       "    .dataframe tbody tr th:only-of-type {\n",
       "        vertical-align: middle;\n",
       "    }\n",
       "\n",
       "    .dataframe tbody tr th {\n",
       "        vertical-align: top;\n",
       "    }\n",
       "\n",
       "    .dataframe thead th {\n",
       "        text-align: right;\n",
       "    }\n",
       "</style>\n",
       "<table border=\"1\" class=\"dataframe\">\n",
       "  <thead>\n",
       "    <tr style=\"text-align: right;\">\n",
       "      <th></th>\n",
       "      <th>Open</th>\n",
       "      <th>High</th>\n",
       "      <th>Low</th>\n",
       "      <th>Close</th>\n",
       "      <th>Adj Close</th>\n",
       "      <th>Volume</th>\n",
       "    </tr>\n",
       "    <tr>\n",
       "      <th>Date</th>\n",
       "      <th></th>\n",
       "      <th></th>\n",
       "      <th></th>\n",
       "      <th></th>\n",
       "      <th></th>\n",
       "      <th></th>\n",
       "    </tr>\n",
       "  </thead>\n",
       "  <tbody>\n",
       "    <tr>\n",
       "      <th>2021-01-04</th>\n",
       "      <td>81000.0</td>\n",
       "      <td>84400.0</td>\n",
       "      <td>80200.0</td>\n",
       "      <td>83000.0</td>\n",
       "      <td>79551.828125</td>\n",
       "      <td>38655276</td>\n",
       "    </tr>\n",
       "    <tr>\n",
       "      <th>2021-01-05</th>\n",
       "      <td>81600.0</td>\n",
       "      <td>83900.0</td>\n",
       "      <td>81600.0</td>\n",
       "      <td>83900.0</td>\n",
       "      <td>80414.453125</td>\n",
       "      <td>35335669</td>\n",
       "    </tr>\n",
       "    <tr>\n",
       "      <th>2021-01-06</th>\n",
       "      <td>83300.0</td>\n",
       "      <td>84500.0</td>\n",
       "      <td>82100.0</td>\n",
       "      <td>82200.0</td>\n",
       "      <td>78785.078125</td>\n",
       "      <td>42089013</td>\n",
       "    </tr>\n",
       "    <tr>\n",
       "      <th>2021-01-07</th>\n",
       "      <td>82800.0</td>\n",
       "      <td>84200.0</td>\n",
       "      <td>82700.0</td>\n",
       "      <td>82900.0</td>\n",
       "      <td>79455.992188</td>\n",
       "      <td>32644642</td>\n",
       "    </tr>\n",
       "    <tr>\n",
       "      <th>2021-01-08</th>\n",
       "      <td>83300.0</td>\n",
       "      <td>90000.0</td>\n",
       "      <td>83000.0</td>\n",
       "      <td>88800.0</td>\n",
       "      <td>85110.875000</td>\n",
       "      <td>59013307</td>\n",
       "    </tr>\n",
       "  </tbody>\n",
       "</table>\n",
       "</div>"
      ],
      "text/plain": [
       "               Open     High      Low    Close     Adj Close    Volume\n",
       "Date                                                                  \n",
       "2021-01-04  81000.0  84400.0  80200.0  83000.0  79551.828125  38655276\n",
       "2021-01-05  81600.0  83900.0  81600.0  83900.0  80414.453125  35335669\n",
       "2021-01-06  83300.0  84500.0  82100.0  82200.0  78785.078125  42089013\n",
       "2021-01-07  82800.0  84200.0  82700.0  82900.0  79455.992188  32644642\n",
       "2021-01-08  83300.0  90000.0  83000.0  88800.0  85110.875000  59013307"
      ]
     },
     "execution_count": 9,
     "metadata": {},
     "output_type": "execute_result"
    }
   ],
   "source": [
    "samsung.head()"
   ]
  },
  {
   "cell_type": "code",
   "execution_count": 10,
   "id": "8c75081d",
   "metadata": {},
   "outputs": [
    {
     "data": {
      "text/plain": [
       "96800.0"
      ]
     },
     "execution_count": 10,
     "metadata": {},
     "output_type": "execute_result"
    }
   ],
   "source": [
    "samsung.High.max()"
   ]
  },
  {
   "cell_type": "code",
   "execution_count": 11,
   "id": "2ad804e8",
   "metadata": {},
   "outputs": [
    {
     "data": {
      "text/plain": [
       "51800.0"
      ]
     },
     "execution_count": 11,
     "metadata": {},
     "output_type": "execute_result"
    }
   ],
   "source": [
    "samsung.Low.min()"
   ]
  },
  {
   "cell_type": "markdown",
   "id": "751ad707",
   "metadata": {},
   "source": [
    "> **Q. 최고가를 찍었던 날짜는?**"
   ]
  },
  {
   "cell_type": "code",
   "execution_count": 16,
   "id": "53aebcf3",
   "metadata": {},
   "outputs": [
    {
     "data": {
      "text/html": [
       "<div>\n",
       "<style scoped>\n",
       "    .dataframe tbody tr th:only-of-type {\n",
       "        vertical-align: middle;\n",
       "    }\n",
       "\n",
       "    .dataframe tbody tr th {\n",
       "        vertical-align: top;\n",
       "    }\n",
       "\n",
       "    .dataframe thead th {\n",
       "        text-align: right;\n",
       "    }\n",
       "</style>\n",
       "<table border=\"1\" class=\"dataframe\">\n",
       "  <thead>\n",
       "    <tr style=\"text-align: right;\">\n",
       "      <th></th>\n",
       "      <th>Open</th>\n",
       "      <th>High</th>\n",
       "      <th>Low</th>\n",
       "      <th>Close</th>\n",
       "      <th>Adj Close</th>\n",
       "      <th>Volume</th>\n",
       "    </tr>\n",
       "    <tr>\n",
       "      <th>Date</th>\n",
       "      <th></th>\n",
       "      <th></th>\n",
       "      <th></th>\n",
       "      <th></th>\n",
       "      <th></th>\n",
       "      <th></th>\n",
       "    </tr>\n",
       "  </thead>\n",
       "  <tbody>\n",
       "    <tr>\n",
       "      <th>2021-01-11</th>\n",
       "      <td>90000.0</td>\n",
       "      <td>96800.0</td>\n",
       "      <td>89500.0</td>\n",
       "      <td>91000.0</td>\n",
       "      <td>87219.476562</td>\n",
       "      <td>90306177</td>\n",
       "    </tr>\n",
       "  </tbody>\n",
       "</table>\n",
       "</div>"
      ],
      "text/plain": [
       "               Open     High      Low    Close     Adj Close    Volume\n",
       "Date                                                                  \n",
       "2021-01-11  90000.0  96800.0  89500.0  91000.0  87219.476562  90306177"
      ]
     },
     "execution_count": 16,
     "metadata": {},
     "output_type": "execute_result"
    }
   ],
   "source": [
    "samsung.loc[samsung.High==96800]\n",
    "#samsung[samsung.High==samsung.High.max()].index"
   ]
  },
  {
   "cell_type": "code",
   "execution_count": 18,
   "id": "2d93c62e",
   "metadata": {},
   "outputs": [],
   "source": [
    "samsung['증가량']=samsung.Volume.diff()"
   ]
  },
  {
   "cell_type": "code",
   "execution_count": 22,
   "id": "37c8db7d",
   "metadata": {},
   "outputs": [
    {
     "data": {
      "text/html": [
       "<div>\n",
       "<style scoped>\n",
       "    .dataframe tbody tr th:only-of-type {\n",
       "        vertical-align: middle;\n",
       "    }\n",
       "\n",
       "    .dataframe tbody tr th {\n",
       "        vertical-align: top;\n",
       "    }\n",
       "\n",
       "    .dataframe thead th {\n",
       "        text-align: right;\n",
       "    }\n",
       "</style>\n",
       "<table border=\"1\" class=\"dataframe\">\n",
       "  <thead>\n",
       "    <tr style=\"text-align: right;\">\n",
       "      <th></th>\n",
       "      <th>Open</th>\n",
       "      <th>High</th>\n",
       "      <th>Low</th>\n",
       "      <th>Close</th>\n",
       "      <th>Adj Close</th>\n",
       "      <th>Volume</th>\n",
       "      <th>증가량</th>\n",
       "      <th>증가율</th>\n",
       "    </tr>\n",
       "    <tr>\n",
       "      <th>Date</th>\n",
       "      <th></th>\n",
       "      <th></th>\n",
       "      <th></th>\n",
       "      <th></th>\n",
       "      <th></th>\n",
       "      <th></th>\n",
       "      <th></th>\n",
       "      <th></th>\n",
       "    </tr>\n",
       "  </thead>\n",
       "  <tbody>\n",
       "    <tr>\n",
       "      <th>2021-01-04</th>\n",
       "      <td>81000.0</td>\n",
       "      <td>84400.0</td>\n",
       "      <td>80200.0</td>\n",
       "      <td>83000.0</td>\n",
       "      <td>79551.828125</td>\n",
       "      <td>38655276</td>\n",
       "      <td>NaN</td>\n",
       "      <td>NaN</td>\n",
       "    </tr>\n",
       "    <tr>\n",
       "      <th>2021-01-05</th>\n",
       "      <td>81600.0</td>\n",
       "      <td>83900.0</td>\n",
       "      <td>81600.0</td>\n",
       "      <td>83900.0</td>\n",
       "      <td>80414.453125</td>\n",
       "      <td>35335669</td>\n",
       "      <td>-3319607.0</td>\n",
       "      <td>-8.59</td>\n",
       "    </tr>\n",
       "    <tr>\n",
       "      <th>2021-01-06</th>\n",
       "      <td>83300.0</td>\n",
       "      <td>84500.0</td>\n",
       "      <td>82100.0</td>\n",
       "      <td>82200.0</td>\n",
       "      <td>78785.078125</td>\n",
       "      <td>42089013</td>\n",
       "      <td>6753344.0</td>\n",
       "      <td>19.11</td>\n",
       "    </tr>\n",
       "    <tr>\n",
       "      <th>2021-01-07</th>\n",
       "      <td>82800.0</td>\n",
       "      <td>84200.0</td>\n",
       "      <td>82700.0</td>\n",
       "      <td>82900.0</td>\n",
       "      <td>79455.992188</td>\n",
       "      <td>32644642</td>\n",
       "      <td>-9444371.0</td>\n",
       "      <td>-22.44</td>\n",
       "    </tr>\n",
       "    <tr>\n",
       "      <th>2021-01-08</th>\n",
       "      <td>83300.0</td>\n",
       "      <td>90000.0</td>\n",
       "      <td>83000.0</td>\n",
       "      <td>88800.0</td>\n",
       "      <td>85110.875000</td>\n",
       "      <td>59013307</td>\n",
       "      <td>26368665.0</td>\n",
       "      <td>80.77</td>\n",
       "    </tr>\n",
       "    <tr>\n",
       "      <th>...</th>\n",
       "      <td>...</td>\n",
       "      <td>...</td>\n",
       "      <td>...</td>\n",
       "      <td>...</td>\n",
       "      <td>...</td>\n",
       "      <td>...</td>\n",
       "      <td>...</td>\n",
       "      <td>...</td>\n",
       "    </tr>\n",
       "    <tr>\n",
       "      <th>2023-03-23</th>\n",
       "      <td>60600.0</td>\n",
       "      <td>62300.0</td>\n",
       "      <td>60600.0</td>\n",
       "      <td>62300.0</td>\n",
       "      <td>62300.000000</td>\n",
       "      <td>15381057</td>\n",
       "      <td>6402466.0</td>\n",
       "      <td>71.31</td>\n",
       "    </tr>\n",
       "    <tr>\n",
       "      <th>2023-03-24</th>\n",
       "      <td>62700.0</td>\n",
       "      <td>63300.0</td>\n",
       "      <td>62300.0</td>\n",
       "      <td>63000.0</td>\n",
       "      <td>63000.000000</td>\n",
       "      <td>18278602</td>\n",
       "      <td>2897545.0</td>\n",
       "      <td>18.84</td>\n",
       "    </tr>\n",
       "    <tr>\n",
       "      <th>2023-03-27</th>\n",
       "      <td>62600.0</td>\n",
       "      <td>62800.0</td>\n",
       "      <td>62000.0</td>\n",
       "      <td>62100.0</td>\n",
       "      <td>62100.000000</td>\n",
       "      <td>11039331</td>\n",
       "      <td>-7239271.0</td>\n",
       "      <td>-39.61</td>\n",
       "    </tr>\n",
       "    <tr>\n",
       "      <th>2023-03-28</th>\n",
       "      <td>62400.0</td>\n",
       "      <td>62900.0</td>\n",
       "      <td>62100.0</td>\n",
       "      <td>62900.0</td>\n",
       "      <td>62900.000000</td>\n",
       "      <td>11614118</td>\n",
       "      <td>574787.0</td>\n",
       "      <td>5.21</td>\n",
       "    </tr>\n",
       "    <tr>\n",
       "      <th>2023-03-29</th>\n",
       "      <td>62500.0</td>\n",
       "      <td>62700.0</td>\n",
       "      <td>62200.0</td>\n",
       "      <td>62700.0</td>\n",
       "      <td>62700.000000</td>\n",
       "      <td>11087474</td>\n",
       "      <td>-526644.0</td>\n",
       "      <td>-4.53</td>\n",
       "    </tr>\n",
       "  </tbody>\n",
       "</table>\n",
       "<p>552 rows × 8 columns</p>\n",
       "</div>"
      ],
      "text/plain": [
       "               Open     High      Low    Close     Adj Close    Volume  \\\n",
       "Date                                                                     \n",
       "2021-01-04  81000.0  84400.0  80200.0  83000.0  79551.828125  38655276   \n",
       "2021-01-05  81600.0  83900.0  81600.0  83900.0  80414.453125  35335669   \n",
       "2021-01-06  83300.0  84500.0  82100.0  82200.0  78785.078125  42089013   \n",
       "2021-01-07  82800.0  84200.0  82700.0  82900.0  79455.992188  32644642   \n",
       "2021-01-08  83300.0  90000.0  83000.0  88800.0  85110.875000  59013307   \n",
       "...             ...      ...      ...      ...           ...       ...   \n",
       "2023-03-23  60600.0  62300.0  60600.0  62300.0  62300.000000  15381057   \n",
       "2023-03-24  62700.0  63300.0  62300.0  63000.0  63000.000000  18278602   \n",
       "2023-03-27  62600.0  62800.0  62000.0  62100.0  62100.000000  11039331   \n",
       "2023-03-28  62400.0  62900.0  62100.0  62900.0  62900.000000  11614118   \n",
       "2023-03-29  62500.0  62700.0  62200.0  62700.0  62700.000000  11087474   \n",
       "\n",
       "                   증가량    증가율  \n",
       "Date                           \n",
       "2021-01-04         NaN    NaN  \n",
       "2021-01-05  -3319607.0  -8.59  \n",
       "2021-01-06   6753344.0  19.11  \n",
       "2021-01-07  -9444371.0 -22.44  \n",
       "2021-01-08  26368665.0  80.77  \n",
       "...                ...    ...  \n",
       "2023-03-23   6402466.0  71.31  \n",
       "2023-03-24   2897545.0  18.84  \n",
       "2023-03-27  -7239271.0 -39.61  \n",
       "2023-03-28    574787.0   5.21  \n",
       "2023-03-29   -526644.0  -4.53  \n",
       "\n",
       "[552 rows x 8 columns]"
      ]
     },
     "execution_count": 22,
     "metadata": {},
     "output_type": "execute_result"
    }
   ],
   "source": [
    "samsung['증가율']=round((samsung.증가량 / (samsung.Volume-samsung.증가량))*100, 2)\n",
    "samsung"
   ]
  },
  {
   "cell_type": "code",
   "execution_count": 23,
   "id": "daf5cb5b",
   "metadata": {},
   "outputs": [],
   "source": [
    "# for문과 if문을 통해서 업무 자동화 만들기\n",
    "# 새로운 리스트를 만들어서 .append로 추가하게 만들기\n",
    "signal=[]\n",
    "for row in samsung.증가율:\n",
    "    if row > 40:\n",
    "        signal.append(\"40%이상 증가함!!\")\n",
    "    elif row < -40:\n",
    "        signal.append(\"40%이상 감소함!!\")\n",
    "    else:\n",
    "        signal.append(\"이상없음!!\")"
   ]
  },
  {
   "cell_type": "code",
   "execution_count": 25,
   "id": "e7c8c8e5",
   "metadata": {},
   "outputs": [],
   "source": [
    "samsung['signal']=signal"
   ]
  },
  {
   "cell_type": "code",
   "execution_count": 26,
   "id": "087e9234",
   "metadata": {},
   "outputs": [
    {
     "data": {
      "text/html": [
       "<div>\n",
       "<style scoped>\n",
       "    .dataframe tbody tr th:only-of-type {\n",
       "        vertical-align: middle;\n",
       "    }\n",
       "\n",
       "    .dataframe tbody tr th {\n",
       "        vertical-align: top;\n",
       "    }\n",
       "\n",
       "    .dataframe thead th {\n",
       "        text-align: right;\n",
       "    }\n",
       "</style>\n",
       "<table border=\"1\" class=\"dataframe\">\n",
       "  <thead>\n",
       "    <tr style=\"text-align: right;\">\n",
       "      <th></th>\n",
       "      <th>Open</th>\n",
       "      <th>High</th>\n",
       "      <th>Low</th>\n",
       "      <th>Close</th>\n",
       "      <th>Adj Close</th>\n",
       "      <th>Volume</th>\n",
       "      <th>증가량</th>\n",
       "      <th>증가율</th>\n",
       "      <th>signal</th>\n",
       "    </tr>\n",
       "    <tr>\n",
       "      <th>Date</th>\n",
       "      <th></th>\n",
       "      <th></th>\n",
       "      <th></th>\n",
       "      <th></th>\n",
       "      <th></th>\n",
       "      <th></th>\n",
       "      <th></th>\n",
       "      <th></th>\n",
       "      <th></th>\n",
       "    </tr>\n",
       "  </thead>\n",
       "  <tbody>\n",
       "    <tr>\n",
       "      <th>2021-01-04</th>\n",
       "      <td>81000.0</td>\n",
       "      <td>84400.0</td>\n",
       "      <td>80200.0</td>\n",
       "      <td>83000.0</td>\n",
       "      <td>79551.828125</td>\n",
       "      <td>38655276</td>\n",
       "      <td>NaN</td>\n",
       "      <td>NaN</td>\n",
       "      <td>이상없음!!</td>\n",
       "    </tr>\n",
       "    <tr>\n",
       "      <th>2021-01-05</th>\n",
       "      <td>81600.0</td>\n",
       "      <td>83900.0</td>\n",
       "      <td>81600.0</td>\n",
       "      <td>83900.0</td>\n",
       "      <td>80414.453125</td>\n",
       "      <td>35335669</td>\n",
       "      <td>-3319607.0</td>\n",
       "      <td>-8.59</td>\n",
       "      <td>이상없음!!</td>\n",
       "    </tr>\n",
       "    <tr>\n",
       "      <th>2021-01-06</th>\n",
       "      <td>83300.0</td>\n",
       "      <td>84500.0</td>\n",
       "      <td>82100.0</td>\n",
       "      <td>82200.0</td>\n",
       "      <td>78785.078125</td>\n",
       "      <td>42089013</td>\n",
       "      <td>6753344.0</td>\n",
       "      <td>19.11</td>\n",
       "      <td>이상없음!!</td>\n",
       "    </tr>\n",
       "    <tr>\n",
       "      <th>2021-01-07</th>\n",
       "      <td>82800.0</td>\n",
       "      <td>84200.0</td>\n",
       "      <td>82700.0</td>\n",
       "      <td>82900.0</td>\n",
       "      <td>79455.992188</td>\n",
       "      <td>32644642</td>\n",
       "      <td>-9444371.0</td>\n",
       "      <td>-22.44</td>\n",
       "      <td>이상없음!!</td>\n",
       "    </tr>\n",
       "    <tr>\n",
       "      <th>2021-01-08</th>\n",
       "      <td>83300.0</td>\n",
       "      <td>90000.0</td>\n",
       "      <td>83000.0</td>\n",
       "      <td>88800.0</td>\n",
       "      <td>85110.875000</td>\n",
       "      <td>59013307</td>\n",
       "      <td>26368665.0</td>\n",
       "      <td>80.77</td>\n",
       "      <td>40%이상 증가함!!</td>\n",
       "    </tr>\n",
       "    <tr>\n",
       "      <th>...</th>\n",
       "      <td>...</td>\n",
       "      <td>...</td>\n",
       "      <td>...</td>\n",
       "      <td>...</td>\n",
       "      <td>...</td>\n",
       "      <td>...</td>\n",
       "      <td>...</td>\n",
       "      <td>...</td>\n",
       "      <td>...</td>\n",
       "    </tr>\n",
       "    <tr>\n",
       "      <th>2023-03-23</th>\n",
       "      <td>60600.0</td>\n",
       "      <td>62300.0</td>\n",
       "      <td>60600.0</td>\n",
       "      <td>62300.0</td>\n",
       "      <td>62300.000000</td>\n",
       "      <td>15381057</td>\n",
       "      <td>6402466.0</td>\n",
       "      <td>71.31</td>\n",
       "      <td>40%이상 증가함!!</td>\n",
       "    </tr>\n",
       "    <tr>\n",
       "      <th>2023-03-24</th>\n",
       "      <td>62700.0</td>\n",
       "      <td>63300.0</td>\n",
       "      <td>62300.0</td>\n",
       "      <td>63000.0</td>\n",
       "      <td>63000.000000</td>\n",
       "      <td>18278602</td>\n",
       "      <td>2897545.0</td>\n",
       "      <td>18.84</td>\n",
       "      <td>이상없음!!</td>\n",
       "    </tr>\n",
       "    <tr>\n",
       "      <th>2023-03-27</th>\n",
       "      <td>62600.0</td>\n",
       "      <td>62800.0</td>\n",
       "      <td>62000.0</td>\n",
       "      <td>62100.0</td>\n",
       "      <td>62100.000000</td>\n",
       "      <td>11039331</td>\n",
       "      <td>-7239271.0</td>\n",
       "      <td>-39.61</td>\n",
       "      <td>이상없음!!</td>\n",
       "    </tr>\n",
       "    <tr>\n",
       "      <th>2023-03-28</th>\n",
       "      <td>62400.0</td>\n",
       "      <td>62900.0</td>\n",
       "      <td>62100.0</td>\n",
       "      <td>62900.0</td>\n",
       "      <td>62900.000000</td>\n",
       "      <td>11614118</td>\n",
       "      <td>574787.0</td>\n",
       "      <td>5.21</td>\n",
       "      <td>이상없음!!</td>\n",
       "    </tr>\n",
       "    <tr>\n",
       "      <th>2023-03-29</th>\n",
       "      <td>62500.0</td>\n",
       "      <td>62700.0</td>\n",
       "      <td>62200.0</td>\n",
       "      <td>62700.0</td>\n",
       "      <td>62700.000000</td>\n",
       "      <td>11087474</td>\n",
       "      <td>-526644.0</td>\n",
       "      <td>-4.53</td>\n",
       "      <td>이상없음!!</td>\n",
       "    </tr>\n",
       "  </tbody>\n",
       "</table>\n",
       "<p>552 rows × 9 columns</p>\n",
       "</div>"
      ],
      "text/plain": [
       "               Open     High      Low    Close     Adj Close    Volume  \\\n",
       "Date                                                                     \n",
       "2021-01-04  81000.0  84400.0  80200.0  83000.0  79551.828125  38655276   \n",
       "2021-01-05  81600.0  83900.0  81600.0  83900.0  80414.453125  35335669   \n",
       "2021-01-06  83300.0  84500.0  82100.0  82200.0  78785.078125  42089013   \n",
       "2021-01-07  82800.0  84200.0  82700.0  82900.0  79455.992188  32644642   \n",
       "2021-01-08  83300.0  90000.0  83000.0  88800.0  85110.875000  59013307   \n",
       "...             ...      ...      ...      ...           ...       ...   \n",
       "2023-03-23  60600.0  62300.0  60600.0  62300.0  62300.000000  15381057   \n",
       "2023-03-24  62700.0  63300.0  62300.0  63000.0  63000.000000  18278602   \n",
       "2023-03-27  62600.0  62800.0  62000.0  62100.0  62100.000000  11039331   \n",
       "2023-03-28  62400.0  62900.0  62100.0  62900.0  62900.000000  11614118   \n",
       "2023-03-29  62500.0  62700.0  62200.0  62700.0  62700.000000  11087474   \n",
       "\n",
       "                   증가량    증가율       signal  \n",
       "Date                                        \n",
       "2021-01-04         NaN    NaN       이상없음!!  \n",
       "2021-01-05  -3319607.0  -8.59       이상없음!!  \n",
       "2021-01-06   6753344.0  19.11       이상없음!!  \n",
       "2021-01-07  -9444371.0 -22.44       이상없음!!  \n",
       "2021-01-08  26368665.0  80.77  40%이상 증가함!!  \n",
       "...                ...    ...          ...  \n",
       "2023-03-23   6402466.0  71.31  40%이상 증가함!!  \n",
       "2023-03-24   2897545.0  18.84       이상없음!!  \n",
       "2023-03-27  -7239271.0 -39.61       이상없음!!  \n",
       "2023-03-28    574787.0   5.21       이상없음!!  \n",
       "2023-03-29   -526644.0  -4.53       이상없음!!  \n",
       "\n",
       "[552 rows x 9 columns]"
      ]
     },
     "execution_count": 26,
     "metadata": {},
     "output_type": "execute_result"
    }
   ],
   "source": [
    "samsung"
   ]
  },
  {
   "cell_type": "code",
   "execution_count": 27,
   "id": "6e9d7ceb",
   "metadata": {},
   "outputs": [
    {
     "data": {
      "text/plain": [
       "이상없음!!         464\n",
       "40%이상 증가함!!     62\n",
       "40%이상 감소함!!     26\n",
       "Name: signal, dtype: int64"
      ]
     },
     "execution_count": 27,
     "metadata": {},
     "output_type": "execute_result"
    }
   ],
   "source": [
    "samsung.signal.value_counts()\n",
    "#samsung[abs(samsung.증가율)>=40].count()"
   ]
  },
  {
   "cell_type": "code",
   "execution_count": 36,
   "id": "c0a0bb2a",
   "metadata": {},
   "outputs": [
    {
     "data": {
      "text/html": [
       "<div>\n",
       "<style scoped>\n",
       "    .dataframe tbody tr th:only-of-type {\n",
       "        vertical-align: middle;\n",
       "    }\n",
       "\n",
       "    .dataframe tbody tr th {\n",
       "        vertical-align: top;\n",
       "    }\n",
       "\n",
       "    .dataframe thead th {\n",
       "        text-align: right;\n",
       "    }\n",
       "</style>\n",
       "<table border=\"1\" class=\"dataframe\">\n",
       "  <thead>\n",
       "    <tr style=\"text-align: right;\">\n",
       "      <th></th>\n",
       "      <th>Open</th>\n",
       "      <th>High</th>\n",
       "      <th>Low</th>\n",
       "      <th>Close</th>\n",
       "      <th>Adj Close</th>\n",
       "      <th>Volume</th>\n",
       "      <th>증가량</th>\n",
       "      <th>증가율</th>\n",
       "      <th>signal</th>\n",
       "    </tr>\n",
       "    <tr>\n",
       "      <th>Date</th>\n",
       "      <th></th>\n",
       "      <th></th>\n",
       "      <th></th>\n",
       "      <th></th>\n",
       "      <th></th>\n",
       "      <th></th>\n",
       "      <th></th>\n",
       "      <th></th>\n",
       "      <th></th>\n",
       "    </tr>\n",
       "  </thead>\n",
       "  <tbody>\n",
       "    <tr>\n",
       "      <th>2021-01-11</th>\n",
       "      <td>90000.0</td>\n",
       "      <td>96800.0</td>\n",
       "      <td>89500.0</td>\n",
       "      <td>91000.0</td>\n",
       "      <td>87219.476562</td>\n",
       "      <td>90306177</td>\n",
       "      <td>31292870.0</td>\n",
       "      <td>53.03</td>\n",
       "      <td>40%이상 증가함!!</td>\n",
       "    </tr>\n",
       "  </tbody>\n",
       "</table>\n",
       "</div>"
      ],
      "text/plain": [
       "               Open     High      Low    Close     Adj Close    Volume  \\\n",
       "Date                                                                     \n",
       "2021-01-11  90000.0  96800.0  89500.0  91000.0  87219.476562  90306177   \n",
       "\n",
       "                   증가량    증가율       signal  \n",
       "Date                                        \n",
       "2021-01-11  31292870.0  53.03  40%이상 증가함!!  "
      ]
     },
     "execution_count": 36,
     "metadata": {},
     "output_type": "execute_result"
    }
   ],
   "source": [
    "samsung[samsung.증가량==samsung.증가량.max()]"
   ]
  },
  {
   "cell_type": "code",
   "execution_count": 38,
   "id": "a3d4883c",
   "metadata": {},
   "outputs": [],
   "source": [
    "import matplotlib.pyplot as plt"
   ]
  },
  {
   "cell_type": "code",
   "execution_count": 37,
   "id": "70d56ca0",
   "metadata": {},
   "outputs": [
    {
     "data": {
      "text/plain": [
       "<AxesSubplot:xlabel='Date'>"
      ]
     },
     "execution_count": 37,
     "metadata": {},
     "output_type": "execute_result"
    },
    {
     "data": {
      "image/png": "[encoded data removed]",
      "text/plain": [
       "<Figure size 1800x800 with 1 Axes>"
      ]
     },
     "metadata": {},
     "output_type": "display_data"
    }
   ],
   "source": [
    "samsung.Close.plot(figsize=(18,8))"
   ]
  },
  {
   "cell_type": "code",
   "execution_count": null,
   "id": "849e9948",
   "metadata": {},
   "outputs": [],
   "source": []
  }
 ],
 "metadata": {
  "kernelspec": {
   "display_name": "Python 3 (ipykernel)",
   "language": "python",
   "name": "python3"
  },
  "language_info": {
   "codemirror_mode": {
    "name": "ipython",
    "version": 3
   },
   "file_extension": ".py",
   "mimetype": "text/x-python",
   "name": "python",
   "nbconvert_exporter": "python",
   "pygments_lexer": "ipython3",
   "version": "3.9.13"
  }
 },
 "nbformat": 4,
 "nbformat_minor": 5
}
