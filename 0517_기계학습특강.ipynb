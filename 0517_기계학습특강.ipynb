{
 "cells": [
  {
   "cell_type": "markdown",
   "id": "f48ff5c8",
   "metadata": {},
   "source": [
    "## 기계학습 모델링 과정\n",
    "> 1. 데이터 수집\n",
    "> 2. 데이터 클리닝\n",
    "> 3. ML 알고리즘 고르기\n",
    "> 4. 모델 평가하기\n",
    "> 5. 모델 개선하기"
   ]
  },
  {
   "cell_type": "markdown",
   "id": "13d3d6c2",
   "metadata": {},
   "source": [
    "## 모델 학습 및 평가\n",
    "- 수치 예측 문제:\n",
    "얼마나 가깝게 예측했는가?\n",
    "- 범주 예측 문제:\n",
    "몇 개나 맞추었는가?, 실제 값과 예측 값 사이의 일치 여부를 기준으로 사용"
   ]
  },
  {
   "cell_type": "markdown",
   "id": "4bdd755f",
   "metadata": {},
   "source": [
    "### 랜덤포레스트\n",
    "- 다수의 다른 의사결정나무를 이용해 앙상블을 사용하는 알고리즘\n",
    "- 하이퍼파라미터: 몇 개의 나무를 만들 것인가?\n",
    "\n",
    "### 서포트 백터 머신\n",
    "- 두 범주를 잘 분류하면서 마진이 최대화되는 초평면을 찾는 알고리즘\n",
    "- 하이퍼파라미터: c 파라미터의 값을 몇으로 설정할 것인가?\n",
    "### ANN\n",
    "- 입력층과 출력층 사이에 존재하는 은닉층을 이용하여 최적의 가중치를 학습시키는 것을 목적으로 하는 알고리즘\n",
    "- 하이퍼파라미터: 모델의 은닉 뉴런의 개수를 어떻게 구성할 것인가?"
   ]
  },
  {
   "cell_type": "markdown",
   "id": "e0493130",
   "metadata": {},
   "source": [
    "# 기계학습 활용 고객이탈 예측 실습\n",
    "- churn(leaving the company) prediction"
   ]
  },
  {
   "cell_type": "markdown",
   "id": "4d0ea63f",
   "metadata": {},
   "source": [
    "### 데이터 전처리\n",
    "- 데이터 병합(SQL inner join, outer join) pd.merge\n",
    "- 데이터 밸런싱(*언더샘플링*, 오버샘플링)"
   ]
  },
  {
   "cell_type": "code",
   "execution_count": 1,
   "id": "48c09df7",
   "metadata": {},
   "outputs": [],
   "source": [
    "import os\n",
    "import numpy as np\n",
    "import pandas as pd"
   ]
  },
  {
   "cell_type": "markdown",
   "id": "393a6e98",
   "metadata": {},
   "source": [
    "## 1.1 데이터 준비\n",
    "- 읽어오기\n",
    "- 병합\n",
    "- 원핫 인코팅\n",
    "- 결측치 제거\n",
    "- 데이터 밸런싱 (undersampling)\n",
    "- 데이터 분리 (훈련/검증/테스트)"
   ]
  },
  {
   "cell_type": "code",
   "execution_count": 4,
   "id": "ed18afae",
   "metadata": {},
   "outputs": [
    {
     "data": {
      "text/plain": [
       "(20000, 9)"
      ]
     },
     "execution_count": 4,
     "metadata": {},
     "output_type": "execute_result"
    }
   ],
   "source": [
    "# 데이터 읽어오기 (Customer data / Transaction data)\n",
    "customer_df = pd.read_csv(\"churning_customers.csv\", encoding='cp949')\n",
    "\n",
    "customer_df.head()\n",
    "customer_df.shape"
   ]
  },
  {
   "cell_type": "code",
   "execution_count": 5,
   "id": "c7f6e120",
   "metadata": {},
   "outputs": [],
   "source": [
    "customer_df.drop(['개시일','지불방법','핸드셋'], axis=1, inplace=True)"
   ]
  },
  {
   "cell_type": "code",
   "execution_count": 6,
   "id": "c472ab6b",
   "metadata": {},
   "outputs": [
    {
     "data": {
      "text/html": [
       "<div>\n",
       "<style scoped>\n",
       "    .dataframe tbody tr th:only-of-type {\n",
       "        vertical-align: middle;\n",
       "    }\n",
       "\n",
       "    .dataframe tbody tr th {\n",
       "        vertical-align: top;\n",
       "    }\n",
       "\n",
       "    .dataframe thead th {\n",
       "        text-align: right;\n",
       "    }\n",
       "</style>\n",
       "<table border=\"1\" class=\"dataframe\">\n",
       "  <thead>\n",
       "    <tr style=\"text-align: right;\">\n",
       "      <th></th>\n",
       "      <th>고객ID</th>\n",
       "      <th>성별</th>\n",
       "      <th>연령</th>\n",
       "      <th>서비스기간</th>\n",
       "      <th>단선횟수</th>\n",
       "      <th>요금제</th>\n",
       "    </tr>\n",
       "  </thead>\n",
       "  <tbody>\n",
       "    <tr>\n",
       "      <th>0</th>\n",
       "      <td>K100010</td>\n",
       "      <td>남</td>\n",
       "      <td>46</td>\n",
       "      <td>15.066667</td>\n",
       "      <td>1</td>\n",
       "      <td>CAT50</td>\n",
       "    </tr>\n",
       "    <tr>\n",
       "      <th>1</th>\n",
       "      <td>K100020</td>\n",
       "      <td>남</td>\n",
       "      <td>27</td>\n",
       "      <td>37.333333</td>\n",
       "      <td>0</td>\n",
       "      <td>CAT50</td>\n",
       "    </tr>\n",
       "    <tr>\n",
       "      <th>2</th>\n",
       "      <td>K100030</td>\n",
       "      <td>남</td>\n",
       "      <td>39</td>\n",
       "      <td>50.366667</td>\n",
       "      <td>2</td>\n",
       "      <td>CAT50</td>\n",
       "    </tr>\n",
       "    <tr>\n",
       "      <th>3</th>\n",
       "      <td>K100040</td>\n",
       "      <td>남</td>\n",
       "      <td>28</td>\n",
       "      <td>26.200000</td>\n",
       "      <td>2</td>\n",
       "      <td>CAT50</td>\n",
       "    </tr>\n",
       "    <tr>\n",
       "      <th>4</th>\n",
       "      <td>K100050</td>\n",
       "      <td>남</td>\n",
       "      <td>47</td>\n",
       "      <td>26.433333</td>\n",
       "      <td>0</td>\n",
       "      <td>CAT50</td>\n",
       "    </tr>\n",
       "  </tbody>\n",
       "</table>\n",
       "</div>"
      ],
      "text/plain": [
       "      고객ID 성별  연령      서비스기간  단선횟수    요금제\n",
       "0  K100010  남  46  15.066667     1  CAT50\n",
       "1  K100020  남  27  37.333333     0  CAT50\n",
       "2  K100030  남  39  50.366667     2  CAT50\n",
       "3  K100040  남  28  26.200000     2  CAT50\n",
       "4  K100050  남  47  26.433333     0  CAT50"
      ]
     },
     "execution_count": 6,
     "metadata": {},
     "output_type": "execute_result"
    }
   ],
   "source": [
    "customer_df.head()"
   ]
  },
  {
   "cell_type": "code",
   "execution_count": 8,
   "id": "3eca51f6",
   "metadata": {},
   "outputs": [
    {
     "data": {
      "text/html": [
       "<div>\n",
       "<style scoped>\n",
       "    .dataframe tbody tr th:only-of-type {\n",
       "        vertical-align: middle;\n",
       "    }\n",
       "\n",
       "    .dataframe tbody tr th {\n",
       "        vertical-align: top;\n",
       "    }\n",
       "\n",
       "    .dataframe thead th {\n",
       "        text-align: right;\n",
       "    }\n",
       "</style>\n",
       "<table border=\"1\" class=\"dataframe\">\n",
       "  <thead>\n",
       "    <tr style=\"text-align: right;\">\n",
       "      <th></th>\n",
       "      <th>고객ID</th>\n",
       "      <th>주간통화횟수</th>\n",
       "      <th>주간통화시간_분</th>\n",
       "      <th>야간통화횟수</th>\n",
       "      <th>야간통화시간_분</th>\n",
       "      <th>주말통화횟수</th>\n",
       "      <th>주말통화시간_분</th>\n",
       "      <th>국제통화시간_분</th>\n",
       "      <th>국내통화요금_분</th>\n",
       "      <th>평균주간통화시간</th>\n",
       "      <th>평균야간통화시간</th>\n",
       "      <th>평균주말통화시간</th>\n",
       "      <th>국내통화횟수</th>\n",
       "      <th>국내통화시간_분</th>\n",
       "      <th>평균국내통화시간</th>\n",
       "      <th>총통화시간_분</th>\n",
       "      <th>이탈여부</th>\n",
       "    </tr>\n",
       "  </thead>\n",
       "  <tbody>\n",
       "    <tr>\n",
       "      <th>0</th>\n",
       "      <td>K100010</td>\n",
       "      <td>14</td>\n",
       "      <td>36.131353</td>\n",
       "      <td>10</td>\n",
       "      <td>7.973121</td>\n",
       "      <td>24</td>\n",
       "      <td>14.533282</td>\n",
       "      <td>1.443889</td>\n",
       "      <td>0.0</td>\n",
       "      <td>2.580811</td>\n",
       "      <td>0.797312</td>\n",
       "      <td>0.605553</td>\n",
       "      <td>48</td>\n",
       "      <td>58.637756</td>\n",
       "      <td>1.221620</td>\n",
       "      <td>60.081645</td>\n",
       "      <td>이탈</td>\n",
       "    </tr>\n",
       "    <tr>\n",
       "      <th>1</th>\n",
       "      <td>K100020</td>\n",
       "      <td>54</td>\n",
       "      <td>39.437279</td>\n",
       "      <td>34</td>\n",
       "      <td>21.152722</td>\n",
       "      <td>0</td>\n",
       "      <td>0.000000</td>\n",
       "      <td>9.779366</td>\n",
       "      <td>0.0</td>\n",
       "      <td>0.730320</td>\n",
       "      <td>0.622139</td>\n",
       "      <td>0.000000</td>\n",
       "      <td>88</td>\n",
       "      <td>60.590001</td>\n",
       "      <td>0.688523</td>\n",
       "      <td>70.369367</td>\n",
       "      <td>이탈</td>\n",
       "    </tr>\n",
       "    <tr>\n",
       "      <th>2</th>\n",
       "      <td>K100030</td>\n",
       "      <td>44</td>\n",
       "      <td>72.600000</td>\n",
       "      <td>1</td>\n",
       "      <td>27.600000</td>\n",
       "      <td>22</td>\n",
       "      <td>37.200001</td>\n",
       "      <td>16.601092</td>\n",
       "      <td>0.0</td>\n",
       "      <td>1.650000</td>\n",
       "      <td>27.600000</td>\n",
       "      <td>1.690909</td>\n",
       "      <td>67</td>\n",
       "      <td>137.400001</td>\n",
       "      <td>2.050746</td>\n",
       "      <td>154.001093</td>\n",
       "      <td>이탈</td>\n",
       "    </tr>\n",
       "    <tr>\n",
       "      <th>3</th>\n",
       "      <td>K100040</td>\n",
       "      <td>44</td>\n",
       "      <td>72.600000</td>\n",
       "      <td>1</td>\n",
       "      <td>27.600000</td>\n",
       "      <td>22</td>\n",
       "      <td>37.200000</td>\n",
       "      <td>16.601076</td>\n",
       "      <td>0.0</td>\n",
       "      <td>1.650000</td>\n",
       "      <td>27.600000</td>\n",
       "      <td>1.690909</td>\n",
       "      <td>67</td>\n",
       "      <td>137.400000</td>\n",
       "      <td>2.050746</td>\n",
       "      <td>154.001076</td>\n",
       "      <td>이탈</td>\n",
       "    </tr>\n",
       "    <tr>\n",
       "      <th>4</th>\n",
       "      <td>K100050</td>\n",
       "      <td>32</td>\n",
       "      <td>40.608449</td>\n",
       "      <td>14</td>\n",
       "      <td>18.823708</td>\n",
       "      <td>1</td>\n",
       "      <td>1.233764</td>\n",
       "      <td>4.473546</td>\n",
       "      <td>0.0</td>\n",
       "      <td>1.269014</td>\n",
       "      <td>1.344551</td>\n",
       "      <td>1.233764</td>\n",
       "      <td>47</td>\n",
       "      <td>60.665921</td>\n",
       "      <td>1.290764</td>\n",
       "      <td>65.139467</td>\n",
       "      <td>이탈</td>\n",
       "    </tr>\n",
       "  </tbody>\n",
       "</table>\n",
       "</div>"
      ],
      "text/plain": [
       "      고객ID  주간통화횟수   주간통화시간_분  야간통화횟수   야간통화시간_분  주말통화횟수   주말통화시간_분  \\\n",
       "0  K100010      14  36.131353      10   7.973121      24  14.533282   \n",
       "1  K100020      54  39.437279      34  21.152722       0   0.000000   \n",
       "2  K100030      44  72.600000       1  27.600000      22  37.200001   \n",
       "3  K100040      44  72.600000       1  27.600000      22  37.200000   \n",
       "4  K100050      32  40.608449      14  18.823708       1   1.233764   \n",
       "\n",
       "    국제통화시간_분  국내통화요금_분  평균주간통화시간   평균야간통화시간  평균주말통화시간  국내통화횟수    국내통화시간_분  \\\n",
       "0   1.443889       0.0  2.580811   0.797312  0.605553      48   58.637756   \n",
       "1   9.779366       0.0  0.730320   0.622139  0.000000      88   60.590001   \n",
       "2  16.601092       0.0  1.650000  27.600000  1.690909      67  137.400001   \n",
       "3  16.601076       0.0  1.650000  27.600000  1.690909      67  137.400000   \n",
       "4   4.473546       0.0  1.269014   1.344551  1.233764      47   60.665921   \n",
       "\n",
       "   평균국내통화시간     총통화시간_분 이탈여부  \n",
       "0  1.221620   60.081645   이탈  \n",
       "1  0.688523   70.369367   이탈  \n",
       "2  2.050746  154.001093   이탈  \n",
       "3  2.050746  154.001076   이탈  \n",
       "4  1.290764   65.139467   이탈  "
      ]
     },
     "execution_count": 8,
     "metadata": {},
     "output_type": "execute_result"
    }
   ],
   "source": [
    "transaction_df = pd.read_csv(\"churning_transactions.csv\",\n",
    "                            encoding='cp949')\n",
    "transaction_df.head()"
   ]
  },
  {
   "cell_type": "code",
   "execution_count": 9,
   "id": "2a9efc23",
   "metadata": {},
   "outputs": [
    {
     "data": {
      "text/plain": [
       "(20000, 17)"
      ]
     },
     "execution_count": 9,
     "metadata": {},
     "output_type": "execute_result"
    }
   ],
   "source": [
    "transaction_df.shape"
   ]
  },
  {
   "cell_type": "code",
   "execution_count": 11,
   "id": "debe34a9",
   "metadata": {},
   "outputs": [],
   "source": [
    "transaction_df['이탈여부'] = transaction_df['이탈여부'].map({\"이탈\":1, \"유지\":0})"
   ]
  },
  {
   "cell_type": "code",
   "execution_count": 12,
   "id": "dcb5514e",
   "metadata": {},
   "outputs": [
    {
     "data": {
      "text/html": [
       "<div>\n",
       "<style scoped>\n",
       "    .dataframe tbody tr th:only-of-type {\n",
       "        vertical-align: middle;\n",
       "    }\n",
       "\n",
       "    .dataframe tbody tr th {\n",
       "        vertical-align: top;\n",
       "    }\n",
       "\n",
       "    .dataframe thead th {\n",
       "        text-align: right;\n",
       "    }\n",
       "</style>\n",
       "<table border=\"1\" class=\"dataframe\">\n",
       "  <thead>\n",
       "    <tr style=\"text-align: right;\">\n",
       "      <th></th>\n",
       "      <th>고객ID</th>\n",
       "      <th>주간통화횟수</th>\n",
       "      <th>주간통화시간_분</th>\n",
       "      <th>야간통화횟수</th>\n",
       "      <th>야간통화시간_분</th>\n",
       "      <th>주말통화횟수</th>\n",
       "      <th>주말통화시간_분</th>\n",
       "      <th>국제통화시간_분</th>\n",
       "      <th>국내통화요금_분</th>\n",
       "      <th>평균주간통화시간</th>\n",
       "      <th>평균야간통화시간</th>\n",
       "      <th>평균주말통화시간</th>\n",
       "      <th>국내통화횟수</th>\n",
       "      <th>국내통화시간_분</th>\n",
       "      <th>평균국내통화시간</th>\n",
       "      <th>총통화시간_분</th>\n",
       "      <th>이탈여부</th>\n",
       "    </tr>\n",
       "  </thead>\n",
       "  <tbody>\n",
       "    <tr>\n",
       "      <th>0</th>\n",
       "      <td>K100010</td>\n",
       "      <td>14</td>\n",
       "      <td>36.131353</td>\n",
       "      <td>10</td>\n",
       "      <td>7.973121</td>\n",
       "      <td>24</td>\n",
       "      <td>14.533282</td>\n",
       "      <td>1.443889</td>\n",
       "      <td>0.0</td>\n",
       "      <td>2.580811</td>\n",
       "      <td>0.797312</td>\n",
       "      <td>0.605553</td>\n",
       "      <td>48</td>\n",
       "      <td>58.637756</td>\n",
       "      <td>1.221620</td>\n",
       "      <td>60.081645</td>\n",
       "      <td>1</td>\n",
       "    </tr>\n",
       "    <tr>\n",
       "      <th>1</th>\n",
       "      <td>K100020</td>\n",
       "      <td>54</td>\n",
       "      <td>39.437279</td>\n",
       "      <td>34</td>\n",
       "      <td>21.152722</td>\n",
       "      <td>0</td>\n",
       "      <td>0.000000</td>\n",
       "      <td>9.779366</td>\n",
       "      <td>0.0</td>\n",
       "      <td>0.730320</td>\n",
       "      <td>0.622139</td>\n",
       "      <td>0.000000</td>\n",
       "      <td>88</td>\n",
       "      <td>60.590001</td>\n",
       "      <td>0.688523</td>\n",
       "      <td>70.369367</td>\n",
       "      <td>1</td>\n",
       "    </tr>\n",
       "    <tr>\n",
       "      <th>2</th>\n",
       "      <td>K100030</td>\n",
       "      <td>44</td>\n",
       "      <td>72.600000</td>\n",
       "      <td>1</td>\n",
       "      <td>27.600000</td>\n",
       "      <td>22</td>\n",
       "      <td>37.200001</td>\n",
       "      <td>16.601092</td>\n",
       "      <td>0.0</td>\n",
       "      <td>1.650000</td>\n",
       "      <td>27.600000</td>\n",
       "      <td>1.690909</td>\n",
       "      <td>67</td>\n",
       "      <td>137.400001</td>\n",
       "      <td>2.050746</td>\n",
       "      <td>154.001093</td>\n",
       "      <td>1</td>\n",
       "    </tr>\n",
       "    <tr>\n",
       "      <th>3</th>\n",
       "      <td>K100040</td>\n",
       "      <td>44</td>\n",
       "      <td>72.600000</td>\n",
       "      <td>1</td>\n",
       "      <td>27.600000</td>\n",
       "      <td>22</td>\n",
       "      <td>37.200000</td>\n",
       "      <td>16.601076</td>\n",
       "      <td>0.0</td>\n",
       "      <td>1.650000</td>\n",
       "      <td>27.600000</td>\n",
       "      <td>1.690909</td>\n",
       "      <td>67</td>\n",
       "      <td>137.400000</td>\n",
       "      <td>2.050746</td>\n",
       "      <td>154.001076</td>\n",
       "      <td>1</td>\n",
       "    </tr>\n",
       "    <tr>\n",
       "      <th>4</th>\n",
       "      <td>K100050</td>\n",
       "      <td>32</td>\n",
       "      <td>40.608449</td>\n",
       "      <td>14</td>\n",
       "      <td>18.823708</td>\n",
       "      <td>1</td>\n",
       "      <td>1.233764</td>\n",
       "      <td>4.473546</td>\n",
       "      <td>0.0</td>\n",
       "      <td>1.269014</td>\n",
       "      <td>1.344551</td>\n",
       "      <td>1.233764</td>\n",
       "      <td>47</td>\n",
       "      <td>60.665921</td>\n",
       "      <td>1.290764</td>\n",
       "      <td>65.139467</td>\n",
       "      <td>1</td>\n",
       "    </tr>\n",
       "  </tbody>\n",
       "</table>\n",
       "</div>"
      ],
      "text/plain": [
       "      고객ID  주간통화횟수   주간통화시간_분  야간통화횟수   야간통화시간_분  주말통화횟수   주말통화시간_분  \\\n",
       "0  K100010      14  36.131353      10   7.973121      24  14.533282   \n",
       "1  K100020      54  39.437279      34  21.152722       0   0.000000   \n",
       "2  K100030      44  72.600000       1  27.600000      22  37.200001   \n",
       "3  K100040      44  72.600000       1  27.600000      22  37.200000   \n",
       "4  K100050      32  40.608449      14  18.823708       1   1.233764   \n",
       "\n",
       "    국제통화시간_분  국내통화요금_분  평균주간통화시간   평균야간통화시간  평균주말통화시간  국내통화횟수    국내통화시간_분  \\\n",
       "0   1.443889       0.0  2.580811   0.797312  0.605553      48   58.637756   \n",
       "1   9.779366       0.0  0.730320   0.622139  0.000000      88   60.590001   \n",
       "2  16.601092       0.0  1.650000  27.600000  1.690909      67  137.400001   \n",
       "3  16.601076       0.0  1.650000  27.600000  1.690909      67  137.400000   \n",
       "4   4.473546       0.0  1.269014   1.344551  1.233764      47   60.665921   \n",
       "\n",
       "   평균국내통화시간     총통화시간_분  이탈여부  \n",
       "0  1.221620   60.081645     1  \n",
       "1  0.688523   70.369367     1  \n",
       "2  2.050746  154.001093     1  \n",
       "3  2.050746  154.001076     1  \n",
       "4  1.290764   65.139467     1  "
      ]
     },
     "execution_count": 12,
     "metadata": {},
     "output_type": "execute_result"
    }
   ],
   "source": [
    "transaction_df.head()"
   ]
  },
  {
   "cell_type": "markdown",
   "id": "b04675b9",
   "metadata": {},
   "source": [
    "## 1.2 데이터 병합\n",
    "- pd.merge(): 공통된 키가 있을 때 사용\n",
    "- pd.concat()"
   ]
  },
  {
   "cell_type": "code",
   "execution_count": 13,
   "id": "f3bf3eea",
   "metadata": {},
   "outputs": [],
   "source": [
    "churn_df = pd.merge(customer_df, transaction_df, how='inner', on='고객ID')"
   ]
  },
  {
   "cell_type": "code",
   "execution_count": 14,
   "id": "abe04726",
   "metadata": {},
   "outputs": [
    {
     "data": {
      "text/html": [
       "<div>\n",
       "<style scoped>\n",
       "    .dataframe tbody tr th:only-of-type {\n",
       "        vertical-align: middle;\n",
       "    }\n",
       "\n",
       "    .dataframe tbody tr th {\n",
       "        vertical-align: top;\n",
       "    }\n",
       "\n",
       "    .dataframe thead th {\n",
       "        text-align: right;\n",
       "    }\n",
       "</style>\n",
       "<table border=\"1\" class=\"dataframe\">\n",
       "  <thead>\n",
       "    <tr style=\"text-align: right;\">\n",
       "      <th></th>\n",
       "      <th>고객ID</th>\n",
       "      <th>성별</th>\n",
       "      <th>연령</th>\n",
       "      <th>서비스기간</th>\n",
       "      <th>단선횟수</th>\n",
       "      <th>요금제</th>\n",
       "      <th>주간통화횟수</th>\n",
       "      <th>주간통화시간_분</th>\n",
       "      <th>야간통화횟수</th>\n",
       "      <th>야간통화시간_분</th>\n",
       "      <th>...</th>\n",
       "      <th>국제통화시간_분</th>\n",
       "      <th>국내통화요금_분</th>\n",
       "      <th>평균주간통화시간</th>\n",
       "      <th>평균야간통화시간</th>\n",
       "      <th>평균주말통화시간</th>\n",
       "      <th>국내통화횟수</th>\n",
       "      <th>국내통화시간_분</th>\n",
       "      <th>평균국내통화시간</th>\n",
       "      <th>총통화시간_분</th>\n",
       "      <th>이탈여부</th>\n",
       "    </tr>\n",
       "  </thead>\n",
       "  <tbody>\n",
       "    <tr>\n",
       "      <th>0</th>\n",
       "      <td>K100010</td>\n",
       "      <td>남</td>\n",
       "      <td>46</td>\n",
       "      <td>15.066667</td>\n",
       "      <td>1</td>\n",
       "      <td>CAT50</td>\n",
       "      <td>14</td>\n",
       "      <td>36.131353</td>\n",
       "      <td>10</td>\n",
       "      <td>7.973121</td>\n",
       "      <td>...</td>\n",
       "      <td>1.443889</td>\n",
       "      <td>0.0</td>\n",
       "      <td>2.580811</td>\n",
       "      <td>0.797312</td>\n",
       "      <td>0.605553</td>\n",
       "      <td>48</td>\n",
       "      <td>58.637756</td>\n",
       "      <td>1.221620</td>\n",
       "      <td>60.081645</td>\n",
       "      <td>1</td>\n",
       "    </tr>\n",
       "    <tr>\n",
       "      <th>1</th>\n",
       "      <td>K100020</td>\n",
       "      <td>남</td>\n",
       "      <td>27</td>\n",
       "      <td>37.333333</td>\n",
       "      <td>0</td>\n",
       "      <td>CAT50</td>\n",
       "      <td>54</td>\n",
       "      <td>39.437279</td>\n",
       "      <td>34</td>\n",
       "      <td>21.152722</td>\n",
       "      <td>...</td>\n",
       "      <td>9.779366</td>\n",
       "      <td>0.0</td>\n",
       "      <td>0.730320</td>\n",
       "      <td>0.622139</td>\n",
       "      <td>0.000000</td>\n",
       "      <td>88</td>\n",
       "      <td>60.590001</td>\n",
       "      <td>0.688523</td>\n",
       "      <td>70.369367</td>\n",
       "      <td>1</td>\n",
       "    </tr>\n",
       "    <tr>\n",
       "      <th>2</th>\n",
       "      <td>K100030</td>\n",
       "      <td>남</td>\n",
       "      <td>39</td>\n",
       "      <td>50.366667</td>\n",
       "      <td>2</td>\n",
       "      <td>CAT50</td>\n",
       "      <td>44</td>\n",
       "      <td>72.600000</td>\n",
       "      <td>1</td>\n",
       "      <td>27.600000</td>\n",
       "      <td>...</td>\n",
       "      <td>16.601092</td>\n",
       "      <td>0.0</td>\n",
       "      <td>1.650000</td>\n",
       "      <td>27.600000</td>\n",
       "      <td>1.690909</td>\n",
       "      <td>67</td>\n",
       "      <td>137.400001</td>\n",
       "      <td>2.050746</td>\n",
       "      <td>154.001093</td>\n",
       "      <td>1</td>\n",
       "    </tr>\n",
       "    <tr>\n",
       "      <th>3</th>\n",
       "      <td>K100040</td>\n",
       "      <td>남</td>\n",
       "      <td>28</td>\n",
       "      <td>26.200000</td>\n",
       "      <td>2</td>\n",
       "      <td>CAT50</td>\n",
       "      <td>44</td>\n",
       "      <td>72.600000</td>\n",
       "      <td>1</td>\n",
       "      <td>27.600000</td>\n",
       "      <td>...</td>\n",
       "      <td>16.601076</td>\n",
       "      <td>0.0</td>\n",
       "      <td>1.650000</td>\n",
       "      <td>27.600000</td>\n",
       "      <td>1.690909</td>\n",
       "      <td>67</td>\n",
       "      <td>137.400000</td>\n",
       "      <td>2.050746</td>\n",
       "      <td>154.001076</td>\n",
       "      <td>1</td>\n",
       "    </tr>\n",
       "    <tr>\n",
       "      <th>4</th>\n",
       "      <td>K100050</td>\n",
       "      <td>남</td>\n",
       "      <td>47</td>\n",
       "      <td>26.433333</td>\n",
       "      <td>0</td>\n",
       "      <td>CAT50</td>\n",
       "      <td>32</td>\n",
       "      <td>40.608449</td>\n",
       "      <td>14</td>\n",
       "      <td>18.823708</td>\n",
       "      <td>...</td>\n",
       "      <td>4.473546</td>\n",
       "      <td>0.0</td>\n",
       "      <td>1.269014</td>\n",
       "      <td>1.344551</td>\n",
       "      <td>1.233764</td>\n",
       "      <td>47</td>\n",
       "      <td>60.665921</td>\n",
       "      <td>1.290764</td>\n",
       "      <td>65.139467</td>\n",
       "      <td>1</td>\n",
       "    </tr>\n",
       "  </tbody>\n",
       "</table>\n",
       "<p>5 rows × 22 columns</p>\n",
       "</div>"
      ],
      "text/plain": [
       "      고객ID 성별  연령      서비스기간  단선횟수    요금제  주간통화횟수   주간통화시간_분  야간통화횟수  \\\n",
       "0  K100010  남  46  15.066667     1  CAT50      14  36.131353      10   \n",
       "1  K100020  남  27  37.333333     0  CAT50      54  39.437279      34   \n",
       "2  K100030  남  39  50.366667     2  CAT50      44  72.600000       1   \n",
       "3  K100040  남  28  26.200000     2  CAT50      44  72.600000       1   \n",
       "4  K100050  남  47  26.433333     0  CAT50      32  40.608449      14   \n",
       "\n",
       "    야간통화시간_분  ...   국제통화시간_분  국내통화요금_분  평균주간통화시간   평균야간통화시간  평균주말통화시간  국내통화횟수  \\\n",
       "0   7.973121  ...   1.443889       0.0  2.580811   0.797312  0.605553      48   \n",
       "1  21.152722  ...   9.779366       0.0  0.730320   0.622139  0.000000      88   \n",
       "2  27.600000  ...  16.601092       0.0  1.650000  27.600000  1.690909      67   \n",
       "3  27.600000  ...  16.601076       0.0  1.650000  27.600000  1.690909      67   \n",
       "4  18.823708  ...   4.473546       0.0  1.269014   1.344551  1.233764      47   \n",
       "\n",
       "     국내통화시간_분  평균국내통화시간     총통화시간_분  이탈여부  \n",
       "0   58.637756  1.221620   60.081645     1  \n",
       "1   60.590001  0.688523   70.369367     1  \n",
       "2  137.400001  2.050746  154.001093     1  \n",
       "3  137.400000  2.050746  154.001076     1  \n",
       "4   60.665921  1.290764   65.139467     1  \n",
       "\n",
       "[5 rows x 22 columns]"
      ]
     },
     "execution_count": 14,
     "metadata": {},
     "output_type": "execute_result"
    }
   ],
   "source": [
    "churn_df.head()"
   ]
  },
  {
   "cell_type": "code",
   "execution_count": 15,
   "id": "1d72e203",
   "metadata": {},
   "outputs": [
    {
     "data": {
      "text/plain": [
       "(20000, 22)"
      ]
     },
     "execution_count": 15,
     "metadata": {},
     "output_type": "execute_result"
    }
   ],
   "source": [
    "churn_df.shape"
   ]
  },
  {
   "cell_type": "code",
   "execution_count": 16,
   "id": "61cf12ad",
   "metadata": {},
   "outputs": [],
   "source": [
    "churn_df.drop(['고객ID'], axis=1, inplace=True)"
   ]
  },
  {
   "cell_type": "code",
   "execution_count": 17,
   "id": "7ab4c5c9",
   "metadata": {},
   "outputs": [
    {
     "data": {
      "text/plain": [
       "(20000, 21)"
      ]
     },
     "execution_count": 17,
     "metadata": {},
     "output_type": "execute_result"
    }
   ],
   "source": [
    "churn_df.shape"
   ]
  },
  {
   "cell_type": "markdown",
   "id": "fa4183a7",
   "metadata": {},
   "source": [
    "## 1.3 One-hot encoding"
   ]
  },
  {
   "cell_type": "code",
   "execution_count": 18,
   "id": "0c39dd05",
   "metadata": {},
   "outputs": [],
   "source": [
    "churn_df = pd.get_dummies(churn_df)"
   ]
  },
  {
   "cell_type": "code",
   "execution_count": 19,
   "id": "b1d43e8e",
   "metadata": {},
   "outputs": [
    {
     "data": {
      "text/html": [
       "<div>\n",
       "<style scoped>\n",
       "    .dataframe tbody tr th:only-of-type {\n",
       "        vertical-align: middle;\n",
       "    }\n",
       "\n",
       "    .dataframe tbody tr th {\n",
       "        vertical-align: top;\n",
       "    }\n",
       "\n",
       "    .dataframe thead th {\n",
       "        text-align: right;\n",
       "    }\n",
       "</style>\n",
       "<table border=\"1\" class=\"dataframe\">\n",
       "  <thead>\n",
       "    <tr style=\"text-align: right;\">\n",
       "      <th></th>\n",
       "      <th>연령</th>\n",
       "      <th>서비스기간</th>\n",
       "      <th>단선횟수</th>\n",
       "      <th>주간통화횟수</th>\n",
       "      <th>주간통화시간_분</th>\n",
       "      <th>야간통화횟수</th>\n",
       "      <th>야간통화시간_분</th>\n",
       "      <th>주말통화횟수</th>\n",
       "      <th>주말통화시간_분</th>\n",
       "      <th>국제통화시간_분</th>\n",
       "      <th>...</th>\n",
       "      <th>평균국내통화시간</th>\n",
       "      <th>총통화시간_분</th>\n",
       "      <th>이탈여부</th>\n",
       "      <th>성별_남</th>\n",
       "      <th>성별_여</th>\n",
       "      <th>요금제_CAT100</th>\n",
       "      <th>요금제_CAT200</th>\n",
       "      <th>요금제_CAT50</th>\n",
       "      <th>요금제_Play100</th>\n",
       "      <th>요금제_Play300</th>\n",
       "    </tr>\n",
       "  </thead>\n",
       "  <tbody>\n",
       "    <tr>\n",
       "      <th>0</th>\n",
       "      <td>46</td>\n",
       "      <td>15.066667</td>\n",
       "      <td>1</td>\n",
       "      <td>14</td>\n",
       "      <td>36.131353</td>\n",
       "      <td>10</td>\n",
       "      <td>7.973121</td>\n",
       "      <td>24</td>\n",
       "      <td>14.533282</td>\n",
       "      <td>1.443889</td>\n",
       "      <td>...</td>\n",
       "      <td>1.221620</td>\n",
       "      <td>60.081645</td>\n",
       "      <td>1</td>\n",
       "      <td>1</td>\n",
       "      <td>0</td>\n",
       "      <td>0</td>\n",
       "      <td>0</td>\n",
       "      <td>1</td>\n",
       "      <td>0</td>\n",
       "      <td>0</td>\n",
       "    </tr>\n",
       "    <tr>\n",
       "      <th>1</th>\n",
       "      <td>27</td>\n",
       "      <td>37.333333</td>\n",
       "      <td>0</td>\n",
       "      <td>54</td>\n",
       "      <td>39.437279</td>\n",
       "      <td>34</td>\n",
       "      <td>21.152722</td>\n",
       "      <td>0</td>\n",
       "      <td>0.000000</td>\n",
       "      <td>9.779366</td>\n",
       "      <td>...</td>\n",
       "      <td>0.688523</td>\n",
       "      <td>70.369367</td>\n",
       "      <td>1</td>\n",
       "      <td>1</td>\n",
       "      <td>0</td>\n",
       "      <td>0</td>\n",
       "      <td>0</td>\n",
       "      <td>1</td>\n",
       "      <td>0</td>\n",
       "      <td>0</td>\n",
       "    </tr>\n",
       "  </tbody>\n",
       "</table>\n",
       "<p>2 rows × 26 columns</p>\n",
       "</div>"
      ],
      "text/plain": [
       "   연령      서비스기간  단선횟수  주간통화횟수   주간통화시간_분  야간통화횟수   야간통화시간_분  주말통화횟수  \\\n",
       "0  46  15.066667     1      14  36.131353      10   7.973121      24   \n",
       "1  27  37.333333     0      54  39.437279      34  21.152722       0   \n",
       "\n",
       "    주말통화시간_분  국제통화시간_분  ...  평균국내통화시간    총통화시간_분  이탈여부  성별_남  성별_여  \\\n",
       "0  14.533282  1.443889  ...  1.221620  60.081645     1     1     0   \n",
       "1   0.000000  9.779366  ...  0.688523  70.369367     1     1     0   \n",
       "\n",
       "   요금제_CAT100  요금제_CAT200  요금제_CAT50  요금제_Play100  요금제_Play300  \n",
       "0           0           0          1            0            0  \n",
       "1           0           0          1            0            0  \n",
       "\n",
       "[2 rows x 26 columns]"
      ]
     },
     "execution_count": 19,
     "metadata": {},
     "output_type": "execute_result"
    }
   ],
   "source": [
    "churn_df.head(2)"
   ]
  },
  {
   "cell_type": "code",
   "execution_count": 22,
   "id": "f13a3172",
   "metadata": {},
   "outputs": [
    {
     "data": {
      "text/plain": [
       "['연령',\n",
       " '서비스기간',\n",
       " '단선횟수',\n",
       " '주간통화횟수',\n",
       " '주간통화시간_분',\n",
       " '야간통화횟수',\n",
       " '야간통화시간_분',\n",
       " '주말통화횟수',\n",
       " '주말통화시간_분',\n",
       " '국제통화시간_분',\n",
       " '국내통화요금_분',\n",
       " '평균주간통화시간',\n",
       " '평균야간통화시간',\n",
       " '평균주말통화시간',\n",
       " '국내통화횟수',\n",
       " '국내통화시간_분',\n",
       " '평균국내통화시간',\n",
       " '총통화시간_분',\n",
       " '성별_남',\n",
       " '성별_여',\n",
       " '요금제_CAT100',\n",
       " '요금제_CAT200',\n",
       " '요금제_CAT50',\n",
       " '요금제_Play100',\n",
       " '요금제_Play300',\n",
       " '이탈여부']"
      ]
     },
     "execution_count": 22,
     "metadata": {},
     "output_type": "execute_result"
    }
   ],
   "source": [
    "cols = list(churn_df.columns)\n",
    "cols.remove('이탈여부')\n",
    "cols.append('이탈여부')\n",
    "cols"
   ]
  },
  {
   "cell_type": "code",
   "execution_count": 23,
   "id": "df58c79d",
   "metadata": {},
   "outputs": [],
   "source": [
    "churn_df = churn_df[cols]"
   ]
  },
  {
   "cell_type": "markdown",
   "id": "d5e495d4",
   "metadata": {},
   "source": [
    "## 1.4 결측치 탐색 & 제거"
   ]
  },
  {
   "cell_type": "code",
   "execution_count": 25,
   "id": "66eccb8d",
   "metadata": {},
   "outputs": [
    {
     "data": {
      "text/plain": [
       "연령             0\n",
       "서비스기간          0\n",
       "단선횟수           0\n",
       "주간통화횟수         0\n",
       "주간통화시간_분       0\n",
       "야간통화횟수         0\n",
       "야간통화시간_분       0\n",
       "주말통화횟수         0\n",
       "주말통화시간_분       0\n",
       "국제통화시간_분       0\n",
       "국내통화요금_분       0\n",
       "평균주간통화시간       0\n",
       "평균야간통화시간       0\n",
       "평균주말통화시간       0\n",
       "국내통화횟수         0\n",
       "국내통화시간_분       0\n",
       "평균국내통화시간       0\n",
       "총통화시간_분        0\n",
       "성별_남           0\n",
       "성별_여           0\n",
       "요금제_CAT100     0\n",
       "요금제_CAT200     0\n",
       "요금제_CAT50      0\n",
       "요금제_Play100    0\n",
       "요금제_Play300    0\n",
       "이탈여부           0\n",
       "dtype: int64"
      ]
     },
     "execution_count": 25,
     "metadata": {},
     "output_type": "execute_result"
    }
   ],
   "source": [
    "churn_df.isnull().sum()"
   ]
  },
  {
   "cell_type": "markdown",
   "id": "5cce3b86",
   "metadata": {},
   "source": [
    "## 1.5 Balancing\n",
    "- Undersampling"
   ]
  },
  {
   "cell_type": "code",
   "execution_count": 26,
   "id": "dbb0ea1c",
   "metadata": {},
   "outputs": [
    {
     "data": {
      "text/plain": [
       "0    10069\n",
       "1     9931\n",
       "Name: 이탈여부, dtype: int64"
      ]
     },
     "execution_count": 26,
     "metadata": {},
     "output_type": "execute_result"
    }
   ],
   "source": [
    "churn_df['이탈여부'].value_counts()"
   ]
  },
  {
   "cell_type": "code",
   "execution_count": 27,
   "id": "1ce4a84e",
   "metadata": {},
   "outputs": [],
   "source": [
    "major_class, minor_class = churn_df['이탈여부'].value_counts()"
   ]
  },
  {
   "cell_type": "code",
   "execution_count": 28,
   "id": "8b5bffbe",
   "metadata": {},
   "outputs": [],
   "source": [
    "major_data = churn_df[churn_df['이탈여부'] == 0]\n",
    "minor_data = churn_df[churn_df['이탈여부'] == 1]"
   ]
  },
  {
   "cell_type": "code",
   "execution_count": 29,
   "id": "77ec302d",
   "metadata": {},
   "outputs": [
    {
     "data": {
      "text/plain": [
       "(9931, 26)"
      ]
     },
     "execution_count": 29,
     "metadata": {},
     "output_type": "execute_result"
    }
   ],
   "source": [
    "under_data = major_data.sample(n=minor_class, random_state=123)\n",
    "under_data.shape"
   ]
  },
  {
   "cell_type": "code",
   "execution_count": 30,
   "id": "437fa4b5",
   "metadata": {},
   "outputs": [],
   "source": [
    "balanced_data = pd.concat([under_data, minor_data], axis=0)"
   ]
  },
  {
   "cell_type": "code",
   "execution_count": 31,
   "id": "a4d5242c",
   "metadata": {},
   "outputs": [
    {
     "data": {
      "text/plain": [
       "0    9931\n",
       "1    9931\n",
       "Name: 이탈여부, dtype: int64"
      ]
     },
     "execution_count": 31,
     "metadata": {},
     "output_type": "execute_result"
    }
   ],
   "source": [
    "balanced_data['이탈여부'].value_counts()"
   ]
  },
  {
   "cell_type": "markdown",
   "id": "ce885148",
   "metadata": {},
   "source": [
    "## 1.6 Data Split"
   ]
  },
  {
   "cell_type": "code",
   "execution_count": null,
   "id": "43f030cc",
   "metadata": {},
   "outputs": [],
   "source": [
    "#train, val, test data\n",
    "train_data = balanced_data.sample(frac=0.8)"
   ]
  }
 ],
 "metadata": {
  "kernelspec": {
   "display_name": "Python 3 (ipykernel)",
   "language": "python",
   "name": "python3"
  },
  "language_info": {
   "codemirror_mode": {
    "name": "ipython",
    "version": 3
   },
   "file_extension": ".py",
   "mimetype": "text/x-python",
   "name": "python",
   "nbconvert_exporter": "python",
   "pygments_lexer": "ipython3",
   "version": "3.9.13"
  }
 },
 "nbformat": 4,
 "nbformat_minor": 5
}
