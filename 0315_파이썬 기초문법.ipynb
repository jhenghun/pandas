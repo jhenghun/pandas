{
 "cells": [
  {
   "cell_type": "markdown",
   "id": "373a6d06",
   "metadata": {},
   "source": [
    "### 오늘의 학습목표\n",
    "- 사칙연산, 변수계산, 조건문, IF문, 반복문(IF, While), 함수 등의 기초문법을 이해할 수 있다."
   ]
  },
  {
   "cell_type": "code",
   "execution_count": 1,
   "id": "6a70c61f",
   "metadata": {},
   "outputs": [
    {
     "data": {
      "text/plain": [
       "4"
      ]
     },
     "execution_count": 1,
     "metadata": {},
     "output_type": "execute_result"
    }
   ],
   "source": [
    "1+3"
   ]
  },
  {
   "cell_type": "code",
   "execution_count": 2,
   "id": "5c716859",
   "metadata": {},
   "outputs": [
    {
     "data": {
      "text/plain": [
       "5.333333333333333"
      ]
     },
     "execution_count": 2,
     "metadata": {},
     "output_type": "execute_result"
    }
   ],
   "source": [
    "16/3"
   ]
  },
  {
   "cell_type": "code",
   "execution_count": 3,
   "id": "204514a4",
   "metadata": {},
   "outputs": [
    {
     "data": {
      "text/plain": [
       "5"
      ]
     },
     "execution_count": 3,
     "metadata": {},
     "output_type": "execute_result"
    }
   ],
   "source": [
    "16//3"
   ]
  },
  {
   "cell_type": "code",
   "execution_count": 4,
   "id": "b27ce054",
   "metadata": {},
   "outputs": [
    {
     "data": {
      "text/plain": [
       "1"
      ]
     },
     "execution_count": 4,
     "metadata": {},
     "output_type": "execute_result"
    }
   ],
   "source": [
    "16%3"
   ]
  },
  {
   "cell_type": "code",
   "execution_count": 5,
   "id": "39366710",
   "metadata": {},
   "outputs": [],
   "source": [
    "a=3\n",
    "b=7"
   ]
  },
  {
   "cell_type": "code",
   "execution_count": 9,
   "id": "6c5d1af8",
   "metadata": {},
   "outputs": [
    {
     "name": "stdout",
     "output_type": "stream",
     "text": [
      "21\n"
     ]
    },
    {
     "data": {
      "text/plain": [
       "0.42857142857142855"
      ]
     },
     "execution_count": 9,
     "metadata": {},
     "output_type": "execute_result"
    }
   ],
   "source": [
    "print(a*b)\n",
    "a/b"
   ]
  },
  {
   "cell_type": "code",
   "execution_count": 10,
   "id": "3a07fb88",
   "metadata": {},
   "outputs": [],
   "source": [
    "naver=\"네이버\""
   ]
  },
  {
   "cell_type": "code",
   "execution_count": 12,
   "id": "4350b1e0",
   "metadata": {},
   "outputs": [
    {
     "data": {
      "text/plain": [
       "'네이버'"
      ]
     },
     "execution_count": 12,
     "metadata": {},
     "output_type": "execute_result"
    }
   ],
   "source": [
    "naver"
   ]
  },
  {
   "cell_type": "code",
   "execution_count": 14,
   "id": "c41eccea",
   "metadata": {},
   "outputs": [
    {
     "data": {
      "text/plain": [
       "\"Kyungjin's husband name?\""
      ]
     },
     "execution_count": 14,
     "metadata": {},
     "output_type": "execute_result"
    }
   ],
   "source": [
    "\"Kyungjin's husband name?\""
   ]
  },
  {
   "cell_type": "markdown",
   "id": "75014adc",
   "metadata": {},
   "source": [
    "- 숫자: intege\n",
    "- 문자: string"
   ]
  },
  {
   "cell_type": "markdown",
   "id": "28f87463",
   "metadata": {},
   "source": [
    "> **Q. 위에 선언한 naver 뒤에 클라우드를 붙히려면 어떻게 해야할까요?**"
   ]
  },
  {
   "cell_type": "code",
   "execution_count": 16,
   "id": "d7a9de34",
   "metadata": {},
   "outputs": [
    {
     "data": {
      "text/plain": [
       "'네이버 클라우드'"
      ]
     },
     "execution_count": 16,
     "metadata": {},
     "output_type": "execute_result"
    }
   ],
   "source": [
    "naver+\" 클라우드\""
   ]
  },
  {
   "cell_type": "markdown",
   "id": "dce57c52",
   "metadata": {},
   "source": [
    "## 포멧팅"
   ]
  },
  {
   "cell_type": "code",
   "execution_count": 22,
   "id": "6f06c5af",
   "metadata": {},
   "outputs": [
    {
     "data": {
      "text/plain": [
       "'차경진은 바나나를 3개 사과 4개 멜론 6개 먹었다'"
      ]
     },
     "execution_count": 22,
     "metadata": {},
     "output_type": "execute_result"
    }
   ],
   "source": [
    "banana=3\n",
    "apple=4\n",
    "melon=6\n",
    "name=\"차경진\"\n",
    "\"{2}은 바나나를 {0}개 사과 {1}개 멜론 {3}개 먹었다\".format(banana, apple, name, melon)"
   ]
  },
  {
   "cell_type": "code",
   "execution_count": 23,
   "id": "a988d842",
   "metadata": {},
   "outputs": [
    {
     "data": {
      "text/plain": [
       "'차경진은 바나나를 3개 먹고 사과를 4개 먹었다'"
      ]
     },
     "execution_count": 23,
     "metadata": {},
     "output_type": "execute_result"
    }
   ],
   "source": [
    "\"%s은 바나나를 %d개 먹고 사과를 %d개 먹었다\"%(name, banana, apple)"
   ]
  },
  {
   "cell_type": "code",
   "execution_count": 25,
   "id": "8ea03287",
   "metadata": {},
   "outputs": [
    {
     "data": {
      "text/plain": [
       "'모델 a의 값은 3.32이고 모델 b의 값은 5이다'"
      ]
     },
     "execution_count": 25,
     "metadata": {},
     "output_type": "execute_result"
    }
   ],
   "source": [
    "model_a= 3.32321432\n",
    "model_b= 5.12324324\n",
    "\n",
    "\"모델 a의 값은 %.2f이고 모델 b의 값은 %d이다\"%(model_a, model_b)"
   ]
  },
  {
   "cell_type": "markdown",
   "id": "88d38adc",
   "metadata": {},
   "source": [
    "## 리스트\n",
    "- 여러 데이터를 한 곳에 묶는 방법으로 리스트가 가장 많이 사용된다. 리스트에는 임의의  자료 타입을 담을 수 있다. 리스트를 만들려면 [ ]를 사용한다.\n",
    "- 순서가 있는 요소가 있는 자료 구조\n",
    "- ex) `players = ['투수 임찬국', '투수 류제국', '내야수 오지환', '내야수 가르시아', '포수 정상호']`\n",
    "- 튜플도 있는데 리스트와 차이가 있다면 튜플은 수정삭제추가가 불가능하다. \n",
    "- list만 추가/수정/삭제가 가능하므로 list에만 있는 메소드는 아래와 같다."
   ]
  },
  {
   "cell_type": "markdown",
   "id": "b627ea8d",
   "metadata": {},
   "source": [
    "메서드|설명\n",
    "--|--\n",
    "리스트.append(x)|리스트의 끝에 새로운 원소 x를 추가\n",
    "리스트.extend(t)|리스트의 끝에 새로운 리스트 t를 추가\n",
    "리스트.count(x)|리스트에서 x가 출현한 횟수를 셈\n",
    "리스트.insert(i, x)|색인 i의 위치에 x를 삽입\n",
    "리스트.pop(i)|리스트에서 원소 i를 제거하면서 i를 반환, i를 생략하면 마지막 원소가 제거되면서 반환\n",
    "리스트.remove(x)|x를 찾아서 s에서 제거"
   ]
  },
  {
   "cell_type": "code",
   "execution_count": 26,
   "id": "305ff8ac",
   "metadata": {},
   "outputs": [],
   "source": [
    "korean_presidents=[\"윤석열\", \"문재인\", \"박근혜\", \"노무현\", \"김대중\"]"
   ]
  },
  {
   "cell_type": "code",
   "execution_count": 28,
   "id": "ef249aa3",
   "metadata": {},
   "outputs": [
    {
     "data": {
      "text/plain": [
       "'윤석열'"
      ]
     },
     "execution_count": 28,
     "metadata": {},
     "output_type": "execute_result"
    }
   ],
   "source": [
    "korean_presidents[0]"
   ]
  },
  {
   "cell_type": "code",
   "execution_count": 29,
   "id": "c043747f",
   "metadata": {},
   "outputs": [],
   "source": [
    "korean_presidents.append(\"이명박\")"
   ]
  },
  {
   "cell_type": "code",
   "execution_count": 30,
   "id": "d74723a9",
   "metadata": {},
   "outputs": [
    {
     "data": {
      "text/plain": [
       "['윤석열', '문재인', '박근혜', '노무현', '김대중', '이명박']"
      ]
     },
     "execution_count": 30,
     "metadata": {},
     "output_type": "execute_result"
    }
   ],
   "source": [
    "korean_presidents"
   ]
  },
  {
   "cell_type": "code",
   "execution_count": 31,
   "id": "ca44d59d",
   "metadata": {},
   "outputs": [],
   "source": [
    "korean_presidents.remove(\"이명박\")"
   ]
  },
  {
   "cell_type": "code",
   "execution_count": 33,
   "id": "0994d011",
   "metadata": {},
   "outputs": [],
   "source": [
    "korean_presidents.insert(3, \"이명박\")"
   ]
  },
  {
   "cell_type": "code",
   "execution_count": 34,
   "id": "4ff3fac6",
   "metadata": {},
   "outputs": [
    {
     "data": {
      "text/plain": [
       "['윤석열', '문재인', '박근혜', '이명박', '노무현', '김대중']"
      ]
     },
     "execution_count": 34,
     "metadata": {},
     "output_type": "execute_result"
    }
   ],
   "source": [
    "korean_presidents"
   ]
  },
  {
   "cell_type": "code",
   "execution_count": 35,
   "id": "0f2437e8",
   "metadata": {},
   "outputs": [],
   "source": [
    "from random import randint"
   ]
  },
  {
   "cell_type": "code",
   "execution_count": 36,
   "id": "9aaf3400",
   "metadata": {},
   "outputs": [
    {
     "data": {
      "text/plain": [
       "4"
      ]
     },
     "execution_count": 36,
     "metadata": {},
     "output_type": "execute_result"
    }
   ],
   "source": [
    "randint(1,10)"
   ]
  },
  {
   "cell_type": "markdown",
   "id": "26e6a19b",
   "metadata": {},
   "source": [
    "> **Q. 위에서 만든 korean_presidents 리스트 중에서 랜덤하게 대통령 한 명을 선택해서 출력해주세요**"
   ]
  },
  {
   "cell_type": "code",
   "execution_count": 42,
   "id": "c03ff158",
   "metadata": {},
   "outputs": [
    {
     "data": {
      "text/plain": [
       "6"
      ]
     },
     "execution_count": 42,
     "metadata": {},
     "output_type": "execute_result"
    }
   ],
   "source": [
    "len(korean_presidents)"
   ]
  },
  {
   "cell_type": "code",
   "execution_count": 41,
   "id": "3479f14f",
   "metadata": {},
   "outputs": [
    {
     "data": {
      "text/plain": [
       "'김대중'"
      ]
     },
     "execution_count": 41,
     "metadata": {},
     "output_type": "execute_result"
    }
   ],
   "source": [
    "korean_presidents[randint(0,len(korean_presidents)-1)]"
   ]
  },
  {
   "cell_type": "markdown",
   "id": "828711af",
   "metadata": {},
   "source": [
    "## 논리형"
   ]
  },
  {
   "cell_type": "code",
   "execution_count": 43,
   "id": "4d327bfb",
   "metadata": {},
   "outputs": [],
   "source": [
    "a=True\n",
    "b=False"
   ]
  },
  {
   "cell_type": "code",
   "execution_count": 44,
   "id": "75aeb4c3",
   "metadata": {},
   "outputs": [
    {
     "data": {
      "text/plain": [
       "1"
      ]
     },
     "execution_count": 44,
     "metadata": {},
     "output_type": "execute_result"
    }
   ],
   "source": [
    "a+b"
   ]
  },
  {
   "cell_type": "code",
   "execution_count": 45,
   "id": "a3087f06",
   "metadata": {},
   "outputs": [
    {
     "data": {
      "text/plain": [
       "True"
      ]
     },
     "execution_count": 45,
     "metadata": {},
     "output_type": "execute_result"
    }
   ],
   "source": [
    "a or b"
   ]
  },
  {
   "cell_type": "code",
   "execution_count": 46,
   "id": "29b215ca",
   "metadata": {},
   "outputs": [
    {
     "data": {
      "text/plain": [
       "False"
      ]
     },
     "execution_count": 46,
     "metadata": {},
     "output_type": "execute_result"
    }
   ],
   "source": [
    "not a"
   ]
  },
  {
   "cell_type": "code",
   "execution_count": 47,
   "id": "5fc86f17",
   "metadata": {},
   "outputs": [
    {
     "data": {
      "text/plain": [
       "True"
      ]
     },
     "execution_count": 47,
     "metadata": {},
     "output_type": "execute_result"
    }
   ],
   "source": [
    "not b"
   ]
  },
  {
   "cell_type": "code",
   "execution_count": 48,
   "id": "6170ef67",
   "metadata": {},
   "outputs": [
    {
     "data": {
      "text/plain": [
       "False"
      ]
     },
     "execution_count": 48,
     "metadata": {},
     "output_type": "execute_result"
    }
   ],
   "source": [
    "a==b"
   ]
  },
  {
   "cell_type": "markdown",
   "id": "2fecf0d4",
   "metadata": {},
   "source": [
    "## 반복문: while, for"
   ]
  },
  {
   "cell_type": "markdown",
   "id": "15b09ffd",
   "metadata": {},
   "source": [
    "### while\n",
    "\n",
    "- while 조건문:\n",
    "- 조건문이 True인 경우에만 실행\n",
    "- 조건문이 False인 경우 while 반복문을 빠져나옴\n",
    "- 따라서 조건문이 변경되는 로직이 반드시 있어야 하고,\n",
    "- 조건문이 변경되지 않으면 영원히 while 반복문을 빠져나오지 못함"
   ]
  },
  {
   "cell_type": "code",
   "execution_count": 49,
   "id": "3fd20a62",
   "metadata": {},
   "outputs": [
    {
     "name": "stdout",
     "output_type": "stream",
     "text": [
      "현재 i의 값은 0입니다\n",
      "현재 i의 값은 1입니다\n",
      "현재 i의 값은 2입니다\n",
      "현재 i의 값은 3입니다\n",
      "현재 i의 값은 4입니다\n",
      "현재 i의 값은 5입니다\n",
      "현재 i의 값은 6입니다\n",
      "현재 i의 값은 7입니다\n",
      "현재 i의 값은 8입니다\n",
      "현재 i의 값은 9입니다\n"
     ]
    }
   ],
   "source": [
    "i=0\n",
    "while i<10:\n",
    "    print(\"현재 i의 값은 %d입니다\"%i)\n",
    "    i += 1"
   ]
  },
  {
   "cell_type": "code",
   "execution_count": 50,
   "id": "c7930471",
   "metadata": {},
   "outputs": [
    {
     "name": "stdout",
     "output_type": "stream",
     "text": [
      "현재 i의 값은 10입니다\n",
      "현재 i의 값은 9입니다\n",
      "현재 i의 값은 8입니다\n",
      "현재 i의 값은 7입니다\n",
      "현재 i의 값은 6입니다\n",
      "현재 i의 값은 5입니다\n",
      "현재 i의 값은 4입니다\n",
      "현재 i의 값은 3입니다\n",
      "현재 i의 값은 2입니다\n",
      "현재 i의 값은 1입니다\n"
     ]
    }
   ],
   "source": [
    "i=10\n",
    "while i>0:\n",
    "    print(\"현재 i의 값은 %d입니다\"%i)\n",
    "    i -= 1"
   ]
  },
  {
   "cell_type": "markdown",
   "id": "b335ec21",
   "metadata": {},
   "source": [
    "## For문"
   ]
  },
  {
   "cell_type": "code",
   "execution_count": 51,
   "id": "98a75e6c",
   "metadata": {},
   "outputs": [
    {
     "data": {
      "text/plain": [
       "range(0, 10)"
      ]
     },
     "execution_count": 51,
     "metadata": {},
     "output_type": "execute_result"
    }
   ],
   "source": [
    "range(0,10)"
   ]
  },
  {
   "cell_type": "code",
   "execution_count": 52,
   "id": "08b692a5",
   "metadata": {},
   "outputs": [
    {
     "name": "stdout",
     "output_type": "stream",
     "text": [
      "현재 i의 값은 0입니다\n",
      "현재 i의 값은 1입니다\n",
      "현재 i의 값은 2입니다\n",
      "현재 i의 값은 3입니다\n",
      "현재 i의 값은 4입니다\n",
      "현재 i의 값은 5입니다\n",
      "현재 i의 값은 6입니다\n",
      "현재 i의 값은 7입니다\n",
      "현재 i의 값은 8입니다\n",
      "현재 i의 값은 9입니다\n"
     ]
    }
   ],
   "source": [
    "for i in range(0,10):\n",
    "    print(\"현재 i의 값은 %d입니다\"%i)"
   ]
  },
  {
   "cell_type": "markdown",
   "id": "3ff49173",
   "metadata": {},
   "source": [
    "> **Q. 아래 For문을 고쳐서 \"19대 대통령의 이름은 윤석열입니다\"라고 출력되게 해주세요**"
   ]
  },
  {
   "cell_type": "code",
   "execution_count": 57,
   "id": "77d05a19",
   "metadata": {},
   "outputs": [
    {
     "name": "stdout",
     "output_type": "stream",
     "text": [
      "19대 대통령의 이름은 윤석열입니다\n",
      "18대 대통령의 이름은 문재인입니다\n",
      "17대 대통령의 이름은 박근혜입니다\n",
      "16대 대통령의 이름은 이명박입니다\n",
      "15대 대통령의 이름은 노무현입니다\n",
      "14대 대통령의 이름은 김대중입니다\n"
     ]
    }
   ],
   "source": [
    "j=19\n",
    "for i in korean_presidents:\n",
    "    print(\"%d대 대통령의 이름은 %s입니다\"%(j,i))\n",
    "    j-=1"
   ]
  },
  {
   "cell_type": "markdown",
   "id": "f8fd3ae2",
   "metadata": {},
   "source": [
    "## 연습문제 구구단"
   ]
  },
  {
   "cell_type": "markdown",
   "id": "6c17a7be",
   "metadata": {},
   "source": [
    "> **Q. 구구단 3단과 4단을 출력해보자**\n",
    "- for문을 2개 써야한다.\n",
    "- print(\"%dX%d=%d\"%(a,b,a*b))"
   ]
  },
  {
   "cell_type": "code",
   "execution_count": 58,
   "id": "efb1ecb8",
   "metadata": {},
   "outputs": [
    {
     "name": "stdout",
     "output_type": "stream",
     "text": [
      "==== 3단 시작 ====\n",
      "3X1=3\n",
      "3X2=6\n",
      "3X3=9\n",
      "3X4=12\n",
      "3X5=15\n",
      "3X6=18\n",
      "3X7=21\n",
      "3X8=24\n",
      "3X9=27\n",
      "==== 4단 시작 ====\n",
      "4X1=4\n",
      "4X2=8\n",
      "4X3=12\n",
      "4X4=16\n",
      "4X5=20\n",
      "4X6=24\n",
      "4X7=28\n",
      "4X8=32\n",
      "4X9=36\n"
     ]
    }
   ],
   "source": [
    "for a in range(3,5):\n",
    "    print(\"==== %d단 시작 ====\"%a)\n",
    "    for b in range(1,10):\n",
    "        print(\"%dX%d=%d\"%(a,b,a*b))"
   ]
  },
  {
   "cell_type": "markdown",
   "id": "473595e2",
   "metadata": {},
   "source": [
    "## IF문 조건문"
   ]
  },
  {
   "cell_type": "code",
   "execution_count": 4,
   "id": "14c6fc72",
   "metadata": {},
   "outputs": [
    {
     "name": "stdout",
     "output_type": "stream",
     "text": [
      "현재 가지고 있는 돈의 액수를 적어주세요1000\n",
      "걸어가세요\n"
     ]
    }
   ],
   "source": [
    "money=int(input(\"현재 가지고 있는 돈의 액수를 적어주세요\"))\n",
    "if money>=1200:\n",
    "    print(\"버스를 타세요\")\n",
    "else:\n",
    "    print(\"걸어가세요\")"
   ]
  },
  {
   "cell_type": "code",
   "execution_count": 3,
   "id": "fc981c22",
   "metadata": {},
   "outputs": [
    {
     "data": {
      "text/plain": [
       "str"
      ]
     },
     "execution_count": 3,
     "metadata": {},
     "output_type": "execute_result"
    }
   ],
   "source": [
    "type(money)"
   ]
  },
  {
   "cell_type": "markdown",
   "id": "94cbfa42",
   "metadata": {},
   "source": [
    "> **Q. 위에서 배운 것을 이용해서 사용자가 나이를 입력하면 10대~50대 이상인지를 알아맞추는 프로그램을 짜보자 예) 사용자가 32를 입력하면 30대 이시군요!**"
   ]
  },
  {
   "cell_type": "code",
   "execution_count": 1,
   "id": "d84333c9",
   "metadata": {},
   "outputs": [
    {
     "name": "stdout",
     "output_type": "stream",
     "text": [
      "나이를 입력해주세요40\n",
      "40대 이시군요!\n"
     ]
    }
   ],
   "source": [
    "age=int(input(\"나이를 입력해주세요\"))\n",
    "if age>=10 and age<=59:\n",
    "    if age>=10 and age<=19:\n",
    "        print(\"10대 이시군요!\")\n",
    "    if age>=20 and age<=29:\n",
    "        print(\"20대 이시군요!\")\n",
    "    if age>=30 and age<=39:\n",
    "        print(\"30대 이시군요!\")\n",
    "    if age>=40 and age<=49:\n",
    "        print(\"40대 이시군요!\")\n",
    "    if age>=50 and age<=59:\n",
    "        print(\"50대 이시군요!\")\n",
    "else:\n",
    "    print(\"다시 입력해주세요\")\n",
    "#여기서 다시 input하게끔 코드 작성"
   ]
  },
  {
   "cell_type": "markdown",
   "id": "111cc171",
   "metadata": {},
   "source": [
    "> **Q. 조건문과 반복문을 이용해서 놀이공원 입장료를 계산하는 프로그램을 짜보자**\n",
    "- 입장료는 나이에 따라 다르다\n",
    "- 사용자로부터 입장할 사람의 수를 무한대로 받을 수 있습니다\n",
    "- 사용자가 엔터를 입력하면 끝나고 지금까지 구한 입장료의 총합을 출력합니다"
   ]
  },
  {
   "cell_type": "markdown",
   "id": "32ba84c0",
   "metadata": {},
   "source": [
    "**알고리즘 개발순서**\n",
    "1. 먼저 고객의 나이를 받아서 변수에 할당한다. age\n",
    "2. 해당 변수가 빈 값이 아닌 동안 계속 실행한다. while !=''\n",
    "3. 조건문을 작성해서 해당 변수 age의 연령대에 따라 입장료가 total_price라는 변수에 합산될 수 있도록 분기처리한다.\n",
    "4. 다 합산되고 사용자가 빈 값을 입력하면 멈추고, total_price가 출력된다."
   ]
  },
  {
   "cell_type": "code",
   "execution_count": 1,
   "id": "7f4fa6d0",
   "metadata": {},
   "outputs": [],
   "source": [
    "#입장료\n",
    "baby_price=1000\n",
    "child_price=2000\n",
    "adult_price=3000"
   ]
  },
  {
   "cell_type": "code",
   "execution_count": 2,
   "id": "5858b37a",
   "metadata": {},
   "outputs": [],
   "source": [
    "#연령대\n",
    "baby_limit=2\n",
    "child_limit=18\n",
    "adult_limit=60"
   ]
  },
  {
   "cell_type": "code",
   "execution_count": 10,
   "id": "e1f1785f",
   "metadata": {},
   "outputs": [
    {
     "name": "stdout",
     "output_type": "stream",
     "text": [
      "고객의 나이를 입력해주세요 (아무것도 입력하지 않고 엔터를 누르면 종료됨)10\n",
      "고객의 나이를 입력해주세요 (아무것도 입력하지 않고 엔터를 누르면 종료됨)20\n",
      "고객의 나이를 입력해주세요 (아무것도 입력하지 않고 엔터를 누르면 종료됨)30\n",
      "고객의 나이를 입력해주세요 (아무것도 입력하지 않고 엔터를 누르면 종료됨)40\n",
      "고객의 나이를 입력해주세요 (아무것도 입력하지 않고 엔터를 누르면 종료됨)\n",
      "총 금액은 11000원 입니다.\n"
     ]
    }
   ],
   "source": [
    "total_price=0\n",
    "age=input(\"고객의 나이를 입력해주세요 (아무것도 입력하지 않고 엔터를 누르면 종료됨)\")\n",
    "while age !='':\n",
    "    age=int(age)\n",
    "    if age <= baby_limit:\n",
    "        total_price += baby_price\n",
    "    elif age<=child_limit:\n",
    "        total_price += child_price\n",
    "    elif age<adult_limit:\n",
    "        total_price += adult_price\n",
    "    age=input(\"고객의 나이를 입력해주세요 (아무것도 입력하지 않고 엔터를 누르면 종료됨)\")\n",
    "print(\"총 금액은 %d원 입니다.\"%total_price)"
   ]
  },
  {
   "cell_type": "markdown",
   "id": "4d069f11",
   "metadata": {},
   "source": [
    "## 딕셔너리\n",
    "- 모든 항목이 key:value로 구성되어 있는 데이터 형식이다.\n",
    "- {}를 사용"
   ]
  },
  {
   "cell_type": "code",
   "execution_count": 11,
   "id": "ef8e77a0",
   "metadata": {},
   "outputs": [],
   "source": [
    "dic={'name':'Kyung','phone':\"2220-1038\"}"
   ]
  },
  {
   "cell_type": "code",
   "execution_count": 12,
   "id": "411d0d42",
   "metadata": {},
   "outputs": [
    {
     "data": {
      "text/plain": [
       "dict_keys(['name', 'phone'])"
      ]
     },
     "execution_count": 12,
     "metadata": {},
     "output_type": "execute_result"
    }
   ],
   "source": [
    "dic.keys()"
   ]
  },
  {
   "cell_type": "code",
   "execution_count": 13,
   "id": "24097f63",
   "metadata": {},
   "outputs": [
    {
     "data": {
      "text/plain": [
       "dict_values(['Kyung', '2220-1038'])"
      ]
     },
     "execution_count": 13,
     "metadata": {},
     "output_type": "execute_result"
    }
   ],
   "source": [
    "dic.values()"
   ]
  },
  {
   "cell_type": "code",
   "execution_count": 14,
   "id": "d7edc0d9",
   "metadata": {},
   "outputs": [
    {
     "data": {
      "text/plain": [
       "'Kyung'"
      ]
     },
     "execution_count": 14,
     "metadata": {},
     "output_type": "execute_result"
    }
   ],
   "source": [
    "dic['name']"
   ]
  },
  {
   "cell_type": "code",
   "execution_count": 15,
   "id": "c811489d",
   "metadata": {},
   "outputs": [],
   "source": [
    "dic['age']=41"
   ]
  },
  {
   "cell_type": "code",
   "execution_count": 16,
   "id": "8a2a9082",
   "metadata": {},
   "outputs": [
    {
     "data": {
      "text/plain": [
       "{'name': 'Kyung', 'phone': '2220-1038', 'age': 41}"
      ]
     },
     "execution_count": 16,
     "metadata": {},
     "output_type": "execute_result"
    }
   ],
   "source": [
    "dic"
   ]
  },
  {
   "cell_type": "code",
   "execution_count": 17,
   "id": "6cec0170",
   "metadata": {},
   "outputs": [],
   "source": [
    "dic['name']=['Kyung','terry','daniel','joshua']"
   ]
  },
  {
   "cell_type": "code",
   "execution_count": 18,
   "id": "1fc7d87e",
   "metadata": {},
   "outputs": [
    {
     "data": {
      "text/plain": [
       "{'name': ['Kyung', 'terry', 'daniel', 'joshua'],\n",
       " 'phone': '2220-1038',\n",
       " 'age': 41}"
      ]
     },
     "execution_count": 18,
     "metadata": {},
     "output_type": "execute_result"
    }
   ],
   "source": [
    "dic"
   ]
  },
  {
   "cell_type": "code",
   "execution_count": 20,
   "id": "11732f73",
   "metadata": {},
   "outputs": [
    {
     "data": {
      "text/plain": [
       "True"
      ]
     },
     "execution_count": 20,
     "metadata": {},
     "output_type": "execute_result"
    }
   ],
   "source": [
    "'2220-1038' in dic.values()"
   ]
  },
  {
   "cell_type": "code",
   "execution_count": 21,
   "id": "d4cc5843",
   "metadata": {},
   "outputs": [
    {
     "data": {
      "text/plain": [
       "True"
      ]
     },
     "execution_count": 21,
     "metadata": {},
     "output_type": "execute_result"
    }
   ],
   "source": [
    "'age' in dic.keys()"
   ]
  },
  {
   "cell_type": "code",
   "execution_count": 22,
   "id": "dc27b422",
   "metadata": {},
   "outputs": [
    {
     "data": {
      "text/plain": [
       "False"
      ]
     },
     "execution_count": 22,
     "metadata": {},
     "output_type": "execute_result"
    }
   ],
   "source": [
    "'sex' in dic.keys()"
   ]
  },
  {
   "cell_type": "code",
   "execution_count": 23,
   "id": "93a9daa5",
   "metadata": {},
   "outputs": [
    {
     "data": {
      "text/plain": [
       "True"
      ]
     },
     "execution_count": 23,
     "metadata": {},
     "output_type": "execute_result"
    }
   ],
   "source": [
    "'daniel' in dic['name']"
   ]
  },
  {
   "cell_type": "code",
   "execution_count": 29,
   "id": "2baabc6b",
   "metadata": {},
   "outputs": [
    {
     "name": "stdout",
     "output_type": "stream",
     "text": [
      "사람의 다리는 2개 입니다\n",
      "고양이의 다리는 4개 입니다\n",
      "거미의 다리는 8개 입니다\n"
     ]
    }
   ],
   "source": [
    "d={'사람':2, '고양이':4, '거미':8}\n",
    "\n",
    "for i in d:\n",
    "    print(\"%s의 다리는 %d개 입니다\"%(i,d[i]))"
   ]
  },
  {
   "cell_type": "markdown",
   "id": "3b852039",
   "metadata": {},
   "source": [
    "## 튜플\n",
    "- 상수화된 리스트\n",
    "- 내용을 갱신할 수 없다는 제약\n",
    "- 처리속도가 빠르다"
   ]
  },
  {
   "cell_type": "code",
   "execution_count": 30,
   "id": "58ddfb18",
   "metadata": {},
   "outputs": [],
   "source": [
    "t = (1,2,3)"
   ]
  },
  {
   "cell_type": "code",
   "execution_count": 31,
   "id": "c2709a64",
   "metadata": {},
   "outputs": [
    {
     "data": {
      "text/plain": [
       "tuple"
      ]
     },
     "execution_count": 31,
     "metadata": {},
     "output_type": "execute_result"
    }
   ],
   "source": [
    "type(t)"
   ]
  },
  {
   "cell_type": "code",
   "execution_count": 32,
   "id": "15cf68cf",
   "metadata": {},
   "outputs": [],
   "source": [
    "t1=1,2,3"
   ]
  },
  {
   "cell_type": "code",
   "execution_count": 33,
   "id": "694f9d6b",
   "metadata": {},
   "outputs": [
    {
     "data": {
      "text/plain": [
       "tuple"
      ]
     },
     "execution_count": 33,
     "metadata": {},
     "output_type": "execute_result"
    }
   ],
   "source": [
    "type(t1)"
   ]
  },
  {
   "cell_type": "code",
   "execution_count": 34,
   "id": "c2297831",
   "metadata": {},
   "outputs": [],
   "source": [
    "t1=list(t1)"
   ]
  },
  {
   "cell_type": "code",
   "execution_count": 35,
   "id": "ac191747",
   "metadata": {},
   "outputs": [],
   "source": [
    "t1.append(4)"
   ]
  },
  {
   "cell_type": "code",
   "execution_count": 36,
   "id": "5a7548d6",
   "metadata": {},
   "outputs": [
    {
     "data": {
      "text/plain": [
       "(1, 2, 3, 4)"
      ]
     },
     "execution_count": 36,
     "metadata": {},
     "output_type": "execute_result"
    }
   ],
   "source": [
    "tuple(t1)"
   ]
  },
  {
   "cell_type": "markdown",
   "id": "88ec83a6",
   "metadata": {},
   "source": [
    "## 함수\n",
    "- 목적: 코드의 재사용과 반복작업을 최소하하기 위해"
   ]
  },
  {
   "cell_type": "code",
   "execution_count": 39,
   "id": "cb0f4e0d",
   "metadata": {},
   "outputs": [],
   "source": [
    "def kyungjin(a,b,c):\n",
    "    return \"%d 더하기 %d는 %d인데, %d를 곱하면 %d이다\"%(a,b,a+b,c,(a+b)*c)"
   ]
  },
  {
   "cell_type": "code",
   "execution_count": 40,
   "id": "fabe61f5",
   "metadata": {},
   "outputs": [
    {
     "data": {
      "text/plain": [
       "'59 더하기 39는 98인데, 999를 곱하면 97902이다'"
      ]
     },
     "execution_count": 40,
     "metadata": {},
     "output_type": "execute_result"
    }
   ],
   "source": [
    "kyungjin(59,39,999)"
   ]
  },
  {
   "cell_type": "markdown",
   "id": "7fc0d095",
   "metadata": {},
   "source": [
    "> **Q. 사용자가 숫자를 입력하면 양수인지 음수인지를 판단해주는 sign()이란 함수를 정의해주세요**"
   ]
  },
  {
   "cell_type": "code",
   "execution_count": 3,
   "id": "83e026ac",
   "metadata": {},
   "outputs": [],
   "source": [
    "def sign(a):\n",
    "    if a<0:\n",
    "        return \"%d(은)는 음수입니다\"%(a)\n",
    "    elif a>0:\n",
    "        return \"%d(은)는 양수입니다\"%(a)\n",
    "    else:\n",
    "        return '0'"
   ]
  },
  {
   "cell_type": "code",
   "execution_count": 4,
   "id": "57d48a8c",
   "metadata": {},
   "outputs": [
    {
     "name": "stdout",
     "output_type": "stream",
     "text": [
      "숫자를 입력하세요1\n"
     ]
    },
    {
     "data": {
      "text/plain": [
       "'1(은)는 양수입니다'"
      ]
     },
     "execution_count": 4,
     "metadata": {},
     "output_type": "execute_result"
    }
   ],
   "source": [
    "a=int(input(\"숫자를 입력하세요\"))\n",
    "sign(a)"
   ]
  },
  {
   "cell_type": "markdown",
   "id": "4a7f2b80",
   "metadata": {},
   "source": [
    "> **Q. 3개의 인자값을 받아서 평균을 반환하는 함수를 만들어보세요**"
   ]
  },
  {
   "cell_type": "code",
   "execution_count": 56,
   "id": "eaf3b748",
   "metadata": {},
   "outputs": [],
   "source": [
    "def average(a,b,c):\n",
    "    return \"평균은 %d 입니다\"%((a+b+c)/3)"
   ]
  },
  {
   "cell_type": "code",
   "execution_count": 57,
   "id": "43c244eb",
   "metadata": {},
   "outputs": [
    {
     "data": {
      "text/plain": [
       "'평균은 2 입니다'"
      ]
     },
     "execution_count": 57,
     "metadata": {},
     "output_type": "execute_result"
    }
   ],
   "source": [
    "average(1,2,3)"
   ]
  },
  {
   "cell_type": "markdown",
   "id": "3740653f",
   "metadata": {},
   "source": [
    "> **Q. 미국에 있는 state의 수도는 어디인지 출력하는 find_capital()이라는 함수를 만들어보세요**"
   ]
  },
  {
   "cell_type": "code",
   "execution_count": 117,
   "id": "81dcf417",
   "metadata": {},
   "outputs": [],
   "source": [
    "state={'Alabama':'Montgomery','Alaska':'Juneau',\"Arizona\":\"Phoenix\",\"Wyoming\":\"Cheyenne\"}\n",
    "def find_capital(i):\n",
    "    return state[i]"
   ]
  },
  {
   "cell_type": "code",
   "execution_count": 118,
   "id": "e2be1363",
   "metadata": {},
   "outputs": [
    {
     "data": {
      "text/plain": [
       "'Juneau'"
      ]
     },
     "execution_count": 118,
     "metadata": {},
     "output_type": "execute_result"
    }
   ],
   "source": [
    "find_capital(\"Alaska\")"
   ]
  },
  {
   "cell_type": "markdown",
   "id": "1b9fb92e",
   "metadata": {},
   "source": [
    "## 판다스"
   ]
  },
  {
   "cell_type": "code",
   "execution_count": 77,
   "id": "586f2082",
   "metadata": {},
   "outputs": [],
   "source": [
    "import pandas as pd\n",
    "import numpy as np"
   ]
  },
  {
   "cell_type": "code",
   "execution_count": 78,
   "id": "5a57549a",
   "metadata": {},
   "outputs": [],
   "source": [
    "customer = {'Name':['John','Anna','Kyung','Terry'],\n",
    "           'Location':['New York','Paris','Seoul','Tokyo'],\n",
    "           'Age':[24,13,53,13]}"
   ]
  },
  {
   "cell_type": "code",
   "execution_count": 85,
   "id": "69ca286d",
   "metadata": {},
   "outputs": [],
   "source": [
    "a = pd.DataFrame(customer, index=['첫째','둘째','셋째','넷째'])"
   ]
  },
  {
   "cell_type": "code",
   "execution_count": 86,
   "id": "8fc8af70",
   "metadata": {},
   "outputs": [
    {
     "data": {
      "text/plain": [
       "Index(['Name', 'Location', 'Age'], dtype='object')"
      ]
     },
     "execution_count": 86,
     "metadata": {},
     "output_type": "execute_result"
    }
   ],
   "source": [
    "a.columns"
   ]
  },
  {
   "cell_type": "code",
   "execution_count": 90,
   "id": "a509bc40",
   "metadata": {},
   "outputs": [
    {
     "data": {
      "text/plain": [
       "첫째    New York\n",
       "둘째       Paris\n",
       "셋째       Seoul\n",
       "넷째       Tokyo\n",
       "Name: Location, dtype: object"
      ]
     },
     "execution_count": 90,
     "metadata": {},
     "output_type": "execute_result"
    }
   ],
   "source": [
    "a.Location"
   ]
  },
  {
   "cell_type": "code",
   "execution_count": 93,
   "id": "c72a8be6",
   "metadata": {},
   "outputs": [
    {
     "data": {
      "text/html": [
       "<div>\n",
       "<style scoped>\n",
       "    .dataframe tbody tr th:only-of-type {\n",
       "        vertical-align: middle;\n",
       "    }\n",
       "\n",
       "    .dataframe tbody tr th {\n",
       "        vertical-align: top;\n",
       "    }\n",
       "\n",
       "    .dataframe thead th {\n",
       "        text-align: right;\n",
       "    }\n",
       "</style>\n",
       "<table border=\"1\" class=\"dataframe\">\n",
       "  <thead>\n",
       "    <tr style=\"text-align: right;\">\n",
       "      <th></th>\n",
       "      <th>Name</th>\n",
       "      <th>Location</th>\n",
       "      <th>Age</th>\n",
       "    </tr>\n",
       "  </thead>\n",
       "  <tbody>\n",
       "    <tr>\n",
       "      <th>첫째</th>\n",
       "      <td>John</td>\n",
       "      <td>New York</td>\n",
       "      <td>24</td>\n",
       "    </tr>\n",
       "    <tr>\n",
       "      <th>셋째</th>\n",
       "      <td>Kyung</td>\n",
       "      <td>Seoul</td>\n",
       "      <td>53</td>\n",
       "    </tr>\n",
       "  </tbody>\n",
       "</table>\n",
       "</div>"
      ],
      "text/plain": [
       "     Name  Location  Age\n",
       "첫째   John  New York   24\n",
       "셋째  Kyung     Seoul   53"
      ]
     },
     "execution_count": 93,
     "metadata": {},
     "output_type": "execute_result"
    }
   ],
   "source": [
    "a[a.Age > 20]"
   ]
  },
  {
   "cell_type": "markdown",
   "id": "886be603",
   "metadata": {},
   "source": [
    "## Series\n",
    "- 1차원 배열의 자료구조"
   ]
  },
  {
   "cell_type": "code",
   "execution_count": 97,
   "id": "f69db7f5",
   "metadata": {},
   "outputs": [],
   "source": [
    "a = pd.Series([4,7,-5.7,2,99], index=[1,2,3,4,5])"
   ]
  },
  {
   "cell_type": "code",
   "execution_count": 99,
   "id": "79ba52d5",
   "metadata": {},
   "outputs": [],
   "source": [
    "from pandas import Series"
   ]
  },
  {
   "cell_type": "code",
   "execution_count": 100,
   "id": "4e7553b4",
   "metadata": {},
   "outputs": [],
   "source": [
    "a = Series([4,7,-5.7,2,99], index=[1,2,3,4,5])"
   ]
  },
  {
   "cell_type": "code",
   "execution_count": 103,
   "id": "23293528",
   "metadata": {},
   "outputs": [
    {
     "data": {
      "text/plain": [
       "1     4.0\n",
       "2     7.0\n",
       "3    -5.7\n",
       "4     2.0\n",
       "5    99.0\n",
       "dtype: float64"
      ]
     },
     "execution_count": 103,
     "metadata": {},
     "output_type": "execute_result"
    }
   ],
   "source": [
    "a"
   ]
  },
  {
   "cell_type": "code",
   "execution_count": 101,
   "id": "306fd9a7",
   "metadata": {},
   "outputs": [],
   "source": [
    "s=Series([10000,20000,30000,40000],\n",
    "         index=['Seatle','Seoul','San Hose','Beijing'])"
   ]
  },
  {
   "cell_type": "code",
   "execution_count": 102,
   "id": "6ee4b9f3",
   "metadata": {},
   "outputs": [
    {
     "data": {
      "text/plain": [
       "Seatle      10000\n",
       "Seoul       20000\n",
       "San Hose    30000\n",
       "Beijing     40000\n",
       "dtype: int64"
      ]
     },
     "execution_count": 102,
     "metadata": {},
     "output_type": "execute_result"
    }
   ],
   "source": [
    "s"
   ]
  },
  {
   "cell_type": "code",
   "execution_count": 104,
   "id": "a2476e1c",
   "metadata": {},
   "outputs": [
    {
     "data": {
      "text/plain": [
       "Index(['Seatle', 'Seoul', 'San Hose', 'Beijing'], dtype='object')"
      ]
     },
     "execution_count": 104,
     "metadata": {},
     "output_type": "execute_result"
    }
   ],
   "source": [
    "s.index"
   ]
  },
  {
   "cell_type": "code",
   "execution_count": 105,
   "id": "bfff50b2",
   "metadata": {},
   "outputs": [
    {
     "data": {
      "text/plain": [
       "array([10000, 20000, 30000, 40000])"
      ]
     },
     "execution_count": 105,
     "metadata": {},
     "output_type": "execute_result"
    }
   ],
   "source": [
    "s.values"
   ]
  },
  {
   "cell_type": "code",
   "execution_count": 106,
   "id": "759525b7",
   "metadata": {},
   "outputs": [
    {
     "data": {
      "text/plain": [
       "40000"
      ]
     },
     "execution_count": 106,
     "metadata": {},
     "output_type": "execute_result"
    }
   ],
   "source": [
    "s['Beijing']"
   ]
  },
  {
   "cell_type": "code",
   "execution_count": 109,
   "id": "29101bb6",
   "metadata": {},
   "outputs": [
    {
     "data": {
      "text/plain": [
       "San Hose    30000\n",
       "Beijing     40000\n",
       "dtype: int64"
      ]
     },
     "execution_count": 109,
     "metadata": {},
     "output_type": "execute_result"
    }
   ],
   "source": [
    "s[s>20000]"
   ]
  },
  {
   "cell_type": "code",
   "execution_count": 110,
   "id": "44437122",
   "metadata": {},
   "outputs": [
    {
     "data": {
      "text/plain": [
       "Seatle      20000\n",
       "Seoul       40000\n",
       "San Hose    60000\n",
       "Beijing     80000\n",
       "dtype: int64"
      ]
     },
     "execution_count": 110,
     "metadata": {},
     "output_type": "execute_result"
    }
   ],
   "source": [
    "s*2"
   ]
  },
  {
   "cell_type": "code",
   "execution_count": 111,
   "id": "7eef986a",
   "metadata": {},
   "outputs": [
    {
     "data": {
      "text/plain": [
       "True"
      ]
     },
     "execution_count": 111,
     "metadata": {},
     "output_type": "execute_result"
    }
   ],
   "source": [
    "'Beijing'in s"
   ]
  },
  {
   "cell_type": "code",
   "execution_count": 112,
   "id": "1ea2fa65",
   "metadata": {},
   "outputs": [
    {
     "data": {
      "text/plain": [
       "False"
      ]
     },
     "execution_count": 112,
     "metadata": {},
     "output_type": "execute_result"
    }
   ],
   "source": [
    "'Japan'in s"
   ]
  },
  {
   "cell_type": "code",
   "execution_count": 113,
   "id": "be2bcaa5",
   "metadata": {},
   "outputs": [
    {
     "data": {
      "text/plain": [
       "Seatle      10000\n",
       "Seoul       20000\n",
       "San Hose    30000\n",
       "dtype: int64"
      ]
     },
     "execution_count": 113,
     "metadata": {},
     "output_type": "execute_result"
    }
   ],
   "source": [
    "s['Seatle':'San Hose']"
   ]
  },
  {
   "cell_type": "code",
   "execution_count": 115,
   "id": "7c0e1063",
   "metadata": {},
   "outputs": [
    {
     "data": {
      "text/plain": [
       "Seatle      10000\n",
       "San Hose    30000\n",
       "dtype: int64"
      ]
     },
     "execution_count": 115,
     "metadata": {},
     "output_type": "execute_result"
    }
   ],
   "source": [
    "s[['Seatle', 'San Hose']]"
   ]
  }
 ],
 "metadata": {
  "kernelspec": {
   "display_name": "Python 3 (ipykernel)",
   "language": "python",
   "name": "python3"
  },
  "language_info": {
   "codemirror_mode": {
    "name": "ipython",
    "version": 3
   },
   "file_extension": ".py",
   "mimetype": "text/x-python",
   "name": "python",
   "nbconvert_exporter": "python",
   "pygments_lexer": "ipython3",
   "version": "3.9.13"
  }
 },
 "nbformat": 4,
 "nbformat_minor": 5
}
